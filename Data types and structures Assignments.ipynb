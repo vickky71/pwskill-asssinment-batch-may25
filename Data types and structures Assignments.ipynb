{
 "cells": [
  {
   "cell_type": "markdown",
   "id": "d8a9b541-0544-4ab9-bf3f-8a2146b6f18c",
   "metadata": {},
   "source": [
    "# DATA TYPES AND STRUCTURES ASSESSMENT\n",
    "\n",
    "---"
   ]
  },
  {
   "cell_type": "markdown",
   "id": "0b4da02b-2394-463f-95e8-ca0e305e8af1",
   "metadata": {},
   "source": [
    "## Q1: What are data structures and why are they important?"
   ]
  },
  {
   "cell_type": "markdown",
   "id": "7b25696a-12cd-43ea-89e5-6cbed0f1ef40",
   "metadata": {},
   "source": [
    "## Ans:Data structures are foundational in computer science,enabling efficient data management,understanding them helps optimizing algorithms and solve complex problems.popular structures include arrays,linked lists,trees,and graphs ,each suited to specific use cases.in general,data structures are specialized formats for organizing,storing and managing data in a computer memory or storage to enable efficient access, modification and retrieval."
   ]
  },
  {
   "cell_type": "markdown",
   "id": "b76f7b24-c10d-40e2-b4ae-ceb65fa184ae",
   "metadata": {},
   "source": [
    "### Data structures are important because;\n",
    "**(a)** abstraction:- it simplifies complex operations.\n",
    "-\n",
    "**(b)** it is foundation for Cs and career demand(core to OS ,compilers and AI & key for coding interviews & roles in tech).\n",
    "-\n",
    "**(c)** efficiency:- it optimizes time and space complexity for faster algorithms. They help in writing efficient algorithms that use minimal time and memory.\n",
    "-\n",
    "**(d)** organization:- it also structures data logically for easier access and manipulation.\n",
    "-\n",
    "**(e)** scalability:- it can easily handles large datasets effectively(trees,hash tables).\n",
    "-\n",
    "**(f)** problem solving and resource management:-solve real world problems e.g, databases and also reduces CPU/memory usage with smart storage as a method of resource management.e.g, stack,heaps.\n",
    "-\n",
    "---"
   ]
  },
  {
   "cell_type": "markdown",
   "id": "fd05b941-c271-4125-8eab-9e2aa134e503",
   "metadata": {},
   "source": [
    "## Q2:Explain the difference between mutable and immutable data types with examples."
   ]
  },
  {
   "cell_type": "markdown",
   "id": "debee58d-8092-4eff-8d58-97f2235e061c",
   "metadata": {},
   "source": [
    "## Ans:**Mutable** data types can be changed after their creation i.e,they are editable.you can make changes when you need to update data without creating new objects. while on the other hand,**immutable** data types cannot be changed after their creation.any changes in immutable data will create a new object.\n",
    "**examples**\n",
    "#### mutable- list,dict,set.\n",
    "#### immutable- int,float,string,bool,tuple.\n",
    "\n",
    "---\n"
   ]
  },
  {
   "cell_type": "markdown",
   "id": "e3923207-a95a-4c2a-8605-77b031e8e511",
   "metadata": {},
   "source": [
    "## Q3:What are the main differences between lists and tuples in python?"
   ]
  },
  {
   "cell_type": "markdown",
   "id": "de438cae-3d9d-456b-ae85-f68977508102",
   "metadata": {},
   "source": [
    "## Ans:The main difference between lists and tuples are as given below;\n",
    "\n",
    "### (a) lists are mutable while tuples are immutable.\n",
    "### (b) [1,2,3] syntax is for lists while (1,2,3) syntax is for tuples.\n",
    "### (c) **list** shows slower performance with more flexibility while **tuples** are faster and more optimised.\n",
    "### (d) list have dynamic data while tuples have fixed  data.\n",
    "### (e) list uses more memory while tuples are memory efficient.\n",
    "### (f) list can be changed by mistake while tuples are safer from changes.\n",
    "### (g) list preffers many methods (append,remove) while tuples preffers only few methods (count,index).\n",
    "\n",
    "---\n",
    "        "
   ]
  },
  {
   "cell_type": "markdown",
   "id": "d2fb710a-b805-42f9-bd48-617656e5ed7e",
   "metadata": {},
   "source": [
    "\n",
    "## Q4:Describe how dictionaries store data?\n",
    "\n",
    "### Ans:a dictionary in a python stores data as key value pairs using a structure called the 'HASH TABLE'.They are versatile,unordered, and optimised for quick access and modification. each entry in a dict consists of a unique key and an associated value.key acts as identifiers while value stores the actual data.\n",
    "\n",
    "examples-\n",
    "\n",
    "student = {\n",
    "\"name\": \"Vickky\",\n",
    "\"age\": 27,\n",
    "\"grade\": A\n",
    "}\n",
    "\n",
    "Here, \"name\",\"age\",and \"grade\" denotes  keys, while \"Vickky\",\"27\" , and \"A\" denotes values.\n",
    "\n"
   ]
  },
  {
   "cell_type": "markdown",
   "id": "30c14325-66a6-4e41-8a5e-c11785429a19",
   "metadata": {},
   "source": [
    "\n",
    "---\n",
    "\n",
    "## Q5:Why might you use a set instead of a list in python?\n",
    "\n",
    "### Ans: there are many benefits of using a set instead of a list some of them are here;\n",
    "\n",
    "#### (i) To remove duplicates- set automatically removes duplicate elements whereas a list allows duplicate.\n",
    "#### (ii) Fast lookups- sets use hashing ,making membership checks,way faster than lists.\n",
    "#### (iii)Math operations- support intersections,differences ,and unions.\n",
    "#### (iv) Faster membership testing (x in set)- list takes longer time to check membership if the list is large.when you need to check item existence quickly, sets are very fast at this.\n",
    "\n",
    "\n",
    "\n",
    "\n"
   ]
  },
  {
   "cell_type": "markdown",
   "id": "27376ce4-13c2-459b-a8fa-b96b512d8fa0",
   "metadata": {},
   "source": [
    "\n",
    "---\n",
    "\n",
    "## Q6:What is string in python and how it is different from lists?\n",
    "\n",
    "### Ans: In python string is a sequence of characters enclosed with single quotes (' '), double quotes(\" \"), or triple quotes(''' ''')/(\"\"\" \"\"\"). these strings are immutable i.e, once created cannot be changed.\n",
    "\n",
    "### it is different from list because;\n",
    "\n",
    "#### (a) string stores a sequence of characters while list stores a sequence of any data types.\n",
    "#### (b) their syntax also make a huge difference between them.string uses quotes(\"hello world\") while list use square brackets([1,2, \"apple\"]).\n",
    "#### (c) string support text based operations while list support item based operations.\n",
    "#### (d) string cannot be changed after creation(immutable) while list can be modified(mutable).\n",
    "\n",
    "---\n",
    "\n"
   ]
  },
  {
   "cell_type": "markdown",
   "id": "32a27963-7274-4cd4-a86e-cde26dbf06d9",
   "metadata": {},
   "source": [
    "\n",
    "## Q7: How do tuples ensure data integrity in python?\n",
    "\n",
    "### Ans: Tuples insure data integrity because they are immutable.it means once it is created cannot be changed.this insures that data within a tuples remains constant and uncorrupted throughout your program.\n",
    "\n",
    "---"
   ]
  },
  {
   "cell_type": "markdown",
   "id": "fdf6d1b9-1ac4-438a-be2f-f0b5cd49d7b2",
   "metadata": {},
   "source": [
    "## Q8:What is a Hash table and how does it relate to dictionaries in python?\n",
    "\n",
    "### Ans: A hash table is like a special storage system where you can find things superfast.it takes a \"key\" (like a word) and turns it into a short code, which tells it exactly where to put or find the \"value\" linked to that key.python dictionaries use hash tables behind the scenes. this is why dictionaries are incredibly fast at looking up values when you give them a key.\n",
    "\n",
    "---\n"
   ]
  },
  {
   "cell_type": "markdown",
   "id": "422a12c7-3192-48b0-849c-f41e3fdc7275",
   "metadata": {},
   "source": [
    "## Q9:Can list contains different data in python ?\n",
    "\n",
    "### Ans: yes, python lists can hold different data types in the same list.for example, a list could contain a number,a list,or even another list.\n",
    "\n",
    "---\n"
   ]
  },
  {
   "cell_type": "markdown",
   "id": "48218dd7-442d-4bbc-8e83-1cef94f7be63",
   "metadata": {},
   "source": [
    "## Q10: Explain why strings are immutable in python.\n",
    "\n",
    "### Ans: Strings are immutable in python because you cannot change them after they are created. if you try to modify a character in a string,python actually creates a brand new string with the changes, instead of altering the original one in memory. this makes string reliable and safe,especially when shared between different parts of a program.\n",
    "\n",
    "---\n"
   ]
  },
  {
   "cell_type": "markdown",
   "id": "177104f9-c243-4b60-a6ac-e9ff5fa324e2",
   "metadata": {},
   "source": [
    "## Q11:What advantages do dictionaries offers over lists for certain tasks?\n",
    "\n",
    "### Ans: (a) Flexible keys- keys can be numbers ,strings ,or tuples unlike list indicates which are only integers.\n",
    "### (b) Structured data-Dictionaries store data as key value pairs, making them ideal for labelled data(e.g, {\"name\": \"Khushi\",  \"course\": \"Data analytics\"}).\n",
    "### (c) Fast lookups-you need to find a specific item very quickly by its name or label(the \"key\") rather than searching through a numbered list.\n",
    "### (d) No duplicate keys- \"dictionaries\" ensures unique identifiers,whereas list allows duplicates.\n",
    "\n",
    "---\n",
    "\n"
   ]
  },
  {
   "cell_type": "markdown",
   "id": "055c7581-d046-4819-a523-c041ed8c14ab",
   "metadata": {},
   "source": [
    "\n",
    "## Q12:Describe a scenario where using a tuple would be preferable over a list.\n",
    "\n",
    "### Ans:you would use a tuple when you have items that should never change like a birth date (date ,month,year).\n",
    "\n",
    "### - a tuple keep these items locked together so they can't be accidently altered while a list lets you change or remove items ,which you wouldn't want for something fixed like a birth date.\n",
    "\n",
    "---\n"
   ]
  },
  {
   "cell_type": "markdown",
   "id": "ecc9efb5-5dbc-467f-9da5-d5ecc18047d9",
   "metadata": {},
   "source": [
    "## Q13:How do sets handle duplicates values in python?\n",
    "\n",
    "### Ans: **sets** automatically removes duplicates.if you try to add an item that's already there, the set just ignore this by ensuring that every item is unique.sets ensures that only distinct values are stored.\n",
    "\n",
    "---\n"
   ]
  },
  {
   "cell_type": "markdown",
   "id": "1864dc65-6674-4792-ab00-27c851d7b105",
   "metadata": {},
   "source": [
    "\n",
    "## Q14:How does the \"in\" keyword  works differently for lists and dictionaries?\n",
    "\n",
    "### Ans:The \"in\" keyword checks for membership but its performance and behaviour differs between list and dictionaries due to their underlying data structures\n",
    "* in list the **in** keyword checks for the presence of a value by scanning each element sequentially(slower for large list).\n",
    " * in dictionaries the **in** keyword checks for the presence of a key(not value) using hash-based lookup(much-faster, O(1) average time."
   ]
  },
  {
   "cell_type": "markdown",
   "id": "450c3179-c617-4d06-a2f5-7b487f8d03a3",
   "metadata": {},
   "source": [
    "\n",
    "---\n",
    "\n",
    "## Q15:Can you modify the elements of a tuple? explain why or why not.\n",
    "\n",
    "### Ans:No you cannot modify the elements of a tuple after it is created.tuples are immutable meaning their content cannot be changed once defined.tuples are designed to be unchangeable for safety and efficiency.if you really need to modify data,convert the tuples to the list(mutable) and make changes and convert back to a tuple.\n",
    "\n",
    "---\n"
   ]
  },
  {
   "cell_type": "markdown",
   "id": "a5003a6e-a46b-4961-baaf-d6c4a569b89f",
   "metadata": {},
   "source": [
    "## Q16:What is a nested dictionary,and give an example of its use case?\n",
    "\n",
    "### Ans:A Nested dictionary is a dictionary that contains other dictionaries as values. In python,dictionaries can store any data types as value, including another dictionary."
   ]
  },
  {
   "cell_type": "code",
   "execution_count": 3,
   "id": "1f3cbbeb-845e-468f-a101-093db0d8430f",
   "metadata": {},
   "outputs": [
    {
     "name": "stdout",
     "output_type": "stream",
     "text": [
      "85\n"
     ]
    }
   ],
   "source": [
    "students = {\n",
    "    \"Vickky\": {\"history\": 90, \"polity\": 85},\n",
    "    \"Adarsh\": {\"history\": 78, \"polity\": 92}\n",
    "}\n",
    "\n",
    "print(students[\"Vickky\"][\"polity\"])  # Output: 85"
   ]
  },
  {
   "cell_type": "markdown",
   "id": "3d910838-4e1f-4ae0-a43b-5c3f15bb1ce9",
   "metadata": {},
   "source": [
    "\n",
    "---\n",
    "\n",
    "## Q17:Describe the time complexity of accessing elements in a dictionary.\n",
    "\n",
    "### Ans: The time complexity of accessing elements in a dictionary is,on average,O(1),constant time. this means that no matter how many items are in the dictionary,retrieving a value by its key generally takes the same amount of time.\n",
    "### in the worst case scenario, it can degrade to O(n)(linear time).if there are many hash collisions, but this is rare with well designed hash functions.\n",
    "\n",
    "---\n"
   ]
  },
  {
   "cell_type": "markdown",
   "id": "5a11521a-12d0-47b4-8040-0b3a2c4c5560",
   "metadata": {},
   "source": [
    "\n",
    "## Q18:In what situation list preffered over dictionaries?\n",
    "\n",
    " Ans:  lists are preferred over dictionaries when order matters .i.e, you need to maintain a specific sequence of items.\n",
    " *  also, items are unique,or their repetition is significant and you need to access them by position: you care about the first item,second item ,etc.\n",
    "*  here,you don't need named labels for items: a simple collection of values is sufficient\n",
    "\n",
    "---"
   ]
  },
  {
   "cell_type": "markdown",
   "id": "47378594-8ed9-41bd-a938-6622e428db23",
   "metadata": {},
   "source": [
    "## Q19:Why are dictionaries considered unordered,and how does that affect data retrieval?\n",
    "\n",
    "### Ans: dictionaries(dict) were officially unordered before python 3.7,while they  now preserve insertion order(as of python 3.7+).they are still conceptually unordered bacause:\n",
    "1. Hash tables under the hood-\n",
    "* dictionaries use a hash table to store keys, which scrambles key order for efficient lookups.\n",
    "* the order you insert keys doesn't determine their memory layout.\n",
    "2. No guaranteed order in early python version-\n",
    "* in python 3.6 and earlier, dictionaries didn't preserve insertion order.\n",
    "* code relying on order would break across python version.\n",
    "3.Mathematical sets are unordered\n",
    "* Dictionaries behave like mathematical hashmaps,where order is irrelevant.\n",
    "\n",
    "### ** How does this affect data retrieval** :-\n",
    "\n",
    "1.Consistency across python version-\n",
    "* code written for python 3.7+ might fail in older versions if order is assummed.\n",
    "\n",
    "2. Performance optimization-\n",
    "* hash tables reorder keys internally to minimize collisions.\n",
    "* iteration order might change if the dictionary is modified.\n",
    "\n",
    "3.Logical assumptions-\n",
    "* dictionaries are optimised for key-based lookups,not positional access.\n",
    "\n",
    "---\n",
    "  "
   ]
  },
  {
   "cell_type": "markdown",
   "id": "ff8eeb15-c6d4-47dd-9107-e2135f648c79",
   "metadata": {},
   "source": [
    "\n",
    "## Q20:Explain the difference between a list and a dictionary in terms of data retrieval.\n",
    "\n",
    "### Ans:The differences between list and dictionary in terms of data retrieval are :-\n",
    "\n",
    "1.Access method:-\n",
    "* list- accessed by index(position)(O(1) average,O(n)worst-case).\n",
    "* Dictionary- Accessed by key(O(1)average, O(n)worst case).\n",
    "\n",
    "2. Search efficiency:-\n",
    "* List-checking if an item exists (in operator) is O(n)(slow for large list).\n",
    "* Dictionary-checking if a key exists(in operator) is O(1) (very fast).\n",
    "\n",
    "3. Order guarantees:-\n",
    "* lists:- strictly ordered(items stay in insertion order).\n",
    "* Dictionary:-\n",
    "** python 3.7+: preserves insertion order(but still optimised for key based access).\n",
    "** pre 3.7: no order guarantee(keys could appear randomly).\n",
    "\n",
    "---\n",
    "  "
   ]
  },
  {
   "cell_type": "markdown",
   "id": "4f4024fb-bfd9-460d-ad69-e5fcd3c4b378",
   "metadata": {},
   "source": [
    "# PRACTICAL QUESTIONS\n",
    "\n",
    "----"
   ]
  },
  {
   "cell_type": "markdown",
   "id": "3041e596-9dfe-411e-a642-4da48176acbc",
   "metadata": {},
   "source": [
    "### Q1:Write a code to create a string with your name and print it."
   ]
  },
  {
   "cell_type": "code",
   "execution_count": 2,
   "id": "99110a54-4b6b-4484-b72a-59d164cfd915",
   "metadata": {},
   "outputs": [
    {
     "name": "stdout",
     "output_type": "stream",
     "text": [
      "Vickky Mohan\n"
     ]
    }
   ],
   "source": [
    "my_name = \"Vickky Mohan\"\n",
    "print(my_name)"
   ]
  },
  {
   "cell_type": "markdown",
   "id": "d647afa9-d56b-442a-8036-b29046b0f39c",
   "metadata": {},
   "source": [
    "\n",
    "---\n",
    "\n",
    "### Q2:Write a code to find the length of the string \"Hello World\"."
   ]
  },
  {
   "cell_type": "code",
   "execution_count": 4,
   "id": "04a9270b-d347-449f-8014-c5c91eade3d6",
   "metadata": {},
   "outputs": [
    {
     "name": "stdout",
     "output_type": "stream",
     "text": [
      "11\n"
     ]
    }
   ],
   "source": [
    "my_string = \"Hello World\"\n",
    "length = len(my_string)\n",
    "print(length)"
   ]
  },
  {
   "cell_type": "markdown",
   "id": "5b43a041-6550-477a-b2d0-4fba9f91269e",
   "metadata": {},
   "source": [
    "\n",
    "---\n",
    "\n",
    "### Q3:Write a code to slice the first 3 characters from the string \"Python Programming\"."
   ]
  },
  {
   "cell_type": "code",
   "execution_count": 5,
   "id": "84dd30fc-ecc4-4153-bfe4-4eddf26852cc",
   "metadata": {},
   "outputs": [
    {
     "name": "stdout",
     "output_type": "stream",
     "text": [
      "Pyt\n"
     ]
    }
   ],
   "source": [
    "my_string = \"Python Programming\"\n",
    "first_three_chars = my_string[0:3] # or simply my_string[:3]\n",
    "print(first_three_chars)"
   ]
  },
  {
   "cell_type": "markdown",
   "id": "71006527-db68-48dd-9234-ae183bfdc75c",
   "metadata": {},
   "source": [
    "\n",
    "---\n",
    "\n",
    "### Q4:Write a code to convert the string \"hello\" to uppercase."
   ]
  },
  {
   "cell_type": "code",
   "execution_count": 6,
   "id": "f274b4f6-b2e4-4538-a7c5-bb1dd9197d2f",
   "metadata": {},
   "outputs": [
    {
     "name": "stdout",
     "output_type": "stream",
     "text": [
      "HELLO\n"
     ]
    }
   ],
   "source": [
    "my_string = \"hello\"\n",
    "uppercase_string = my_string.upper()\n",
    "print(uppercase_string)"
   ]
  },
  {
   "cell_type": "markdown",
   "id": "1cb12fbf-d00c-4716-9cb5-859ad39f2b26",
   "metadata": {},
   "source": [
    "\n",
    "---\n",
    "\n",
    "### Q5:Write a code to replace the word \"apple\" with \"orange\" in the string \"I like apple\"."
   ]
  },
  {
   "cell_type": "code",
   "execution_count": 7,
   "id": "4160a7fd-5716-4fe8-a9a7-e8290a643496",
   "metadata": {},
   "outputs": [
    {
     "name": "stdout",
     "output_type": "stream",
     "text": [
      "I like orange\n"
     ]
    }
   ],
   "source": [
    "my_string = \"I like apple\"\n",
    "new_string = my_string.replace(\"apple\", \"orange\")\n",
    "print(new_string)"
   ]
  },
  {
   "cell_type": "markdown",
   "id": "746b2248-91da-43ed-ac24-75dbee64194b",
   "metadata": {},
   "source": [
    "\n",
    "---\n",
    "\n",
    "### Q6:Write a code to create a list with numbers 1 to 5 and print it."
   ]
  },
  {
   "cell_type": "code",
   "execution_count": 8,
   "id": "3c28734e-8c2a-486e-944a-56f926f3f3cf",
   "metadata": {},
   "outputs": [
    {
     "name": "stdout",
     "output_type": "stream",
     "text": [
      "[1, 2, 3, 4, 5]\n"
     ]
    }
   ],
   "source": [
    "my_list = [1, 2, 3, 4, 5]\n",
    "print(my_list)"
   ]
  },
  {
   "cell_type": "markdown",
   "id": "c3a0cbbe-3e29-4691-9cd7-b73cc6ef7519",
   "metadata": {},
   "source": [
    "\n",
    "---\n",
    "\n",
    "### Q7:Write a code to append the number 10 to the list [1, 2, 3, 4]."
   ]
  },
  {
   "cell_type": "code",
   "execution_count": 9,
   "id": "5f3a2dd9-8eec-418f-b29f-bd73cb60a0ce",
   "metadata": {},
   "outputs": [
    {
     "name": "stdout",
     "output_type": "stream",
     "text": [
      "[1, 2, 3, 4, 10]\n"
     ]
    }
   ],
   "source": [
    "my_list = [1, 2, 3, 4]\n",
    "my_list.append(10)\n",
    "print(my_list)"
   ]
  },
  {
   "cell_type": "markdown",
   "id": "c5fe62a4-bff4-4da7-ae2b-26f125d70852",
   "metadata": {},
   "source": [
    "\n",
    "---\n",
    "\n",
    "### Q8:Write a code to remove the number 3 from the list [1, 2, 3, 4, 5]."
   ]
  },
  {
   "cell_type": "code",
   "execution_count": 10,
   "id": "4d44d387-82a9-4a58-8b1a-f557c96de193",
   "metadata": {},
   "outputs": [
    {
     "name": "stdout",
     "output_type": "stream",
     "text": [
      "[1, 2, 4, 5]\n"
     ]
    }
   ],
   "source": [
    "my_list = [1, 2, 3, 4, 5]\n",
    "my_list.remove(3)\n",
    "print(my_list)"
   ]
  },
  {
   "cell_type": "markdown",
   "id": "bfb0d683-d56a-4654-9c70-734069a74730",
   "metadata": {},
   "source": [
    "\n",
    "---\n",
    "\n",
    "### Q9:Write a code to access the second element in the list ['a', 'b', 'c', 'd']."
   ]
  },
  {
   "cell_type": "code",
   "execution_count": 11,
   "id": "b070389c-3df8-46d0-a33b-6ba44143d2c3",
   "metadata": {},
   "outputs": [
    {
     "name": "stdout",
     "output_type": "stream",
     "text": [
      "b\n"
     ]
    }
   ],
   "source": [
    "my_list = ['a', 'b', 'c', 'd']\n",
    "second_element = my_list[1] # Lists use 0-based indexing, so the second element is at index 1\n",
    "print(second_element)"
   ]
  },
  {
   "cell_type": "markdown",
   "id": "c96388f6-de7b-46c4-a687-b160436d089e",
   "metadata": {},
   "source": [
    "\n",
    "---\n",
    "\n",
    "### Q10:Write a code to reverse the list [10, 20, 30, 40, 50]."
   ]
  },
  {
   "cell_type": "code",
   "execution_count": 12,
   "id": "ed9a493a-9ccf-401e-85bf-1ec693d9c7a6",
   "metadata": {},
   "outputs": [
    {
     "name": "stdout",
     "output_type": "stream",
     "text": [
      "[50, 40, 30, 20, 10]\n"
     ]
    }
   ],
   "source": [
    "my_list = [10, 20, 30, 40, 50]\n",
    "my_list.reverse() # This reverses the list in-place\n",
    "print(my_list)"
   ]
  },
  {
   "cell_type": "markdown",
   "id": "51963f9f-6fd3-40ce-9ca7-162a29b6a2b1",
   "metadata": {},
   "source": [
    "\n",
    "---\n",
    "\n",
    "### Q11:Write a code to create a tuple with the elements 100, 200, 300 and print it."
   ]
  },
  {
   "cell_type": "code",
   "execution_count": 13,
   "id": "a3e66fbb-0a8d-4b92-ab4d-8582547dfd17",
   "metadata": {},
   "outputs": [
    {
     "name": "stdout",
     "output_type": "stream",
     "text": [
      "(100, 200, 300)\n"
     ]
    }
   ],
   "source": [
    "my_tuple = (100, 200, 300)\n",
    "print(my_tuple)"
   ]
  },
  {
   "cell_type": "markdown",
   "id": "6f426e24-ebbd-4b81-92be-70f76e1d1081",
   "metadata": {},
   "source": [
    "\n",
    "---\n",
    "\n",
    "### Q12:Write a code to access the second-to-last element of the tuple ('red', 'green', 'blue', 'yellow')."
   ]
  },
  {
   "cell_type": "code",
   "execution_count": 14,
   "id": "28e7365b-c946-4bbd-b933-061d9964e0eb",
   "metadata": {},
   "outputs": [
    {
     "name": "stdout",
     "output_type": "stream",
     "text": [
      "blue\n"
     ]
    }
   ],
   "source": [
    "my_tuple = ('red', 'green', 'blue', 'yellow')\n",
    "second_to_last_element = my_tuple[-2] # Negative indexing starts from the end, so -1 is the last, -2 is second to last\n",
    "print(second_to_last_element)"
   ]
  },
  {
   "cell_type": "markdown",
   "id": "d6894f45-d3cd-41e7-8b37-7241db841271",
   "metadata": {},
   "source": [
    "\n",
    "---\n",
    "\n",
    "### Q13:Write a code to find the minimum number in the tuple (10, 20, 5, 15)."
   ]
  },
  {
   "cell_type": "code",
   "execution_count": 15,
   "id": "c31c389e-8a22-4e7e-8c1b-354c9f798a68",
   "metadata": {},
   "outputs": [
    {
     "name": "stdout",
     "output_type": "stream",
     "text": [
      "5\n"
     ]
    }
   ],
   "source": [
    "my_tuple = (10, 20, 5, 15)\n",
    "minimum_number = min(my_tuple)\n",
    "print(minimum_number)"
   ]
  },
  {
   "cell_type": "markdown",
   "id": "20f9c4b7-af79-4d6b-b7b9-a5dd21c14e33",
   "metadata": {},
   "source": [
    "\n",
    "---\n",
    "\n",
    "### Q.14.  Write a code to find the index of the element \"cat\" in the tuple ('dog', 'cat', 'rabbit')."
   ]
  },
  {
   "cell_type": "code",
   "execution_count": 16,
   "id": "6b9323c1-770c-4bdc-9f62-e8474252046f",
   "metadata": {},
   "outputs": [
    {
     "name": "stdout",
     "output_type": "stream",
     "text": [
      "1\n"
     ]
    }
   ],
   "source": [
    "my_tuple = ('dog', 'cat', 'rabbit')\n",
    "index_of_cat = my_tuple.index('cat')\n",
    "print(index_of_cat)"
   ]
  },
  {
   "cell_type": "markdown",
   "id": "9473d732-f843-422c-9ace-122ff7da011e",
   "metadata": {},
   "source": [
    "\n",
    "---\n",
    "### Q.15. Write a code to create a tuple containing three different fruits and check if \"kiwi\" is in it."
   ]
  },
  {
   "cell_type": "code",
   "execution_count": 17,
   "id": "ddfb6776-38ea-49b8-a408-6872167d05df",
   "metadata": {},
   "outputs": [
    {
     "name": "stdout",
     "output_type": "stream",
     "text": [
      "False\n"
     ]
    }
   ],
   "source": [
    "fruits_tuple = (\"apple\", \"banana\", \"orange\")\n",
    "is_kiwi_in_tuple = \"kiwi\" in fruits_tuple\n",
    "print(is_kiwi_in_tuple)"
   ]
  },
  {
   "cell_type": "markdown",
   "id": "25e44645-71e0-47bd-8bbc-b663d118617d",
   "metadata": {},
   "source": [
    "\n",
    "---\n",
    "\n",
    "### Q.16. Write a code to create a set with the elements 'a', 'b', 'c' and print it."
   ]
  },
  {
   "cell_type": "code",
   "execution_count": 18,
   "id": "f2f51cfb-65b8-4cde-8241-0424c8980845",
   "metadata": {},
   "outputs": [
    {
     "name": "stdout",
     "output_type": "stream",
     "text": [
      "{'a', 'b', 'c'}\n"
     ]
    }
   ],
   "source": [
    "my_set = {'a', 'b', 'c'}\n",
    "print(my_set)"
   ]
  },
  {
   "cell_type": "markdown",
   "id": "84ea322b-7fc6-438d-8c35-16884e7d526c",
   "metadata": {},
   "source": [
    "\n",
    "---\n",
    "\n",
    "### Q.17. Write a code to clear all elements from the set {1, 2, 3, 4, 5}."
   ]
  },
  {
   "cell_type": "code",
   "execution_count": 19,
   "id": "8ca51f8e-bab2-4b29-8e67-76518d7e1630",
   "metadata": {},
   "outputs": [
    {
     "name": "stdout",
     "output_type": "stream",
     "text": [
      "set()\n"
     ]
    }
   ],
   "source": [
    "my_set = {1, 2, 3, 4, 5}\n",
    "my_set.clear()\n",
    "print(my_set)"
   ]
  },
  {
   "cell_type": "markdown",
   "id": "f1025789-8868-4a44-8199-62b2d98a25eb",
   "metadata": {},
   "source": [
    "\n",
    "---\n",
    "\n",
    "### Q.18. Write a code to remove the element 4 from the set {1, 2, 3, 4}."
   ]
  },
  {
   "cell_type": "code",
   "execution_count": 20,
   "id": "7beec6a6-4e5c-461b-a035-7a711aa2f59a",
   "metadata": {},
   "outputs": [
    {
     "name": "stdout",
     "output_type": "stream",
     "text": [
      "{1, 2, 3}\n"
     ]
    }
   ],
   "source": [
    "my_set = {1, 2, 3, 4}\n",
    "my_set.remove(4)\n",
    "print(my_set)"
   ]
  },
  {
   "cell_type": "markdown",
   "id": "40bafc31-42cb-47c9-924d-8948591b3ff5",
   "metadata": {},
   "source": [
    "\n",
    "---\n",
    "\n",
    "### Q.19. Write a code to find the union of two sets {1, 2, 3} and {3, 4, 5}."
   ]
  },
  {
   "cell_type": "code",
   "execution_count": 21,
   "id": "4a68688d-270b-45eb-9704-f96ea3f61b51",
   "metadata": {},
   "outputs": [
    {
     "name": "stdout",
     "output_type": "stream",
     "text": [
      "{1, 2, 3, 4, 5}\n"
     ]
    }
   ],
   "source": [
    "set1 = {1, 2, 3}\n",
    "set2 = {3, 4, 5}\n",
    "union_set = set1.union(set2) # Or set1 | set2\n",
    "print(union_set)"
   ]
  },
  {
   "cell_type": "markdown",
   "id": "9ab63ad1-6fef-46f8-89de-e4fb1ebdc652",
   "metadata": {},
   "source": [
    "\n",
    "---\n",
    "\n",
    "### Q.20. Write a code to find the intersection of two sets {1, 2, 3} and {2, 3, 4}."
   ]
  },
  {
   "cell_type": "code",
   "execution_count": 22,
   "id": "fabe19e8-66bf-4db4-9c53-b353b48baadc",
   "metadata": {},
   "outputs": [
    {
     "name": "stdout",
     "output_type": "stream",
     "text": [
      "{2, 3}\n"
     ]
    }
   ],
   "source": [
    "set1 = {1, 2, 3}\n",
    "set2 = {2, 3, 4}\n",
    "intersection_set = set1.intersection(set2) # Or set1 & set2\n",
    "print(intersection_set)"
   ]
  },
  {
   "cell_type": "markdown",
   "id": "a804d431-b994-4be5-aaf8-a9c111e5b983",
   "metadata": {},
   "source": [
    "\n",
    "---\n",
    "\n",
    "### Q.21. Write a code to create a dictionary with the keys \"name\", \"age\", and \"city\", and print it."
   ]
  },
  {
   "cell_type": "code",
   "execution_count": 23,
   "id": "a3978e38-c988-4f2f-b80d-a33dfb805328",
   "metadata": {},
   "outputs": [
    {
     "name": "stdout",
     "output_type": "stream",
     "text": [
      "{'name': 'Vickky Mohan', 'age': 27, 'District': 'Samastipur'}\n"
     ]
    }
   ],
   "source": [
    "my_dict = {\n",
    "    \"name\": \"Vickky Mohan\",\n",
    "    \"age\": 27,\n",
    "    \"District\": \"Samastipur\"\n",
    "}\n",
    "print(my_dict)"
   ]
  },
  {
   "cell_type": "markdown",
   "id": "7c72593b-0965-4d8e-a21d-daef3ccbfa98",
   "metadata": {},
   "source": [
    "\n",
    "---\n",
    "\n",
    "### Q.22. Write a code to add a new key-value pair \"country\": \"USA\" to the dictionary {'name': 'John', 'age': 25}\n",
    "\n"
   ]
  },
  {
   "cell_type": "code",
   "execution_count": 24,
   "id": "6ae14597-7b5a-4285-8b47-34c5e041f686",
   "metadata": {},
   "outputs": [
    {
     "name": "stdout",
     "output_type": "stream",
     "text": [
      "{'name': 'John', 'age': 25, 'country': 'USA'}\n"
     ]
    }
   ],
   "source": [
    "my_dict = {'name': 'John', 'age': 25}\n",
    "my_dict[\"country\"] = \"USA\"\n",
    "print(my_dict)"
   ]
  },
  {
   "cell_type": "markdown",
   "id": "8ffd855e-ef7a-466d-98de-2c165dee8932",
   "metadata": {},
   "source": [
    "\n",
    "---\n",
    "\n",
    "### Q.23. Write a code to access the value associated with the key \"name\" in the dictionary {'name': 'Alice', 'age': 30}"
   ]
  },
  {
   "cell_type": "code",
   "execution_count": 25,
   "id": "3b2e7f77-b957-4432-ad35-9b8618e45268",
   "metadata": {},
   "outputs": [
    {
     "name": "stdout",
     "output_type": "stream",
     "text": [
      "Alice\n"
     ]
    }
   ],
   "source": [
    "my_dict = {'name': 'Alice', 'age': 30}\n",
    "name_value = my_dict[\"name\"]\n",
    "print(name_value)"
   ]
  },
  {
   "cell_type": "markdown",
   "id": "747a19e3-14a4-4453-b205-7545b6bd6268",
   "metadata": {},
   "source": [
    "\n",
    "---\n",
    "\n",
    "### Q.24. Write a code to remove the key \"age\" from the dictionary {'name': 'Bob', 'age': 22, 'city': 'New York'}."
   ]
  },
  {
   "cell_type": "code",
   "execution_count": 26,
   "id": "0cde7da7-aefc-480e-80e7-3159dbaf3f4a",
   "metadata": {},
   "outputs": [
    {
     "name": "stdout",
     "output_type": "stream",
     "text": [
      "{'name': 'Bob', 'city': 'New York'}\n"
     ]
    }
   ],
   "source": [
    "my_dict = {'name': 'Bob', 'age': 22, 'city': 'New York'}\n",
    "\n",
    "# Method 1: Using del keyword\n",
    "del my_dict['age']\n",
    "print(my_dict)  # Output: {'name': 'Bob', 'city': 'New York"
   ]
  },
  {
   "cell_type": "markdown",
   "id": "2f247b4e-3c0c-4a3c-b323-3fb830583494",
   "metadata": {},
   "source": [
    "\n",
    "---\n",
    "\n",
    "### Q.25. Write a code to check if the key \"city\" exists in the dictionary {'name': 'Alice', 'city': 'Paris'}."
   ]
  },
  {
   "cell_type": "code",
   "execution_count": 27,
   "id": "9bab9499-e35a-4da6-b61c-a4812b631908",
   "metadata": {},
   "outputs": [
    {
     "name": "stdout",
     "output_type": "stream",
     "text": [
      "Yes, 'city' is there.\n"
     ]
    }
   ],
   "source": [
    "my_dict = {'name': 'Alice', 'city': 'Paris'}\n",
    "\n",
    "if \"city\" in my_dict:\n",
    "    print(\"Yes, 'city' is there.\")\n",
    "else:\n",
    "    print(\"No, 'city' is not there.\")"
   ]
  },
  {
   "cell_type": "markdown",
   "id": "ace784b7-4bc7-4ff6-b1f7-0a2c66c406fb",
   "metadata": {},
   "source": [
    "\n",
    "---\n",
    "\n",
    "### Q.26. Write a code to create a list, a tuple, and a dictionary, and print them all."
   ]
  },
  {
   "cell_type": "code",
   "execution_count": 28,
   "id": "72350345-23cf-45d4-8ff4-7b7fc6b9a56e",
   "metadata": {},
   "outputs": [
    {
     "name": "stdout",
     "output_type": "stream",
     "text": [
      "[1, 2]\n",
      "(3, 4)\n",
      "{'a': 5}\n"
     ]
    }
   ],
   "source": [
    "my_list = [1, 2]\n",
    "my_tuple = (3, 4)\n",
    "my_dict = {\"a\": 5}\n",
    "\n",
    "print(my_list)\n",
    "print(my_tuple)\n",
    "print(my_dict)"
   ]
  },
  {
   "cell_type": "markdown",
   "id": "99be93f0-6b70-402f-b2dd-e656bb3c6d2f",
   "metadata": {},
   "source": [
    "\n",
    "---\n",
    "\n",
    "### Q.27. Write a code to create a list of 5 random numbers between 1 and 100, sort it in ascending order, and print the result.(replaced)"
   ]
  },
  {
   "cell_type": "code",
   "execution_count": 29,
   "id": "05741d3b-2019-49d5-9db0-f6f311ca6773",
   "metadata": {},
   "outputs": [
    {
     "name": "stdout",
     "output_type": "stream",
     "text": [
      "[15, 20, 21, 29, 51]\n"
     ]
    }
   ],
   "source": [
    "import random\n",
    "\n",
    "# Get 5 random numbers\n",
    "numbers = [random.randint(1, 100) for _ in range(5)]\n",
    "\n",
    "# Arrange them smallest to largest\n",
    "numbers.sort()\n",
    "\n",
    "# Show the numbers\n",
    "print(numbers)"
   ]
  },
  {
   "cell_type": "markdown",
   "id": "9921ad8b-ad58-4b32-b5f0-4e9d77caa8da",
   "metadata": {},
   "source": [
    "\n",
    "---\n",
    "\n",
    "### Q.28. Write a code to create a list with strings and print the element at the third index."
   ]
  },
  {
   "cell_type": "code",
   "execution_count": 30,
   "id": "18986f8c-d157-47bb-a3e0-d60208a171fa",
   "metadata": {},
   "outputs": [
    {
     "name": "stdout",
     "output_type": "stream",
     "text": [
      "date\n"
     ]
    }
   ],
   "source": [
    "my_list = [\"apple\", \"banana\", \"cherry\", \"date\", \"elderberry\"]\n",
    "\n",
    "# Print the element at the third index (remembering that indexing starts at 0)\n",
    "print(my_list[3])"
   ]
  },
  {
   "cell_type": "markdown",
   "id": "771881c9-2fbf-41db-aa4e-8dd89aa820e6",
   "metadata": {},
   "source": [
    "\n",
    "---\n",
    "\n",
    "### Q29:Write a code to combine two dictionaries into one and print the result."
   ]
  },
  {
   "cell_type": "code",
   "execution_count": 31,
   "id": "3aa99e56-a409-4ed5-b661-75941afd9013",
   "metadata": {},
   "outputs": [
    {
     "name": "stdout",
     "output_type": "stream",
     "text": [
      "{'name': 'Vickky', 'age': 27, 'town': 'Samastipur', 'hobbies': 'Singing'}\n"
     ]
    }
   ],
   "source": [
    "dict1 = {'name': 'Vickky', 'age': 27}\n",
    "dict2 = {'town': 'Samastipur', 'hobbies': 'singing'}\n",
    "\n",
    "# Combine the dictionaries\n",
    "combined_dict = {**dict1, **dict2}\n",
    "\n",
    "# Print the result\n",
    "print(combined_dict)"
   ]
  },
  {
   "cell_type": "markdown",
   "id": "7484b75b-de0b-48e6-978e-3598f80a4811",
   "metadata": {},
   "source": [
    "\n",
    "---\n",
    "\n",
    "### Q.30. Write a code to convert a list of strings into a set."
   ]
  },
  {
   "cell_type": "code",
   "execution_count": 32,
   "id": "0e08153b-028b-486e-b7a7-cd31acef4ef8",
   "metadata": {},
   "outputs": [
    {
     "name": "stdout",
     "output_type": "stream",
     "text": [
      "{'banana', 'date', 'apple', 'cherry'}\n"
     ]
    }
   ],
   "source": [
    "my_list = [\"apple\", \"banana\", \"cherry\", \"apple\", \"date\"]\n",
    "\n",
    "# Convert the list to a set\n",
    "my_set = set(my_list)\n",
    "\n",
    "# Print the result\n",
    "print(my_set)"
   ]
  },
  {
   "cell_type": "code",
   "execution_count": null,
   "id": "c678537c-aa0e-4045-87e2-d5257e659bcf",
   "metadata": {},
   "outputs": [],
   "source": []
  }
 ],
 "metadata": {
  "kernelspec": {
   "display_name": "Python 3 (ipykernel)",
   "language": "python",
   "name": "python3"
  },
  "language_info": {
   "codemirror_mode": {
    "name": "ipython",
    "version": 3
   },
   "file_extension": ".py",
   "mimetype": "text/x-python",
   "name": "python",
   "nbconvert_exporter": "python",
   "pygments_lexer": "ipython3",
   "version": "3.12.7"
  }
 },
 "nbformat": 4,
 "nbformat_minor": 5
}
