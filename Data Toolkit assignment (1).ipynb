{
 "cells": [
  {
   "cell_type": "markdown",
   "id": "b5681fcc-04c3-41f9-8535-8cb068383541",
   "metadata": {},
   "source": [
    "# DATA TOOLKIT THEORY QUESTIONS\n",
    "\n",
    "---"
   ]
  },
  {
   "cell_type": "markdown",
   "id": "9b873398-86f8-47b0-b056-20faa43fd8b5",
   "metadata": {},
   "source": [
    "## 1. What is NumPy, and why is it widely used in Python?\n",
    "\n",
    "### **NumPy** (Numerical Python) is a Python library used for **fast numerical computations**. It provides powerful support for **multi-dimensional arrays** and **mathematical operations**.\n",
    "\n",
    "###  Why is it widely used?\n",
    "\n",
    "* **Faster** than regular Python for numerical tasks (uses C under the hood).\n",
    "* Supports **vectorized operations** (no need for loops).\n",
    "* Offers functions for **linear algebra, statistics, and more**.\n",
    "* It is the **foundation** for libraries like **Pandas, SciPy, and TensorFlow**.\n",
    "* Handles large datasets efficiently with **low memory usage**.\n",
    "\n",
    "> It's essential for data analysis, machine learning, and scientific computing.\n",
    "\n",
    "---\n"
   ]
  },
  {
   "cell_type": "markdown",
   "id": "fbf8f394-4def-4ac4-a74b-f9664fe7d76c",
   "metadata": {},
   "source": [
    "## 2.How does broadcasting work in NumPy?\n",
    "\n",
    "### Broadcasting lets NumPy do math on arrays of different shapes by automatically expanding dimensions when possible.Broadcasting in NumPy allows operations between arrays of different shapes by automatically expanding them so they match in shape.\n",
    "\n",
    "* How it works:\n",
    " If two arrays don’t have the same shape:\n",
    "\n",
    ">NumPy tries to stretch the smaller array along the missing dimension(s).\n",
    "\n",
    ">It works only if the dimensions are either equal or one of them is 1."
   ]
  },
  {
   "cell_type": "markdown",
   "id": "4afe7c13-c787-4619-b2bf-f1ecc92e2148",
   "metadata": {},
   "source": [
    "## 3.What is a Pandas DataFrame?\n",
    "\n",
    "### A **Pandas DataFrame** is a **2D table-like data structure** in Python with **rows and columns**.\n",
    "> It can hold **different data types**, is easy to **analyze and manipulate**, and is widely used in **data analysis** and **machine learning**.\n",
    "\n",
    "---\n"
   ]
  },
  {
   "cell_type": "markdown",
   "id": "5fe7ba5b-48db-4ffa-9822-9769e7772ffa",
   "metadata": {},
   "source": [
    "## 4. Explain the use of the groupby() method in Pandas.\n",
    "\n",
    "### groupby() helps you split, apply, and combine data efficiently for group-level analysis.The groupby() method in Pandas is used to group data based on one or more columns, and then apply functions like sum(), mean(), count(), etc., on each group.\n",
    "\n",
    " **Why it's useful**:\n",
    ">Quickly summarizes and analyzes group-wise data\n",
    "\n",
    ">Ideal for reporting, pivoting, and aggregations\n",
    "\n",
    "---"
   ]
  },
  {
   "cell_type": "markdown",
   "id": "855df213-d076-4d93-b240-aa6e2d9eb519",
   "metadata": {},
   "source": [
    "## 5.Why is Seaborn preferred for statistical visualizations?\n",
    "\n",
    "### Seaborn is preferred because it makes statistical data easier to visualize, with less code and better visuals.Seaborn is preferred because it makes statistical plots in Python easier, prettier, and more informative.\n",
    "\n",
    "> KEY CONCEPTS\n",
    "* Built-in statistical plots (like box plots, violin plots, heatmaps).\n",
    "\n",
    "* Simpler syntax than Matplotlib.\n",
    "\n",
    "* Automatically handles grouping, aggregation, and styling.\n",
    "\n",
    "* Beautiful default themes for professional-looking charts.\n",
    "\n",
    "* Integrates well with Pandas DataFrames.\n",
    "\n",
    "---"
   ]
  },
  {
   "cell_type": "markdown",
   "id": "35720be9-3d4c-4c06-bef0-b340991de8e7",
   "metadata": {},
   "source": [
    "## 6.What are the differences between NumPy arrays and Python lists?\n",
    "\n",
    "###  **Differences Between NumPy Arrays and Python Lists**\n",
    "\n",
    "#### **1. Speed and Performance**\n",
    "\n",
    "* NumPy arrays are **much faster** for large data operations.\n",
    "* They use **compiled C code** in the background, making calculations efficient.\n",
    "* Python lists are **slower**, especially for mathematical tasks, due to looping in Python.\n",
    "\n",
    "#### **2. Data Type Consistency**\n",
    "\n",
    "* NumPy arrays are **homogeneous**: all elements must be of the **same data type** (int, float, etc.).\n",
    "* Python lists are **heterogeneous**: can store **mixed data types** (int, str, float in one list).\n",
    "\n",
    "#### **3. Mathematical Operations**\n",
    "\n",
    "* NumPy supports **vectorized operations** (e.g., `array1 + array2` adds each element).\n",
    "* Python lists **do not support vector math** directly; you need `for` loops or list comprehensions.\n",
    "\n",
    "#### **4. Memory Usage**\n",
    "\n",
    "* NumPy arrays are **more memory-efficient** due to compact data storage.\n",
    "* Lists store references to objects, consuming **more memory**.\n",
    "\n",
    "#### **5. Functionality and Tools**\n",
    "\n",
    "* NumPy has many built-in functions for:\n",
    "\n",
    "  * **Linear algebra** (dot product, matrix multiplication)\n",
    "  * **Statistics** (mean, median, std)\n",
    "  * **Random number generation**, etc.\n",
    "* Python lists only support basic operations like append, remove, sort, etc.\n",
    "\n",
    "#### **6. Shape and Dimensions**\n",
    "\n",
    "* NumPy arrays support **multi-dimensional arrays** (1D, 2D, 3D, etc.).\n",
    "* Lists can be nested to form 2D or 3D structures, but they're harder to manage and less efficient.\n",
    "\n",
    "#### **7. Broadcasting Support**\n",
    "\n",
    "* NumPy arrays support **broadcasting**, allowing operations between arrays of different shapes.\n",
    "* Python lists do **not** support broadcasting.\n",
    "\n",
    "### **Summary:**\n",
    "\n",
    "> Use **NumPy arrays** when working with large datasets and numerical tasks for **speed, efficiency**, and **advanced math support**. Use **Python lists** for general-purpose programming and mixed-type storage.\n",
    "\n",
    "---\n"
   ]
  },
  {
   "cell_type": "markdown",
   "id": "a440e02c-718c-4d55-949b-4970a1632422",
   "metadata": {},
   "source": [
    "## 7. What is a heatmap, and when should it be used?\n",
    "\n",
    "### A **heatmap** is a **data visualization** tool that uses **color shades** to represent values in a **2D matrix or table**.\n",
    "Each cell’s color reflects the **magnitude or intensity** of the value.\n",
    "\n",
    "###  **When to Use a Heatmap:**\n",
    "\n",
    "*  To show **correlation** between variables (e.g., using `df.corr()`)\n",
    "*  To **identify patterns, trends, or outliers** in large datasets\n",
    "*  To visualize **frequency, intensity, or density** (e.g., website clicks, sales by region)\n",
    "*  To analyze **confusion matrices** in machine learning\n",
    "*  To make **complex numeric data easier to understand**\n",
    "\n",
    "###  **Conclusion:**\n",
    "\n",
    "> A **heatmap** shows data values as **colors**, making it easy to **spot patterns, correlations, and anomalies** in a matrix-like format.\n",
    "\n",
    "---\n"
   ]
  },
  {
   "cell_type": "markdown",
   "id": "4ff6fcd5-0cb0-422a-b13f-e6a718c0bf68",
   "metadata": {},
   "source": [
    "## 8.What does the term “vectorized operation” mean in NumPy?\n",
    "\n",
    "### Vectorized operations let you do element-wise calculations efficiently on arrays, replacing slow for loops.\n",
    "  * A vectorized operation means performing operations on entire arrays without using loops.\n",
    "\n",
    "  * NumPy applies the operation to each element automatically, making the code faster and cleaner.\n",
    "\n",
    "---"
   ]
  },
  {
   "cell_type": "markdown",
   "id": "0f0d5c83-8886-4a6a-bd58-43c362f40e78",
   "metadata": {},
   "source": [
    "## 9. How does Matplotlib differ from Plotly?\n",
    "\n",
    "### **Difference Between Matplotlib and Plotly**\n",
    "\n",
    "*  **Matplotlib** makes **static graphs**; **Plotly** makes **interactive graphs**.\n",
    "*  **Plotly** lets you **zoom, hover, and click** on charts; Matplotlib does not by default.\n",
    "*  **Matplotlib** is better for **basic or scientific plots**.\n",
    "*  **Plotly** is better for **web apps and dashboards**.\n",
    "*  **Matplotlib** needs **more code** for styling; **Plotly** looks good by default.\n",
    "*  Use **Matplotlib** for **reports**; use **Plotly** for **presentations and web**.\n",
    "\n",
    "> **Matplotlib = simple & static**, **Plotly = easy & interactive**.\n",
    "\n",
    "---\n"
   ]
  },
  {
   "cell_type": "markdown",
   "id": "ccd5ffac-6e0d-4469-ae26-030318a9d256",
   "metadata": {},
   "source": [
    "## 10. What is the significance of hierarchical indexing in Pandas?\n",
    "\n",
    "### **Significance of Hierarchical Indexing in Pandas**\n",
    "\n",
    "*  **Hierarchical indexing** allows you to use **multiple index levels** (MultiIndex) in rows or columns.\n",
    "*  Helps in **organizing complex datasets** (e.g. data grouped by year and region).\n",
    "*  Makes it easier to **slice, filter, and reshape** data with multiple categories.\n",
    "*  Useful in **grouped data analysis**, **pivot tables**, and **multi-level time series**.\n",
    "*  Enables **cleaner, structured data representation** without flattening.\n",
    "\n",
    ">  Hierarchical indexing lets you handle **multi-level labeled data** efficiently for advanced data analysis.\n",
    "\n",
    "---"
   ]
  },
  {
   "cell_type": "markdown",
   "id": "7b746399-0104-4684-89eb-2d914d0a5c85",
   "metadata": {},
   "source": [
    "## 11. What is the role of Seaborn’s pairplot() function?\n",
    "\n",
    "### **Role of `pairplot()` in Seaborn**\n",
    "\n",
    "*  `pairplot()` creates **scatter plots** between all pairs of numeric columns.\n",
    "*  It also shows **histograms or KDE plots** on the diagonals.\n",
    "*  Useful for **exploring relationships** and **correlations** between multiple variables.\n",
    "*  Helps in **quick EDA (Exploratory Data Analysis)**.\n",
    "*  Can color the plots using a **categorical column** with the `hue` parameter.\n",
    "\n",
    "> `pairplot()` is used to **visually compare all numeric variables** in a dataset at once.\n",
    "\n",
    "---"
   ]
  },
  {
   "cell_type": "markdown",
   "id": "76f09edb-df03-41a7-adb9-310a5c985415",
   "metadata": {},
   "source": [
    "## 12. What is the purpose of the describe() function in Pandas?\n",
    "\n",
    "### The `describe()` function in Pandas provides a **statistical summary** of the dataset, including count, mean, standard deviation, min, max, and quartiles, helping in quick **data understanding and analysis** during EDA.describe() is used for quick statistical summaries of your dataset, making it a key step in exploratory data analysis (EDA).\n",
    "\n",
    "---\n"
   ]
  },
  {
   "cell_type": "markdown",
   "id": "f7736ab2-079e-4ec7-a900-22088e8da896",
   "metadata": {},
   "source": [
    "## 13. Why is handling missing data important in Pandas?\n",
    "\n",
    "### Handling missing data in Pandas is important because:\n",
    "\n",
    "* **Ensures accuracy**: Missing data can lead to incorrect analysis and misleading results.\n",
    "* **Prevents errors**: Many operations in Pandas fail or behave unexpectedly with missing values.\n",
    "* **Improves model performance**: Machine learning models can’t handle missing data directly, so handling it improves predictions.\n",
    "* **Maintains data integrity**: Cleaning missing data ensures consistency and quality in datasets.\n",
    "\n",
    "**Conclusion**: Proper handling of missing data is essential for reliable and meaningful data analysis.\n",
    "\n",
    "---\n"
   ]
  },
  {
   "cell_type": "markdown",
   "id": "b941cc92-4ca9-44cb-8b16-d894c75ae5bd",
   "metadata": {},
   "source": [
    "## 14. What are the benefits of using Plotly for data visualization?\n",
    "\n",
    "###  1. **Interactive Visualizations**\n",
    "\n",
    "* Plotly creates highly interactive plots by default.\n",
    "* Users can **hover** to see values, **zoom**, **pan**, **filter**, and even **click** to drill down into the data.\n",
    "* Ideal for exploring complex datasets visually without writing extra code.\n",
    "\n",
    "###  2. **Wide Range of Charts**\n",
    "\n",
    "* Supports a **diverse set of plots**:\n",
    "\n",
    "  * Line, bar, scatter, pie\n",
    "  * Heatmaps, 3D scatter, surface plots\n",
    "  * Geographic maps (choropleth, scatter geo)\n",
    "  * Statistical charts like box, violin, and histogram\n",
    "  * Financial charts like candlestick and OHLC\n",
    "* Great for both **basic** and **advanced** visualization needs.\n",
    "\n",
    "###  3. **High-Quality and Publication-Ready**\n",
    "\n",
    "* Plots are **visually appealing** and suitable for reports, presentations, or publications.\n",
    "* Easy to **customize layouts**, styles, colors, labels, and annotations.\n",
    "* Offers **responsive design**: visuals adjust across screen sizes.\n",
    "\n",
    "###  4. **Cross-Language Support**\n",
    "\n",
    "* Plotly works with multiple languages:\n",
    "\n",
    "  * **Python** (plotly.py)\n",
    "  * **R**, **Julia**\n",
    "  * **JavaScript** (plotly.js)\n",
    "* Makes it easier for teams using different tools to collaborate.\n",
    "\n",
    "###  5. **Integration with Dash**\n",
    "\n",
    "* Plotly integrates seamlessly with **Dash**, a Python framework for building interactive web-based dashboards.\n",
    "* You can turn a Plotly graph into a live, shareable, and interactive **data app** with minimal code.\n",
    "\n",
    "###  6. **Open-Source and Free**\n",
    "\n",
    "* Most of Plotly’s functionality is **open-source**, allowing free use.\n",
    "* Also has a **commercial version** for enterprise-grade solutions with enhanced security and scalability.\n",
    "\n",
    "###  7. **Jupyter Notebook Friendly**\n",
    "\n",
    "* Works well within **Jupyter notebooks**, making it perfect for data science and academic workflows.\n",
    "* Interactive output directly in notebooks without requiring browser-based setup.\n",
    "\n",
    "### **Conclusion:**\n",
    "\n",
    "Plotly is a powerful library for data visualization, especially when interactivity, variety, and quality are needed. It’s highly suitable for **exploratory data analysis**, **presentation-ready graphics**, and **real-time dashboards**.\n",
    "\n",
    "---"
   ]
  },
  {
   "cell_type": "markdown",
   "id": "dddfd871-8e01-4d77-b49b-c2e169f48bd4",
   "metadata": {},
   "source": [
    "## 15.How does NumPy handle multidimensional arrays?\n",
    "\n",
    "### **NumPy handles multidimensional arrays by:**\n",
    "\n",
    "* NumPy uses the `ndarray` object to represent **multidimensional arrays** (n-dimensional arrays).\n",
    "* Each array has a **shape** (number of elements in each dimension), **dtype** (data type), and **ndim** (number of dimensions).\n",
    "* Internally, it stores data in a **contiguous block of memory**, which makes access and computation fast.\n",
    "* You can perform **vectorized operations** across any axis or dimension.\n",
    "* Supports **slicing, reshaping, broadcasting**, and **advanced indexing** for multidimensional data manipulation.\n",
    "\n",
    "*   **Conclusion**: NumPy handles multidimensional arrays efficiently with fast memory operations and powerful tools for data manipulation across dimensions.\n",
    "\n",
    "---\n"
   ]
  },
  {
   "cell_type": "markdown",
   "id": "e32133f5-4f67-4931-9a06-f16805599b6d",
   "metadata": {},
   "source": [
    "## 16.What is the role of Bokeh in data visualization?\n",
    "\n",
    "### Bokeh is ideal when you want to create interactive and web-based visualizations using Python. It's perfect for dashboards, data apps, and interactive reports, especially when working with large datasets or real-time data.\n",
    "\n",
    "### **Role of Bokeh in Data Visualization:**\n",
    "\n",
    "Bokeh is a powerful Python library designed to create **interactive**, **web-ready**, and **visually appealing** data visualizations.\n",
    "\n",
    "### **Key Roles and Features:**\n",
    "\n",
    "1. **Interactive Plots for the Web**\n",
    "\n",
    "   * Bokeh generates **interactive HTML visualizations** that run in modern web browsers.\n",
    "   * Users can **zoom, pan, hover, and select data points**.\n",
    "\n",
    "2. **Easy to Use with Pandas & NumPy**\n",
    "\n",
    "   * Works well with common data science tools like **Pandas**, **NumPy**, and **Jupyter notebooks**.\n",
    "\n",
    "3. **Rich Set of Plotting Tools**\n",
    "\n",
    "   * Supports a wide range of charts: line, bar, scatter, heatmaps, maps, etc.\n",
    "   * Customizable tooltips, legends, and widgets (like sliders, dropdowns).\n",
    "\n",
    "4. **Web Dashboards Without JavaScript**\n",
    "\n",
    "   * Allows creating **interactive dashboards** using Python only (no need to write JavaScript).\n",
    "   * Useful for building **real-time data apps**.\n",
    "\n",
    "5. **Server-Side Capabilities**\n",
    "\n",
    "   * With **Bokeh Server**, you can build **live-updating visualizations** connected to real-time data sources.\n",
    "---\n"
   ]
  },
  {
   "cell_type": "markdown",
   "id": "ea4bda3e-04ec-491c-b5ac-cc370049568c",
   "metadata": {},
   "source": [
    "## 17. Explain the difference between apply() and map() in Pandas.\n",
    "\n",
    "### Difference between `apply()` and `map()` in Pandas:\n",
    "\n",
    "#### **`map()`**\n",
    "\n",
    "* Works **only on Pandas Series**.\n",
    "* Applies a function **element-wise** to each value.\n",
    "* Used for **simple transformations** (e.g., value conversion, formatting).\n",
    "* Returns a **new Series**.\n",
    "* Can accept a function, dictionary, or Series for mapping.\n",
    "\n",
    "\n",
    "####  **`apply()`**\n",
    "\n",
    "* Works on **both Series and DataFrames**.\n",
    "* In Series: works like `map()`, applies function to each element.\n",
    "* In DataFrame: applies function **row-wise (axis=1)** or **column-wise (axis=0)**.\n",
    "* Used for **complex operations**, like row/column logic or aggregation.\n",
    "* Returns a **Series or DataFrame** depending on the function and axis.\n",
    "\n",
    "###  Conclusion:\n",
    "\n",
    "* Use **`map()`** for **simple element-wise** operations on a Series.\n",
    "* Use **`apply()`** for **complex row/column-wise** operations on DataFrames or Series.\n",
    "\n",
    "---\n"
   ]
  },
  {
   "cell_type": "markdown",
   "id": "255ff5b5-cc6c-49bd-a59c-e651e1993605",
   "metadata": {},
   "source": [
    "## 18. What are some advanced features of NumPy?\n",
    "\n",
    "### Some Advanced Features of NumPy:\n",
    "\n",
    "* **Broadcasting**: Operate on arrays of different shapes without loops.\n",
    "* **Vectorized Operations**: Fast, loop-free array computations.\n",
    "* **Advanced Indexing**: Use conditions or indices to access data.\n",
    "* **Memory Efficient**: Uses compact, fast-access memory blocks.\n",
    "* **Universal Functions (ufuncs)**: Fast element-wise math functions.\n",
    "* **Linear Algebra**: Built-in matrix ops like inverse, dot, eigen.\n",
    "* **Random Module**: Generate random numbers from various distributions.\n",
    "* **FFT Support**: Perform fast Fourier transforms for signal analysis.\n",
    "* **Masked Arrays**: Handle missing/invalid data gracefully.\n",
    "* **Shape Manipulation**: Reshape, stack, split arrays flexibly.\n",
    "\n",
    "**Conclusion**: NumPy offers fast, efficient, and powerful tools for advanced numerical computing.\n",
    "\n",
    "---\n"
   ]
  },
  {
   "cell_type": "markdown",
   "id": "b4845383-a5a8-4786-a9f2-1f08caee3495",
   "metadata": {},
   "source": [
    "## 19.How does Pandas simplify time series analysis?\n",
    "\n",
    "## **How Does Pandas Simplify Time Series Analysis?**\n",
    "\n",
    "Pandas is a powerful Python library that provides high-level data manipulation tools, and one of its most important capabilities is **simplifying time series analysis**. It offers built-in features that make it easy to work with time-indexed data for financial analysis, forecasting, trend identification, and much more.\n",
    "\n",
    "### 1. **Datetime Indexing and Parsing**\n",
    "\n",
    "Pandas allows you to convert date strings into proper **`datetime` objects** using `pd.to_datetime()`. You can then use these dates as an **index** to simplify time-based operations like filtering, slicing, and alignment.\n",
    "\n",
    "*Example:*\n",
    "\n",
    "```python\n",
    "df['Date'] = pd.to_datetime(df['Date'])\n",
    "df.set_index('Date', inplace=True)\n",
    "df['2023']        # returns all data from the year 2023\n",
    "```\n",
    "\n",
    " **Why it's helpful:** You can treat time as a natural part of the dataset—filtering by year, month, or date range becomes very easy.\n",
    "\n",
    "### 2. **Time-Based Slicing and Filtering**\n",
    "\n",
    "Once dates are set as the index, you can easily select data by year, month, week, or specific time ranges without writing complex code.\n",
    "\n",
    "*Example:*\n",
    "\n",
    "```python\n",
    "df['2022-01':'2022-03']  # Select data between Jan and Mar 2022\n",
    "```\n",
    "\n",
    " **Why it's helpful:** No need for manual filtering—date ranges work just like slicing lists or strings.\n",
    "\n",
    "###  3. **Resampling and Frequency Conversion**\n",
    "\n",
    "Pandas provides the `.resample()` method, which allows you to **convert time series data from one frequency to another**, such as from daily to monthly, or hourly to weekly.\n",
    "\n",
    " *Example:*\n",
    "\n",
    "```python\n",
    "monthly_avg = df.resample('M').mean()  # Monthly average\n",
    "```\n",
    "\n",
    " **Why it's helpful:** You can easily summarize or aggregate data to analyze trends over different time scales.\n",
    "\n",
    "### 4. **Rolling Window Calculations**\n",
    "\n",
    "With `.rolling()`, Pandas makes it easy to perform **moving average**, **rolling sums**, or **rolling standard deviations**, which are common in time series smoothing and trend analysis.\n",
    "\n",
    " *Example:*\n",
    "\n",
    "```python\n",
    "df['7_day_avg'] = df['value'].rolling(window=7).mean()\n",
    "```\n",
    "\n",
    "**Why it's helpful:** Helps in detecting short-term trends or smoothing out noise in data.\n",
    "\n",
    "###  5. **Shifting and Lagging Data**\n",
    "\n",
    "Pandas supports `.shift()` and `.tshift()` functions that allow you to **move data forward or backward in time**. This is useful for creating lag features or comparing current data with past values.\n",
    "\n",
    " *Example:*\n",
    "\n",
    "```python\n",
    "df['yesterday'] = df['value'].shift(1)\n",
    "```\n",
    " **Why it's helpful:** Essential for time-based comparisons, change detection, and building machine learning features.\n",
    "\n",
    "### 6. **Time-Based Grouping**\n",
    "\n",
    "You can group time series data by month, year, quarter, or any custom time interval using `pd.Grouper()` or the `.groupby()` method on datetime components.\n",
    "\n",
    " *Example:*\n",
    "\n",
    "```python\n",
    "df.groupby(pd.Grouper(freq='M')).sum()  # Monthly totals\n",
    "```\n",
    "\n",
    "**Why it's helpful:** Lets you aggregate time-based data for summary reports and analysis.\n",
    "\n",
    "###  7. **Handling Missing Time Data**\n",
    "\n",
    "Pandas allows you to set a consistent time frequency using `.asfreq()` and handle missing time points using:\n",
    "\n",
    "* `.fillna()` – to fill with a constant value\n",
    "* `.ffill()` – forward fill previous value\n",
    "* `.bfill()` – backward fill next value\n",
    "* `.interpolate()` – estimate missing values\n",
    "\n",
    "*Example:*\n",
    "\n",
    "```python\n",
    "df = df.asfreq('D')\n",
    "df = df.interpolate()\n",
    "```\n",
    "\n",
    " **Why it's helpful:** Maintains a clean, continuous time series for accurate analysis and modeling.\n",
    "\n",
    "### 8. **Built-in Visualization for Time Series**\n",
    "\n",
    "Pandas integrates with Matplotlib to **plot time series data directly**, with intelligent formatting of date axes.\n",
    "\n",
    " *Example:*\n",
    "\n",
    "```python\n",
    "df['value'].plot(title='Time Series Trend')\n",
    "```\n",
    "\n",
    "**Why it's helpful:** Fast visual inspection of trends, seasonality, and anomalies.\n",
    "\n",
    "### **Conclusion:**\n",
    "\n",
    "Pandas simplifies time series analysis by offering:\n",
    "\n",
    "* Automatic **datetime parsing and indexing**\n",
    "* Simple **time-based filtering and slicing**\n",
    "* Powerful **resampling**, **rolling statistics**, and **shifting**\n",
    "* Easy handling of **missing dates**\n",
    "* Built-in **visualization support**\n",
    "\n",
    "These features make it an essential tool for analysts, researchers, and students working with time-dependent data. With minimal code, Pandas enables powerful and efficient time series analysis.\n",
    "\n",
    "---"
   ]
  },
  {
   "cell_type": "markdown",
   "id": "048eb89b-955c-410d-aac3-c5754cb53227",
   "metadata": {},
   "source": [
    "## 20. What is the role of a pivot table in Pandas?\n",
    "\n",
    "### **Role of a Pivot Table in Pandas:**\n",
    "\n",
    "A **pivot table** in Pandas is used to **summarize, group, and reorganize** data in a DataFrame.\n",
    "\n",
    "### Key Roles:\n",
    "\n",
    "1. **Data Summarization**: Aggregates data (e.g., mean, sum, count) based on one or more keys.\n",
    "2. **Group By + Reshape**: Combines the functionality of `groupby()` and reshaping to display summarized data in a tabular form.\n",
    "3. **Multi-dimensional Analysis**: Allows multi-level grouping using rows and columns like in Excel.\n",
    "4. **Cleaner Reports**: Helps in creating compact, easy-to-read summary tables.\n",
    "\n",
    "### Use Case:\n",
    "\n",
    "Ideal for data analysis tasks where you need to **compare metrics across categories**—just like Excel pivot tables.\n",
    "\n",
    "---\n"
   ]
  },
  {
   "cell_type": "markdown",
   "id": "a3381fe8-e5c5-4558-99da-3bda1c755616",
   "metadata": {},
   "source": [
    "## 21. Why is NumPy’s array slicing faster than Python’s list slicing?\n",
    "\n",
    "### Key Reasons:\n",
    "\n",
    "1. **Homogeneous Data Type**\n",
    "\n",
    "   * NumPy arrays store data in **contiguous memory blocks** of the same data type.\n",
    "   * Python lists are heterogeneous and store references, making them slower to access.\n",
    "\n",
    "2. **Memory Efficiency**\n",
    "\n",
    "   * NumPy uses **compact memory layout**, while Python lists are memory-inefficient due to overhead for each element.\n",
    "\n",
    "3. **No Data Copying**\n",
    "\n",
    "   * NumPy slicing creates a **view** (not a copy), so it’s faster and memory-friendly.\n",
    "   * Python list slicing creates a **new list** (copy of elements), increasing time and memory usage.\n",
    "\n",
    "4. **Implemented in C**\n",
    "\n",
    "   * NumPy is written in **C**, so array operations (including slicing) are executed at **low-level speed**.\n",
    "\n",
    "5. **Vectorized Optimization**\n",
    "\n",
    "   * Internally, NumPy uses optimized **vectorized code paths**, bypassing Python loops.\n",
    "\n",
    "\n",
    "**Result**: NumPy slicing is faster, more efficient, and optimized for numerical computations.\n",
    "\n",
    "---\n"
   ]
  },
  {
   "cell_type": "markdown",
   "id": "9db8a19d-a38e-4162-a1cb-b64e386f5f13",
   "metadata": {},
   "source": [
    "## 22.What are some common use cases for Seaborn?\n",
    "\n",
    "### **Seaborn** is a powerful Python library used for **statistical data visualization**. It simplifies the process of creating attractive and informative plots with minimal code.\n",
    "\n",
    "### Common Use Cases for Seaborn:\n",
    "\n",
    "1. **Data Exploration (EDA):**\n",
    "   Helps uncover patterns, trends, and outliers using plots like histograms, boxplots, and scatter plots.\n",
    "\n",
    "2. **Visualizing Distributions:**\n",
    "   `histplot()`, `kdeplot()`, and `boxplot()` show how data is spread and where it concentrates.\n",
    "\n",
    "3. **Comparing Categories:**\n",
    "   `barplot()` and `countplot()` are used to compare values across different groups.\n",
    "\n",
    "4. **Finding Relationships:**\n",
    "   `scatterplot()`, `lineplot()`, and `lmplot()` show how two or more variables are related, often with regression lines.\n",
    "\n",
    "5. **Multivariate Analysis:**\n",
    "   `pairplot()` and `heatmap()` are useful for examining multiple variables and their correlations at once.\n",
    "\n",
    "6. **Time Series Visualization:**\n",
    "   `lineplot()` is great for visualizing trends over time.\n",
    "\n",
    "7. **Correlation Analysis:**\n",
    "   `heatmap()` is often used with a correlation matrix to show how strongly variables are related.\n",
    "\n",
    "   \n",
    "### Why Use Seaborn?\n",
    "\n",
    "* Built on top of Matplotlib but offers **easier syntax** and **more appealing visuals**.\n",
    "* Integrates well with Pandas DataFrames.\n",
    "* Adds **statistical meaning** like error bars, confidence intervals, and trend lines by default.\n",
    "\n",
    "**Conclusion:**\n",
    "Seaborn is widely used in data analysis and machine learning projects because it makes complex visualizations simple and elegant—ideal for understanding data deeply and presenting it clearly.\n",
    "\n",
    "---\n"
   ]
  },
  {
   "cell_type": "markdown",
   "id": "fb8ce819-cbb7-4490-bb7f-9e717c946fb1",
   "metadata": {},
   "source": [
    "# PRACTICAL QUESTIONS\n",
    "\n",
    "---"
   ]
  },
  {
   "cell_type": "markdown",
   "id": "86d0133f-970f-419f-a6f7-6f25cb013b8d",
   "metadata": {},
   "source": [
    "## 1.How do you create a 2D NumPy array and calculate the sum of each row?"
   ]
  },
  {
   "cell_type": "code",
   "execution_count": 4,
   "id": "de3cf4ed-60cb-4408-9976-1e54f9c59ab8",
   "metadata": {},
   "outputs": [
    {
     "name": "stdout",
     "output_type": "stream",
     "text": [
      "[ 6 15 24]\n"
     ]
    }
   ],
   "source": [
    "import numpy as np; row_sums = np.sum(np.array([[1, 2, 3], [4, 5, 6], [7, 8, 9]]), axis=1);\n",
    "print(row_sums)"
   ]
  },
  {
   "cell_type": "markdown",
   "id": "b2dfaefc-b0d7-4de8-ba09-8be685b732f6",
   "metadata": {},
   "source": [
    "---\n",
    "\n",
    "## 2. Write a Pandas script to find the mean of a specific column in a DataFrame."
   ]
  },
  {
   "cell_type": "code",
   "execution_count": 5,
   "id": "093065fb-08b3-4874-8a70-e4d137ef88fe",
   "metadata": {},
   "outputs": [
    {
     "name": "stdout",
     "output_type": "stream",
     "text": [
      "86.25\n"
     ]
    }
   ],
   "source": [
    "import pandas as pd; df = pd.DataFrame({'Marks': [85, 90, 78, 92]});\n",
    "print(df['Marks'].mean())\n"
   ]
  },
  {
   "cell_type": "markdown",
   "id": "fe201cc1-20fb-4143-9d00-bc9721686d8e",
   "metadata": {},
   "source": [
    "---\n",
    "\n",
    "## 3. Create a scatter plot using Matplotlib."
   ]
  },
  {
   "cell_type": "code",
   "execution_count": 7,
   "id": "a1efa12e-851d-4c74-b33c-d9a490374c9b",
   "metadata": {},
   "outputs": [
    {
     "data": {
      "image/png": "[encoded data removed]",
      "text/plain": [
       "<Figure size 640x480 with 2 Axes>"
      ]
     },
     "metadata": {},
     "output_type": "display_data"
    }
   ],
   "source": [
    "\n",
    "%matplotlib inline\n",
    "\n",
    "import matplotlib.pyplot as plt\n",
    "\n",
    "# Sample data\n",
    "x = [1, 2, 3, 4, 5]\n",
    "y = [5, 4, 3, 2, 1]\n",
    "colors = [10, 20, 30, 40, 50]\n",
    "sizes = [50, 100, 150, 200, 250]\n",
    "\n",
    "# Create scatter plot\n",
    "scatter = plt.scatter(x, y, c=colors, s=sizes, cmap='viridis', alpha=0.8)\n",
    "\n",
    "# Add colorbar\n",
    "plt.colorbar(scatter, label='Color Intensity')\n",
    "\n",
    "# Add labels and title\n",
    "plt.title(\"Scatter Plot with Colors and Sizes\")\n",
    "plt.xlabel(\"X-axis\")\n",
    "plt.ylabel(\"Y-axis\")\n",
    "\n",
    "# Show plot\n",
    "plt.show()\n"
   ]
  },
  {
   "cell_type": "markdown",
   "id": "0b290868-9622-44e3-8308-be6632e33d64",
   "metadata": {},
   "source": [
    "---\n",
    "\n",
    "## 4. How do you calculate the correlation matrix using Seaborn and visualize it with a heatmap?"
   ]
  },
  {
   "cell_type": "code",
   "execution_count": 8,
   "id": "d8b38f29-6c28-485c-9906-f5947e022cf2",
   "metadata": {},
   "outputs": [
    {
     "data": {
      "image/png": "[encoded data removed]",
      "text/plain": [
       "<Figure size 640x480 with 2 Axes>"
      ]
     },
     "metadata": {},
     "output_type": "display_data"
    }
   ],
   "source": [
    "import seaborn as sns\n",
    "import pandas as pd\n",
    "import matplotlib.pyplot as plt\n",
    "\n",
    "# Sample DataFrame\n",
    "df = pd.DataFrame({\n",
    "    'A': [1, 2, 3, 4, 5],\n",
    "    'B': [5, 4, 3, 2, 1],\n",
    "    'C': [2, 3, 4, 5, 6]\n",
    "})\n",
    "\n",
    "# Correlation heatmap\n",
    "sns.heatmap(df.corr(), annot=True, cmap='coolwarm')\n",
    "plt.show()\n"
   ]
  },
  {
   "cell_type": "markdown",
   "id": "3d8b6a23-bbae-40a5-a2ae-eef5c3c41585",
   "metadata": {},
   "source": [
    "---\n",
    "\n",
    "## 5.Generate a bar plot using Plotly."
   ]
  },
  {
   "cell_type": "code",
   "execution_count": 4,
   "id": "697c6ea4-e452-435a-9304-647320b00aab",
   "metadata": {},
   "outputs": [
    {
     "data": {
      "application/vnd.plotly.v1+json": {
       "config": {
        "plotlyServerURL": "https://plot.ly"
       },
       "data": [
        {
         "alignmentgroup": "True",
         "hovertemplate": "Subjects=%{x}<br>Scores=%{y}<extra></extra>",
         "legendgroup": "Math",
         "marker": {
          "color": "#636efa",
          "pattern": {
           "shape": ""
          }
         },
         "name": "Math",
         "offsetgroup": "Math",
         "orientation": "v",
         "showlegend": true,
         "textposition": "auto",
         "type": "bar",
         "x": [
          "Math"
         ],
         "xaxis": "x",
         "y": [
          85
         ],
         "yaxis": "y"
        },
        {
         "alignmentgroup": "True",
         "hovertemplate": "Subjects=%{x}<br>Scores=%{y}<extra></extra>",
         "legendgroup": "Science",
         "marker": {
          "color": "#EF553B",
          "pattern": {
           "shape": ""
          }
         },
         "name": "Science",
         "offsetgroup": "Science",
         "orientation": "v",
         "showlegend": true,
         "textposition": "auto",
         "type": "bar",
         "x": [
          "Science"
         ],
         "xaxis": "x",
         "y": [
          90
         ],
         "yaxis": "y"
        },
        {
         "alignmentgroup": "True",
         "hovertemplate": "Subjects=%{x}<br>Scores=%{y}<extra></extra>",
         "legendgroup": "English",
         "marker": {
          "color": "#00cc96",
          "pattern": {
           "shape": ""
          }
         },
         "name": "English",
         "offsetgroup": "English",
         "orientation": "v",
         "showlegend": true,
         "textposition": "auto",
         "type": "bar",
         "x": [
          "English"
         ],
         "xaxis": "x",
         "y": [
          78
         ],
         "yaxis": "y"
        },
        {
         "alignmentgroup": "True",
         "hovertemplate": "Subjects=%{x}<br>Scores=%{y}<extra></extra>",
         "legendgroup": "History",
         "marker": {
          "color": "#ab63fa",
          "pattern": {
           "shape": ""
          }
         },
         "name": "History",
         "offsetgroup": "History",
         "orientation": "v",
         "showlegend": true,
         "textposition": "auto",
         "type": "bar",
         "x": [
          "History"
         ],
         "xaxis": "x",
         "y": [
          88
         ],
         "yaxis": "y"
        }
       ],
       "layout": {
        "autosize": true,
        "barmode": "relative",
        "legend": {
         "title": {
          "text": "Subjects"
         },
         "tracegroupgap": 0
        },
        "template": {
         "data": {
          "bar": [
           {
            "error_x": {
             "color": "#2a3f5f"
            },
            "error_y": {
             "color": "#2a3f5f"
            },
            "marker": {
             "line": {
              "color": "#E5ECF6",
              "width": 0.5
             },
             "pattern": {
              "fillmode": "overlay",
              "size": 10,
              "solidity": 0.2
             }
            },
            "type": "bar"
           }
          ],
          "barpolar": [
           {
            "marker": {
             "line": {
              "color": "#E5ECF6",
              "width": 0.5
             },
             "pattern": {
              "fillmode": "overlay",
              "size": 10,
              "solidity": 0.2
             }
            },
            "type": "barpolar"
           }
          ],
          "carpet": [
           {
            "aaxis": {
             "endlinecolor": "#2a3f5f",
             "gridcolor": "white",
             "linecolor": "white",
             "minorgridcolor": "white",
             "startlinecolor": "#2a3f5f"
            },
            "baxis": {
             "endlinecolor": "#2a3f5f",
             "gridcolor": "white",
             "linecolor": "white",
             "minorgridcolor": "white",
             "startlinecolor": "#2a3f5f"
            },
            "type": "carpet"
           }
          ],
          "choropleth": [
           {
            "colorbar": {
             "outlinewidth": 0,
             "ticks": ""
            },
            "type": "choropleth"
           }
          ],
          "contour": [
           {
            "colorbar": {
             "outlinewidth": 0,
             "ticks": ""
            },
            "colorscale": [
             [
              0,
              "#0d0887"
             ],
             [
              0.1111111111111111,
              "#46039f"
             ],
             [
              0.2222222222222222,
              "#7201a8"
             ],
             [
              0.3333333333333333,
              "#9c179e"
             ],
             [
              0.4444444444444444,
              "#bd3786"
             ],
             [
              0.5555555555555556,
              "#d8576b"
             ],
             [
              0.6666666666666666,
              "#ed7953"
             ],
             [
              0.7777777777777778,
              "#fb9f3a"
             ],
             [
              0.8888888888888888,
              "#fdca26"
             ],
             [
              1,
              "#f0f921"
             ]
            ],
            "type": "contour"
           }
          ],
          "contourcarpet": [
           {
            "colorbar": {
             "outlinewidth": 0,
             "ticks": ""
            },
            "type": "contourcarpet"
           }
          ],
          "heatmap": [
           {
            "colorbar": {
             "outlinewidth": 0,
             "ticks": ""
            },
            "colorscale": [
             [
              0,
              "#0d0887"
             ],
             [
              0.1111111111111111,
              "#46039f"
             ],
             [
              0.2222222222222222,
              "#7201a8"
             ],
             [
              0.3333333333333333,
              "#9c179e"
             ],
             [
              0.4444444444444444,
              "#bd3786"
             ],
             [
              0.5555555555555556,
              "#d8576b"
             ],
             [
              0.6666666666666666,
              "#ed7953"
             ],
             [
              0.7777777777777778,
              "#fb9f3a"
             ],
             [
              0.8888888888888888,
              "#fdca26"
             ],
             [
              1,
              "#f0f921"
             ]
            ],
            "type": "heatmap"
           }
          ],
          "heatmapgl": [
           {
            "colorbar": {
             "outlinewidth": 0,
             "ticks": ""
            },
            "colorscale": [
             [
              0,
              "#0d0887"
             ],
             [
              0.1111111111111111,
              "#46039f"
             ],
             [
              0.2222222222222222,
              "#7201a8"
             ],
             [
              0.3333333333333333,
              "#9c179e"
             ],
             [
              0.4444444444444444,
              "#bd3786"
             ],
             [
              0.5555555555555556,
              "#d8576b"
             ],
             [
              0.6666666666666666,
              "#ed7953"
             ],
             [
              0.7777777777777778,
              "#fb9f3a"
             ],
             [
              0.8888888888888888,
              "#fdca26"
             ],
             [
              1,
              "#f0f921"
             ]
            ],
            "type": "heatmapgl"
           }
          ],
          "histogram": [
           {
            "marker": {
             "pattern": {
              "fillmode": "overlay",
              "size": 10,
              "solidity": 0.2
             }
            },
            "type": "histogram"
           }
          ],
          "histogram2d": [
           {
            "colorbar": {
             "outlinewidth": 0,
             "ticks": ""
            },
            "colorscale": [
             [
              0,
              "#0d0887"
             ],
             [
              0.1111111111111111,
              "#46039f"
             ],
             [
              0.2222222222222222,
              "#7201a8"
             ],
             [
              0.3333333333333333,
              "#9c179e"
             ],
             [
              0.4444444444444444,
              "#bd3786"
             ],
             [
              0.5555555555555556,
              "#d8576b"
             ],
             [
              0.6666666666666666,
              "#ed7953"
             ],
             [
              0.7777777777777778,
              "#fb9f3a"
             ],
             [
              0.8888888888888888,
              "#fdca26"
             ],
             [
              1,
              "#f0f921"
             ]
            ],
            "type": "histogram2d"
           }
          ],
          "histogram2dcontour": [
           {
            "colorbar": {
             "outlinewidth": 0,
             "ticks": ""
            },
            "colorscale": [
             [
              0,
              "#0d0887"
             ],
             [
              0.1111111111111111,
              "#46039f"
             ],
             [
              0.2222222222222222,
              "#7201a8"
             ],
             [
              0.3333333333333333,
              "#9c179e"
             ],
             [
              0.4444444444444444,
              "#bd3786"
             ],
             [
              0.5555555555555556,
              "#d8576b"
             ],
             [
              0.6666666666666666,
              "#ed7953"
             ],
             [
              0.7777777777777778,
              "#fb9f3a"
             ],
             [
              0.8888888888888888,
              "#fdca26"
             ],
             [
              1,
              "#f0f921"
             ]
            ],
            "type": "histogram2dcontour"
           }
          ],
          "mesh3d": [
           {
            "colorbar": {
             "outlinewidth": 0,
             "ticks": ""
            },
            "type": "mesh3d"
           }
          ],
          "parcoords": [
           {
            "line": {
             "colorbar": {
              "outlinewidth": 0,
              "ticks": ""
             }
            },
            "type": "parcoords"
           }
          ],
          "pie": [
           {
            "automargin": true,
            "type": "pie"
           }
          ],
          "scatter": [
           {
            "fillpattern": {
             "fillmode": "overlay",
             "size": 10,
             "solidity": 0.2
            },
            "type": "scatter"
           }
          ],
          "scatter3d": [
           {
            "line": {
             "colorbar": {
              "outlinewidth": 0,
              "ticks": ""
             }
            },
            "marker": {
             "colorbar": {
              "outlinewidth": 0,
              "ticks": ""
             }
            },
            "type": "scatter3d"
           }
          ],
          "scattercarpet": [
           {
            "marker": {
             "colorbar": {
              "outlinewidth": 0,
              "ticks": ""
             }
            },
            "type": "scattercarpet"
           }
          ],
          "scattergeo": [
           {
            "marker": {
             "colorbar": {
              "outlinewidth": 0,
              "ticks": ""
             }
            },
            "type": "scattergeo"
           }
          ],
          "scattergl": [
           {
            "marker": {
             "colorbar": {
              "outlinewidth": 0,
              "ticks": ""
             }
            },
            "type": "scattergl"
           }
          ],
          "scattermapbox": [
           {
            "marker": {
             "colorbar": {
              "outlinewidth": 0,
              "ticks": ""
             }
            },
            "type": "scattermapbox"
           }
          ],
          "scatterpolar": [
           {
            "marker": {
             "colorbar": {
              "outlinewidth": 0,
              "ticks": ""
             }
            },
            "type": "scatterpolar"
           }
          ],
          "scatterpolargl": [
           {
            "marker": {
             "colorbar": {
              "outlinewidth": 0,
              "ticks": ""
             }
            },
            "type": "scatterpolargl"
           }
          ],
          "scatterternary": [
           {
            "marker": {
             "colorbar": {
              "outlinewidth": 0,
              "ticks": ""
             }
            },
            "type": "scatterternary"
           }
          ],
          "surface": [
           {
            "colorbar": {
             "outlinewidth": 0,
             "ticks": ""
            },
            "colorscale": [
             [
              0,
              "#0d0887"
             ],
             [
              0.1111111111111111,
              "#46039f"
             ],
             [
              0.2222222222222222,
              "#7201a8"
             ],
             [
              0.3333333333333333,
              "#9c179e"
             ],
             [
              0.4444444444444444,
              "#bd3786"
             ],
             [
              0.5555555555555556,
              "#d8576b"
             ],
             [
              0.6666666666666666,
              "#ed7953"
             ],
             [
              0.7777777777777778,
              "#fb9f3a"
             ],
             [
              0.8888888888888888,
              "#fdca26"
             ],
             [
              1,
              "#f0f921"
             ]
            ],
            "type": "surface"
           }
          ],
          "table": [
           {
            "cells": {
             "fill": {
              "color": "#EBF0F8"
             },
             "line": {
              "color": "white"
             }
            },
            "header": {
             "fill": {
              "color": "#C8D4E3"
             },
             "line": {
              "color": "white"
             }
            },
            "type": "table"
           }
          ]
         },
         "layout": {
          "annotationdefaults": {
           "arrowcolor": "#2a3f5f",
           "arrowhead": 0,
           "arrowwidth": 1
          },
          "autotypenumbers": "strict",
          "coloraxis": {
           "colorbar": {
            "outlinewidth": 0,
            "ticks": ""
           }
          },
          "colorscale": {
           "diverging": [
            [
             0,
             "#8e0152"
            ],
            [
             0.1,
             "#c51b7d"
            ],
            [
             0.2,
             "#de77ae"
            ],
            [
             0.3,
             "#f1b6da"
            ],
            [
             0.4,
             "#fde0ef"
            ],
            [
             0.5,
             "#f7f7f7"
            ],
            [
             0.6,
             "#e6f5d0"
            ],
            [
             0.7,
             "#b8e186"
            ],
            [
             0.8,
             "#7fbc41"
            ],
            [
             0.9,
             "#4d9221"
            ],
            [
             1,
             "#276419"
            ]
           ],
           "sequential": [
            [
             0,
             "#0d0887"
            ],
            [
             0.1111111111111111,
             "#46039f"
            ],
            [
             0.2222222222222222,
             "#7201a8"
            ],
            [
             0.3333333333333333,
             "#9c179e"
            ],
            [
             0.4444444444444444,
             "#bd3786"
            ],
            [
             0.5555555555555556,
             "#d8576b"
            ],
            [
             0.6666666666666666,
             "#ed7953"
            ],
            [
             0.7777777777777778,
             "#fb9f3a"
            ],
            [
             0.8888888888888888,
             "#fdca26"
            ],
            [
             1,
             "#f0f921"
            ]
           ],
           "sequentialminus": [
            [
             0,
             "#0d0887"
            ],
            [
             0.1111111111111111,
             "#46039f"
            ],
            [
             0.2222222222222222,
             "#7201a8"
            ],
            [
             0.3333333333333333,
             "#9c179e"
            ],
            [
             0.4444444444444444,
             "#bd3786"
            ],
            [
             0.5555555555555556,
             "#d8576b"
            ],
            [
             0.6666666666666666,
             "#ed7953"
            ],
            [
             0.7777777777777778,
             "#fb9f3a"
            ],
            [
             0.8888888888888888,
             "#fdca26"
            ],
            [
             1,
             "#f0f921"
            ]
           ]
          },
          "colorway": [
           "#636efa",
           "#EF553B",
           "#00cc96",
           "#ab63fa",
           "#FFA15A",
           "#19d3f3",
           "#FF6692",
           "#B6E880",
           "#FF97FF",
           "#FECB52"
          ],
          "font": {
           "color": "#2a3f5f"
          },
          "geo": {
           "bgcolor": "white",
           "lakecolor": "white",
           "landcolor": "#E5ECF6",
           "showlakes": true,
           "showland": true,
           "subunitcolor": "white"
          },
          "hoverlabel": {
           "align": "left"
          },
          "hovermode": "closest",
          "mapbox": {
           "style": "light"
          },
          "paper_bgcolor": "white",
          "plot_bgcolor": "#E5ECF6",
          "polar": {
           "angularaxis": {
            "gridcolor": "white",
            "linecolor": "white",
            "ticks": ""
           },
           "bgcolor": "#E5ECF6",
           "radialaxis": {
            "gridcolor": "white",
            "linecolor": "white",
            "ticks": ""
           }
          },
          "scene": {
           "xaxis": {
            "backgroundcolor": "#E5ECF6",
            "gridcolor": "white",
            "gridwidth": 2,
            "linecolor": "white",
            "showbackground": true,
            "ticks": "",
            "zerolinecolor": "white"
           },
           "yaxis": {
            "backgroundcolor": "#E5ECF6",
            "gridcolor": "white",
            "gridwidth": 2,
            "linecolor": "white",
            "showbackground": true,
            "ticks": "",
            "zerolinecolor": "white"
           },
           "zaxis": {
            "backgroundcolor": "#E5ECF6",
            "gridcolor": "white",
            "gridwidth": 2,
            "linecolor": "white",
            "showbackground": true,
            "ticks": "",
            "zerolinecolor": "white"
           }
          },
          "shapedefaults": {
           "line": {
            "color": "#2a3f5f"
           }
          },
          "ternary": {
           "aaxis": {
            "gridcolor": "white",
            "linecolor": "white",
            "ticks": ""
           },
           "baxis": {
            "gridcolor": "white",
            "linecolor": "white",
            "ticks": ""
           },
           "bgcolor": "#E5ECF6",
           "caxis": {
            "gridcolor": "white",
            "linecolor": "white",
            "ticks": ""
           }
          },
          "title": {
           "x": 0.05
          },
          "xaxis": {
           "automargin": true,
           "gridcolor": "white",
           "linecolor": "white",
           "ticks": "",
           "title": {
            "standoff": 15
           },
           "zerolinecolor": "white",
           "zerolinewidth": 2
          },
          "yaxis": {
           "automargin": true,
           "gridcolor": "white",
           "linecolor": "white",
           "ticks": "",
           "title": {
            "standoff": 15
           },
           "zerolinecolor": "white",
           "zerolinewidth": 2
          }
         }
        },
        "title": {
         "text": "Subject-wise Scores"
        },
        "xaxis": {
         "anchor": "y",
         "autorange": true,
         "categoryarray": [
          "Math",
          "Science",
          "English",
          "History"
         ],
         "categoryorder": "array",
         "domain": [
          0,
          1
         ],
         "range": [
          -0.5,
          3.5
         ],
         "title": {
          "text": "Subjects"
         },
         "type": "category"
        },
        "yaxis": {
         "anchor": "x",
         "autorange": true,
         "domain": [
          0,
          1
         ],
         "range": [
          0,
          94.73684210526315
         ],
         "title": {
          "text": "Scores"
         },
         "type": "linear"
        }
       }
      },
      "image/png": "[encoded data removed]",
      "text/html": [
       "<div>                            <div id=\"d702e518-a01a-4d53-97d8-1969c7029aaf\" class=\"plotly-graph-div\" style=\"height:525px; width:100%;\"></div>            <script type=\"text/javascript\">                require([\"plotly\"], function(Plotly) {                    window.PLOTLYENV=window.PLOTLYENV || {};                                    if (document.getElementById(\"d702e518-a01a-4d53-97d8-1969c7029aaf\")) {                    Plotly.newPlot(                        \"d702e518-a01a-4d53-97d8-1969c7029aaf\",                        [{\"alignmentgroup\":\"True\",\"hovertemplate\":\"Subjects=%{x}\\u003cbr\\u003eScores=%{y}\\u003cextra\\u003e\\u003c\\u002fextra\\u003e\",\"legendgroup\":\"Math\",\"marker\":{\"color\":\"#636efa\",\"pattern\":{\"shape\":\"\"}},\"name\":\"Math\",\"offsetgroup\":\"Math\",\"orientation\":\"v\",\"showlegend\":true,\"textposition\":\"auto\",\"x\":[\"Math\"],\"xaxis\":\"x\",\"y\":[85],\"yaxis\":\"y\",\"type\":\"bar\"},{\"alignmentgroup\":\"True\",\"hovertemplate\":\"Subjects=%{x}\\u003cbr\\u003eScores=%{y}\\u003cextra\\u003e\\u003c\\u002fextra\\u003e\",\"legendgroup\":\"Science\",\"marker\":{\"color\":\"#EF553B\",\"pattern\":{\"shape\":\"\"}},\"name\":\"Science\",\"offsetgroup\":\"Science\",\"orientation\":\"v\",\"showlegend\":true,\"textposition\":\"auto\",\"x\":[\"Science\"],\"xaxis\":\"x\",\"y\":[90],\"yaxis\":\"y\",\"type\":\"bar\"},{\"alignmentgroup\":\"True\",\"hovertemplate\":\"Subjects=%{x}\\u003cbr\\u003eScores=%{y}\\u003cextra\\u003e\\u003c\\u002fextra\\u003e\",\"legendgroup\":\"English\",\"marker\":{\"color\":\"#00cc96\",\"pattern\":{\"shape\":\"\"}},\"name\":\"English\",\"offsetgroup\":\"English\",\"orientation\":\"v\",\"showlegend\":true,\"textposition\":\"auto\",\"x\":[\"English\"],\"xaxis\":\"x\",\"y\":[78],\"yaxis\":\"y\",\"type\":\"bar\"},{\"alignmentgroup\":\"True\",\"hovertemplate\":\"Subjects=%{x}\\u003cbr\\u003eScores=%{y}\\u003cextra\\u003e\\u003c\\u002fextra\\u003e\",\"legendgroup\":\"History\",\"marker\":{\"color\":\"#ab63fa\",\"pattern\":{\"shape\":\"\"}},\"name\":\"History\",\"offsetgroup\":\"History\",\"orientation\":\"v\",\"showlegend\":true,\"textposition\":\"auto\",\"x\":[\"History\"],\"xaxis\":\"x\",\"y\":[88],\"yaxis\":\"y\",\"type\":\"bar\"}],                        {\"template\":{\"data\":{\"histogram2dcontour\":[{\"type\":\"histogram2dcontour\",\"colorbar\":{\"outlinewidth\":0,\"ticks\":\"\"},\"colorscale\":[[0.0,\"#0d0887\"],[0.1111111111111111,\"#46039f\"],[0.2222222222222222,\"#7201a8\"],[0.3333333333333333,\"#9c179e\"],[0.4444444444444444,\"#bd3786\"],[0.5555555555555556,\"#d8576b\"],[0.6666666666666666,\"#ed7953\"],[0.7777777777777778,\"#fb9f3a\"],[0.8888888888888888,\"#fdca26\"],[1.0,\"#f0f921\"]]}],\"choropleth\":[{\"type\":\"choropleth\",\"colorbar\":{\"outlinewidth\":0,\"ticks\":\"\"}}],\"histogram2d\":[{\"type\":\"histogram2d\",\"colorbar\":{\"outlinewidth\":0,\"ticks\":\"\"},\"colorscale\":[[0.0,\"#0d0887\"],[0.1111111111111111,\"#46039f\"],[0.2222222222222222,\"#7201a8\"],[0.3333333333333333,\"#9c179e\"],[0.4444444444444444,\"#bd3786\"],[0.5555555555555556,\"#d8576b\"],[0.6666666666666666,\"#ed7953\"],[0.7777777777777778,\"#fb9f3a\"],[0.8888888888888888,\"#fdca26\"],[1.0,\"#f0f921\"]]}],\"heatmap\":[{\"type\":\"heatmap\",\"colorbar\":{\"outlinewidth\":0,\"ticks\":\"\"},\"colorscale\":[[0.0,\"#0d0887\"],[0.1111111111111111,\"#46039f\"],[0.2222222222222222,\"#7201a8\"],[0.3333333333333333,\"#9c179e\"],[0.4444444444444444,\"#bd3786\"],[0.5555555555555556,\"#d8576b\"],[0.6666666666666666,\"#ed7953\"],[0.7777777777777778,\"#fb9f3a\"],[0.8888888888888888,\"#fdca26\"],[1.0,\"#f0f921\"]]}],\"heatmapgl\":[{\"type\":\"heatmapgl\",\"colorbar\":{\"outlinewidth\":0,\"ticks\":\"\"},\"colorscale\":[[0.0,\"#0d0887\"],[0.1111111111111111,\"#46039f\"],[0.2222222222222222,\"#7201a8\"],[0.3333333333333333,\"#9c179e\"],[0.4444444444444444,\"#bd3786\"],[0.5555555555555556,\"#d8576b\"],[0.6666666666666666,\"#ed7953\"],[0.7777777777777778,\"#fb9f3a\"],[0.8888888888888888,\"#fdca26\"],[1.0,\"#f0f921\"]]}],\"contourcarpet\":[{\"type\":\"contourcarpet\",\"colorbar\":{\"outlinewidth\":0,\"ticks\":\"\"}}],\"contour\":[{\"type\":\"contour\",\"colorbar\":{\"outlinewidth\":0,\"ticks\":\"\"},\"colorscale\":[[0.0,\"#0d0887\"],[0.1111111111111111,\"#46039f\"],[0.2222222222222222,\"#7201a8\"],[0.3333333333333333,\"#9c179e\"],[0.4444444444444444,\"#bd3786\"],[0.5555555555555556,\"#d8576b\"],[0.6666666666666666,\"#ed7953\"],[0.7777777777777778,\"#fb9f3a\"],[0.8888888888888888,\"#fdca26\"],[1.0,\"#f0f921\"]]}],\"surface\":[{\"type\":\"surface\",\"colorbar\":{\"outlinewidth\":0,\"ticks\":\"\"},\"colorscale\":[[0.0,\"#0d0887\"],[0.1111111111111111,\"#46039f\"],[0.2222222222222222,\"#7201a8\"],[0.3333333333333333,\"#9c179e\"],[0.4444444444444444,\"#bd3786\"],[0.5555555555555556,\"#d8576b\"],[0.6666666666666666,\"#ed7953\"],[0.7777777777777778,\"#fb9f3a\"],[0.8888888888888888,\"#fdca26\"],[1.0,\"#f0f921\"]]}],\"mesh3d\":[{\"type\":\"mesh3d\",\"colorbar\":{\"outlinewidth\":0,\"ticks\":\"\"}}],\"scatter\":[{\"fillpattern\":{\"fillmode\":\"overlay\",\"size\":10,\"solidity\":0.2},\"type\":\"scatter\"}],\"parcoords\":[{\"type\":\"parcoords\",\"line\":{\"colorbar\":{\"outlinewidth\":0,\"ticks\":\"\"}}}],\"scatterpolargl\":[{\"type\":\"scatterpolargl\",\"marker\":{\"colorbar\":{\"outlinewidth\":0,\"ticks\":\"\"}}}],\"bar\":[{\"error_x\":{\"color\":\"#2a3f5f\"},\"error_y\":{\"color\":\"#2a3f5f\"},\"marker\":{\"line\":{\"color\":\"#E5ECF6\",\"width\":0.5},\"pattern\":{\"fillmode\":\"overlay\",\"size\":10,\"solidity\":0.2}},\"type\":\"bar\"}],\"scattergeo\":[{\"type\":\"scattergeo\",\"marker\":{\"colorbar\":{\"outlinewidth\":0,\"ticks\":\"\"}}}],\"scatterpolar\":[{\"type\":\"scatterpolar\",\"marker\":{\"colorbar\":{\"outlinewidth\":0,\"ticks\":\"\"}}}],\"histogram\":[{\"marker\":{\"pattern\":{\"fillmode\":\"overlay\",\"size\":10,\"solidity\":0.2}},\"type\":\"histogram\"}],\"scattergl\":[{\"type\":\"scattergl\",\"marker\":{\"colorbar\":{\"outlinewidth\":0,\"ticks\":\"\"}}}],\"scatter3d\":[{\"type\":\"scatter3d\",\"line\":{\"colorbar\":{\"outlinewidth\":0,\"ticks\":\"\"}},\"marker\":{\"colorbar\":{\"outlinewidth\":0,\"ticks\":\"\"}}}],\"scattermapbox\":[{\"type\":\"scattermapbox\",\"marker\":{\"colorbar\":{\"outlinewidth\":0,\"ticks\":\"\"}}}],\"scatterternary\":[{\"type\":\"scatterternary\",\"marker\":{\"colorbar\":{\"outlinewidth\":0,\"ticks\":\"\"}}}],\"scattercarpet\":[{\"type\":\"scattercarpet\",\"marker\":{\"colorbar\":{\"outlinewidth\":0,\"ticks\":\"\"}}}],\"carpet\":[{\"aaxis\":{\"endlinecolor\":\"#2a3f5f\",\"gridcolor\":\"white\",\"linecolor\":\"white\",\"minorgridcolor\":\"white\",\"startlinecolor\":\"#2a3f5f\"},\"baxis\":{\"endlinecolor\":\"#2a3f5f\",\"gridcolor\":\"white\",\"linecolor\":\"white\",\"minorgridcolor\":\"white\",\"startlinecolor\":\"#2a3f5f\"},\"type\":\"carpet\"}],\"table\":[{\"cells\":{\"fill\":{\"color\":\"#EBF0F8\"},\"line\":{\"color\":\"white\"}},\"header\":{\"fill\":{\"color\":\"#C8D4E3\"},\"line\":{\"color\":\"white\"}},\"type\":\"table\"}],\"barpolar\":[{\"marker\":{\"line\":{\"color\":\"#E5ECF6\",\"width\":0.5},\"pattern\":{\"fillmode\":\"overlay\",\"size\":10,\"solidity\":0.2}},\"type\":\"barpolar\"}],\"pie\":[{\"automargin\":true,\"type\":\"pie\"}]},\"layout\":{\"autotypenumbers\":\"strict\",\"colorway\":[\"#636efa\",\"#EF553B\",\"#00cc96\",\"#ab63fa\",\"#FFA15A\",\"#19d3f3\",\"#FF6692\",\"#B6E880\",\"#FF97FF\",\"#FECB52\"],\"font\":{\"color\":\"#2a3f5f\"},\"hovermode\":\"closest\",\"hoverlabel\":{\"align\":\"left\"},\"paper_bgcolor\":\"white\",\"plot_bgcolor\":\"#E5ECF6\",\"polar\":{\"bgcolor\":\"#E5ECF6\",\"angularaxis\":{\"gridcolor\":\"white\",\"linecolor\":\"white\",\"ticks\":\"\"},\"radialaxis\":{\"gridcolor\":\"white\",\"linecolor\":\"white\",\"ticks\":\"\"}},\"ternary\":{\"bgcolor\":\"#E5ECF6\",\"aaxis\":{\"gridcolor\":\"white\",\"linecolor\":\"white\",\"ticks\":\"\"},\"baxis\":{\"gridcolor\":\"white\",\"linecolor\":\"white\",\"ticks\":\"\"},\"caxis\":{\"gridcolor\":\"white\",\"linecolor\":\"white\",\"ticks\":\"\"}},\"coloraxis\":{\"colorbar\":{\"outlinewidth\":0,\"ticks\":\"\"}},\"colorscale\":{\"sequential\":[[0.0,\"#0d0887\"],[0.1111111111111111,\"#46039f\"],[0.2222222222222222,\"#7201a8\"],[0.3333333333333333,\"#9c179e\"],[0.4444444444444444,\"#bd3786\"],[0.5555555555555556,\"#d8576b\"],[0.6666666666666666,\"#ed7953\"],[0.7777777777777778,\"#fb9f3a\"],[0.8888888888888888,\"#fdca26\"],[1.0,\"#f0f921\"]],\"sequentialminus\":[[0.0,\"#0d0887\"],[0.1111111111111111,\"#46039f\"],[0.2222222222222222,\"#7201a8\"],[0.3333333333333333,\"#9c179e\"],[0.4444444444444444,\"#bd3786\"],[0.5555555555555556,\"#d8576b\"],[0.6666666666666666,\"#ed7953\"],[0.7777777777777778,\"#fb9f3a\"],[0.8888888888888888,\"#fdca26\"],[1.0,\"#f0f921\"]],\"diverging\":[[0,\"#8e0152\"],[0.1,\"#c51b7d\"],[0.2,\"#de77ae\"],[0.3,\"#f1b6da\"],[0.4,\"#fde0ef\"],[0.5,\"#f7f7f7\"],[0.6,\"#e6f5d0\"],[0.7,\"#b8e186\"],[0.8,\"#7fbc41\"],[0.9,\"#4d9221\"],[1,\"#276419\"]]},\"xaxis\":{\"gridcolor\":\"white\",\"linecolor\":\"white\",\"ticks\":\"\",\"title\":{\"standoff\":15},\"zerolinecolor\":\"white\",\"automargin\":true,\"zerolinewidth\":2},\"yaxis\":{\"gridcolor\":\"white\",\"linecolor\":\"white\",\"ticks\":\"\",\"title\":{\"standoff\":15},\"zerolinecolor\":\"white\",\"automargin\":true,\"zerolinewidth\":2},\"scene\":{\"xaxis\":{\"backgroundcolor\":\"#E5ECF6\",\"gridcolor\":\"white\",\"linecolor\":\"white\",\"showbackground\":true,\"ticks\":\"\",\"zerolinecolor\":\"white\",\"gridwidth\":2},\"yaxis\":{\"backgroundcolor\":\"#E5ECF6\",\"gridcolor\":\"white\",\"linecolor\":\"white\",\"showbackground\":true,\"ticks\":\"\",\"zerolinecolor\":\"white\",\"gridwidth\":2},\"zaxis\":{\"backgroundcolor\":\"#E5ECF6\",\"gridcolor\":\"white\",\"linecolor\":\"white\",\"showbackground\":true,\"ticks\":\"\",\"zerolinecolor\":\"white\",\"gridwidth\":2}},\"shapedefaults\":{\"line\":{\"color\":\"#2a3f5f\"}},\"annotationdefaults\":{\"arrowcolor\":\"#2a3f5f\",\"arrowhead\":0,\"arrowwidth\":1},\"geo\":{\"bgcolor\":\"white\",\"landcolor\":\"#E5ECF6\",\"subunitcolor\":\"white\",\"showland\":true,\"showlakes\":true,\"lakecolor\":\"white\"},\"title\":{\"x\":0.05},\"mapbox\":{\"style\":\"light\"}}},\"xaxis\":{\"anchor\":\"y\",\"domain\":[0.0,1.0],\"title\":{\"text\":\"Subjects\"},\"categoryorder\":\"array\",\"categoryarray\":[\"Math\",\"Science\",\"English\",\"History\"]},\"yaxis\":{\"anchor\":\"x\",\"domain\":[0.0,1.0],\"title\":{\"text\":\"Scores\"}},\"legend\":{\"title\":{\"text\":\"Subjects\"},\"tracegroupgap\":0},\"title\":{\"text\":\"Subject-wise Scores\"},\"barmode\":\"relative\"},                        {\"responsive\": true}                    ).then(function(){\n",
       "                            \n",
       "var gd = document.getElementById('d702e518-a01a-4d53-97d8-1969c7029aaf');\n",
       "var x = new MutationObserver(function (mutations, observer) {{\n",
       "        var display = window.getComputedStyle(gd).display;\n",
       "        if (!display || display === 'none') {{\n",
       "            console.log([gd, 'removed!']);\n",
       "            Plotly.purge(gd);\n",
       "            observer.disconnect();\n",
       "        }}\n",
       "}});\n",
       "\n",
       "// Listen for the removal of the full notebook cells\n",
       "var notebookContainer = gd.closest('#notebook-container');\n",
       "if (notebookContainer) {{\n",
       "    x.observe(notebookContainer, {childList: true});\n",
       "}}\n",
       "\n",
       "// Listen for the clearing of the current output cell\n",
       "var outputEl = gd.closest('.output');\n",
       "if (outputEl) {{\n",
       "    x.observe(outputEl, {childList: true});\n",
       "}}\n",
       "\n",
       "                        })                };                });            </script>        </div>"
      ]
     },
     "metadata": {},
     "output_type": "display_data"
    }
   ],
   "source": [
    "import plotly.express as px\n",
    "\n",
    "# Sample data\n",
    "data = {\n",
    "    'Subjects': ['Math', 'Science', 'English', 'History'],\n",
    "    'Scores': [85, 90, 78, 88]\n",
    "}\n",
    "\n",
    "# Create DataFrame\n",
    "import pandas as pd\n",
    "df = pd.DataFrame(data)\n",
    "\n",
    "# Create bar plot\n",
    "fig = px.bar(df, x='Subjects', y='Scores', title='Subject-wise Scores', color='Subjects')\n",
    "\n",
    "# Show plot\n",
    "fig.show()\n"
   ]
  },
  {
   "cell_type": "markdown",
   "id": "fe32a29c-623a-40e8-9fb1-688557e6f871",
   "metadata": {},
   "source": [
    "---\n",
    "\n",
    "## 6. Create a DataFrame and add a new column based on an existing column."
   ]
  },
  {
   "cell_type": "code",
   "execution_count": 13,
   "id": "286ec69a-9ed2-4d12-9d14-126a9985efaf",
   "metadata": {},
   "outputs": [
    {
     "name": "stdout",
     "output_type": "stream",
     "text": [
      "   Marks Result\n",
      "0     50   Fail\n",
      "1     95   Pass\n",
      "2     60   Pass\n",
      "3     90   Pass\n",
      "4     75   Pass\n"
     ]
    }
   ],
   "source": [
    "import pandas as pd\n",
    "\n",
    "# Create DataFrame\n",
    "df = pd.DataFrame({\n",
    "    'Marks': [50, 95, 60, 90, 75]\n",
    "})\n",
    "\n",
    "# Add new column based on 'Marks'\n",
    "df['Result'] = df['Marks'].apply(lambda x: 'Pass' if x >= 60 else 'Fail')\n",
    "\n",
    "# Display the DataFrame\n",
    "print(df)\n"
   ]
  },
  {
   "cell_type": "markdown",
   "id": "011788c5-a039-4b7b-9065-dc21ce7902aa",
   "metadata": {},
   "source": [
    "---\n",
    "\n",
    "## 7. Write a program to perform element-wise multiplication of two NumPy arrays."
   ]
  },
  {
   "cell_type": "code",
   "execution_count": 14,
   "id": "b41ace23-5c7a-4664-a743-942175ef9d99",
   "metadata": {},
   "outputs": [
    {
     "name": "stdout",
     "output_type": "stream",
     "text": [
      "Result: [ 5 12 21 32]\n"
     ]
    }
   ],
   "source": [
    "import numpy as np\n",
    "\n",
    "# Create two NumPy arrays\n",
    "a = np.array([1, 2, 3, 4])\n",
    "b = np.array([5, 6, 7, 8])\n",
    "\n",
    "# Element-wise multiplication\n",
    "result = a * b\n",
    "\n",
    "# Print result\n",
    "print(\"Result:\", result)\n"
   ]
  },
  {
   "cell_type": "markdown",
   "id": "a19694ce-5cd1-4990-b070-c647e8a28b84",
   "metadata": {},
   "source": [
    "---\n",
    "\n",
    "## 8.Create a line plot with multiple lines using Matplotlib."
   ]
  },
  {
   "cell_type": "code",
   "execution_count": 15,
   "id": "23f3b998-b01d-4b4f-b9a1-8208b24331fe",
   "metadata": {},
   "outputs": [
    {
     "data": {
      "image/png": "[encoded data removed]",
      "text/plain": [
       "<Figure size 640x480 with 1 Axes>"
      ]
     },
     "metadata": {},
     "output_type": "display_data"
    }
   ],
   "source": [
    "import matplotlib.pyplot as plt\n",
    "\n",
    "# Sample data\n",
    "x = [1, 2, 3, 4, 5]\n",
    "y1 = [10, 20, 25, 30, 35]\n",
    "y2 = [5, 15, 20, 25, 30]\n",
    "\n",
    "# Create line plots\n",
    "plt.plot(x, y1, label='Line 1', color='blue', marker='o')\n",
    "plt.plot(x, y2, label='Line 2', color='green', marker='s')\n",
    "\n",
    "# Add labels, title, legend\n",
    "plt.xlabel('X-axis')\n",
    "plt.ylabel('Y-axis')\n",
    "plt.title('Multiple Line Plot')\n",
    "plt.legend()\n",
    "\n",
    "# Show plot\n",
    "plt.show()\n"
   ]
  },
  {
   "cell_type": "markdown",
   "id": "62e647a3-6b06-4b3a-a094-f7b43afa9cff",
   "metadata": {},
   "source": [
    "---\n",
    "\n",
    "## 9. Generate a Pandas DataFrame and filter rows where a column value is greater than a threshold."
   ]
  },
  {
   "cell_type": "code",
   "execution_count": 16,
   "id": "bc958ae6-86d5-4f09-9f08-9623b4a24caf",
   "metadata": {},
   "outputs": [
    {
     "name": "stdout",
     "output_type": "stream",
     "text": [
      "        Name  Marks Subject\n",
      "0     Khushi     85    Math\n",
      "2  Priyanshu     77    Math\n"
     ]
    }
   ],
   "source": [
    "import pandas as pd\n",
    "\n",
    "# Create sample DataFrame\n",
    "df = pd.DataFrame({\n",
    "    'Name': ['Khushi', 'Reshu', 'Priyanshu', 'Adarsh', 'Vedant'],\n",
    "    'Marks': [85, 42, 77, 90, 65],\n",
    "    'Subject': ['Math', 'Science', 'Math', 'English', 'Science']\n",
    "})\n",
    "\n",
    "# Filter: Marks > 70 and Subject == 'Math'\n",
    "filtered_df = df[(df['Marks'] > 70) & (df['Subject'] == 'Math')]\n",
    "\n",
    "# Display filtered data\n",
    "print(filtered_df)\n"
   ]
  },
  {
   "cell_type": "markdown",
   "id": "099899d2-7d0d-46f2-81dd-fcbfd4175baf",
   "metadata": {},
   "source": [
    "---\n",
    "\n",
    "## 10.Create a histogram using Seaborn to visualize a distribution."
   ]
  },
  {
   "cell_type": "code",
   "execution_count": 17,
   "id": "52d34435-30f0-4f4a-b66c-a9511303c919",
   "metadata": {},
   "outputs": [
    {
     "data": {
      "image/png": "[encoded data removed]",
      "text/plain": [
       "<Figure size 640x480 with 1 Axes>"
      ]
     },
     "metadata": {},
     "output_type": "display_data"
    }
   ],
   "source": [
    "\n",
    "%matplotlib inline\n",
    "\n",
    "import seaborn as sns\n",
    "import matplotlib.pyplot as plt\n",
    "import numpy as np\n",
    "\n",
    "# Generate sample data\n",
    "data = np.random.normal(loc=50, scale=10, size=100)\n",
    "\n",
    "# Create histogram\n",
    "sns.histplot(data, bins=10, kde=True, color='skyblue')\n",
    "\n",
    "# Add labels\n",
    "plt.title(\"Histogram of Distribution\")\n",
    "plt.xlabel(\"Value\")\n",
    "plt.ylabel(\"Frequency\")\n",
    "\n",
    "# Show plot\n",
    "plt.show()\n"
   ]
  },
  {
   "cell_type": "markdown",
   "id": "bb42f56e-95d8-4f18-a84a-9c160b9b17ed",
   "metadata": {},
   "source": [
    "---\n",
    "\n",
    "## 11. Perform matrix multiplication using NumPy."
   ]
  },
  {
   "cell_type": "code",
   "execution_count": 18,
   "id": "700f9c17-dc44-4625-ae84-44ca6f56ba97",
   "metadata": {},
   "outputs": [
    {
     "name": "stdout",
     "output_type": "stream",
     "text": [
      "Matrix A:\n",
      " [[1 2 3]\n",
      " [4 5 6]\n",
      " [7 8 9]]\n",
      "\n",
      "Matrix B:\n",
      " [[9 8 7]\n",
      " [6 5 4]\n",
      " [3 2 1]]\n",
      "\n",
      "A @ B (Matrix Multiplication):\n",
      " [[ 30  24  18]\n",
      " [ 84  69  54]\n",
      " [138 114  90]]\n"
     ]
    }
   ],
   "source": [
    "import numpy as np\n",
    "\n",
    "# Define two 3x3 matrices\n",
    "A = np.array([[1, 2, 3],\n",
    "              [4, 5, 6],\n",
    "              [7, 8, 9]])\n",
    "\n",
    "B = np.array([[9, 8, 7],\n",
    "              [6, 5, 4],\n",
    "              [3, 2, 1]])\n",
    "\n",
    "# Perform matrix multiplication using @ operator\n",
    "C = A @ B\n",
    "\n",
    "# Display the result\n",
    "print(\"Matrix A:\\n\", A)\n",
    "print(\"\\nMatrix B:\\n\", B)\n",
    "print(\"\\nA @ B (Matrix Multiplication):\\n\", C)\n"
   ]
  },
  {
   "cell_type": "markdown",
   "id": "7798900a-e7a8-488e-9261-dceeeb4652ef",
   "metadata": {},
   "source": [
    "---\n",
    "\n",
    "## 12. Use Pandas to load a CSV file and display its first 5 rows."
   ]
  },
  {
   "cell_type": "code",
   "execution_count": 32,
   "id": "7be91d6b-ccd0-4c03-bcdd-927d20705fed",
   "metadata": {},
   "outputs": [
    {
     "data": {
      "text/html": [
       "<div>\n",
       "<style scoped>\n",
       "    .dataframe tbody tr th:only-of-type {\n",
       "        vertical-align: middle;\n",
       "    }\n",
       "\n",
       "    .dataframe tbody tr th {\n",
       "        vertical-align: top;\n",
       "    }\n",
       "\n",
       "    .dataframe thead th {\n",
       "        text-align: right;\n",
       "    }\n",
       "</style>\n",
       "<table border=\"1\" class=\"dataframe\">\n",
       "  <thead>\n",
       "    <tr style=\"text-align: right;\">\n",
       "      <th></th>\n",
       "      <th>total_bill</th>\n",
       "      <th>tip</th>\n",
       "      <th>sex</th>\n",
       "      <th>smoker</th>\n",
       "      <th>day</th>\n",
       "      <th>time</th>\n",
       "      <th>size</th>\n",
       "    </tr>\n",
       "  </thead>\n",
       "  <tbody>\n",
       "    <tr>\n",
       "      <th>0</th>\n",
       "      <td>16.99</td>\n",
       "      <td>1.01</td>\n",
       "      <td>Female</td>\n",
       "      <td>No</td>\n",
       "      <td>Sun</td>\n",
       "      <td>Dinner</td>\n",
       "      <td>2</td>\n",
       "    </tr>\n",
       "    <tr>\n",
       "      <th>1</th>\n",
       "      <td>10.34</td>\n",
       "      <td>1.66</td>\n",
       "      <td>Male</td>\n",
       "      <td>No</td>\n",
       "      <td>Sun</td>\n",
       "      <td>Dinner</td>\n",
       "      <td>3</td>\n",
       "    </tr>\n",
       "    <tr>\n",
       "      <th>2</th>\n",
       "      <td>21.01</td>\n",
       "      <td>3.50</td>\n",
       "      <td>Male</td>\n",
       "      <td>No</td>\n",
       "      <td>Sun</td>\n",
       "      <td>Dinner</td>\n",
       "      <td>3</td>\n",
       "    </tr>\n",
       "    <tr>\n",
       "      <th>3</th>\n",
       "      <td>23.68</td>\n",
       "      <td>3.31</td>\n",
       "      <td>Male</td>\n",
       "      <td>No</td>\n",
       "      <td>Sun</td>\n",
       "      <td>Dinner</td>\n",
       "      <td>2</td>\n",
       "    </tr>\n",
       "    <tr>\n",
       "      <th>4</th>\n",
       "      <td>24.59</td>\n",
       "      <td>3.61</td>\n",
       "      <td>Female</td>\n",
       "      <td>No</td>\n",
       "      <td>Sun</td>\n",
       "      <td>Dinner</td>\n",
       "      <td>4</td>\n",
       "    </tr>\n",
       "  </tbody>\n",
       "</table>\n",
       "</div>"
      ],
      "text/plain": [
       "   total_bill   tip     sex smoker  day    time  size\n",
       "0       16.99  1.01  Female     No  Sun  Dinner     2\n",
       "1       10.34  1.66    Male     No  Sun  Dinner     3\n",
       "2       21.01  3.50    Male     No  Sun  Dinner     3\n",
       "3       23.68  3.31    Male     No  Sun  Dinner     2\n",
       "4       24.59  3.61  Female     No  Sun  Dinner     4"
      ]
     },
     "execution_count": 32,
     "metadata": {},
     "output_type": "execute_result"
    }
   ],
   "source": [
    "import pandas as pd\n",
    "import seaborn as sns\n",
    "\n",
    "# Load the built-in 'tips' dataset from seaborn\n",
    "tips = sns.load_dataset('tips')\n",
    "\n",
    "# Display the first 5 rows\n",
    "tips.head()\n"
   ]
  },
  {
   "cell_type": "markdown",
   "id": "bf62fe32-9e43-4afc-92eb-90f10a4763dc",
   "metadata": {},
   "source": [
    "---\n",
    "\n",
    "## 13. Create a 3D scatter plot using Plotly."
   ]
  },
  {
   "cell_type": "code",
   "execution_count": 26,
   "id": "8b8689f8-b171-4b06-980a-599feaffe6a7",
   "metadata": {},
   "outputs": [
    {
     "data": {
      "text/html": [
       "<iframe\n",
       "    scrolling=\"no\"\n",
       "    width=\"100%\"\n",
       "    height=\"545px\"\n",
       "    src=\"iframe_figures/figure_26.html\"\n",
       "    frameborder=\"0\"\n",
       "    allowfullscreen\n",
       "></iframe>\n"
      ]
     },
     "metadata": {},
     "output_type": "display_data"
    }
   ],
   "source": [
    "import plotly.express as px\n",
    "import plotly.io as pio\n",
    "pio.renderers.default = 'iframe_connected'  # Ensures it works in Jupyter\n",
    "\n",
    "# Sample 3D data\n",
    "import pandas as pd\n",
    "df = pd.DataFrame({\n",
    "    'x': [10, 20, 30, 40, 50],\n",
    "    'y': [5, 15, 25, 35, 45],\n",
    "    'z': [2, 8, 18, 28, 38],\n",
    "    'label': ['A', 'B', 'C', 'D', 'E']\n",
    "})\n",
    "\n",
    "# Create 3D scatter plot\n",
    "fig = px.scatter_3d(df, x='x', y='y', z='z', color='label', title='3D Scatter Plot')\n",
    "fig.show()\n"
   ]
  },
  {
   "cell_type": "code",
   "execution_count": null,
   "id": "5ffd6d48-4dd7-4196-a416-bad4355d8785",
   "metadata": {},
   "outputs": [],
   "source": []
  }
 ],
 "metadata": {
  "kernelspec": {
   "display_name": "Python 3 (ipykernel)",
   "language": "python",
   "name": "python3"
  },
  "language_info": {
   "codemirror_mode": {
    "name": "ipython",
    "version": 3
   },
   "file_extension": ".py",
   "mimetype": "text/x-python",
   "name": "python",
   "nbconvert_exporter": "python",
   "pygments_lexer": "ipython3",
   "version": "3.12.7"
  }
 },
 "nbformat": 4,
 "nbformat_minor": 5
}
