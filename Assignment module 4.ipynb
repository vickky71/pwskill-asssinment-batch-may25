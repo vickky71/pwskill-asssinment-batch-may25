{
 "cells": [
  {
   "cell_type": "markdown",
   "id": "138ada09-2ef1-4a29-8db8-4b42d5993ee4",
   "metadata": {},
   "source": [
    "Data Types and Structures Questions\n"
   ]
  },
  {
   "cell_type": "markdown",
   "id": "626652f8-b9cb-408e-95dc-67f6184bbd6a",
   "metadata": {},
   "source": [
    "1.What are data structures, and why are they important.\n",
    "\n",
    "  >> Data structures serve as methods for organizing and storing data within a computer, enabling efficient access and modification.\n",
    "  The Significance of Data Structures:\n",
    "  Efficient Data Access: Quick searching, inserting, and deleting.\n",
    "  Organized Code: Maintains a logical structure for data.\n",
    "  Enhanced Performance: Minimizes memory usage and accelerates program execution.\n",
    "  Problem Solving: Crucial for addressing real-world computing challenges (such as routing and scheduling).\n",
    "  Basis of Algorithms: Numerous algorithms are constructed using data structures."
   ]
  },
  {
   "cell_type": "markdown",
   "id": "78cb472f-f76f-4265-9c64-b27e8f1af955",
   "metadata": {},
   "source": [
    "2. Explain the difference between mutable and immutable data types with examples.\n",
    "\n",
    "  Mutable Data Types-These can be changed after creation.You can add, remove, or modify elements without changing the object’s identity.\n",
    "\n",
    "    example\n",
    "      # List (Mutable)\n",
    "       my_list = [1, 2, 3]\n",
    "      my_list.append(4)     # Adds 4 to the list\n",
    "      print(my_list)        # Output: [1, 2, 3, 4]\n",
    "\n",
    " Immutable Data Types-These cannot be changed after creation.Any \"modification\" creates a new object.\n",
    "\n",
    "   example \n",
    "  # String (Immutable)\n",
    "     name = \"Vickky\"\n",
    "     name = name + \" Mohan\"  # Creates a new string\n",
    "     print(name)             # Output: Vickky Mohan\n",
    "  \n",
    "    "
   ]
  },
  {
   "cell_type": "markdown",
   "id": "a8018f20-526e-4121-83d3-9f68342aded7",
   "metadata": {},
   "source": [
    "3.What are the main differences between lists and tuples in Python3\n",
    "\n",
    "  >> Tuples are immutable objects and lists are mutable objects. Once defined, tuples have a fixed length and lists have a dynamic length. Tuples use  less memory and are faster to access than to lists. Tuple syntax uses round brackets or parenthesis, and list syntax uses square brackets."
   ]
  },
  {
   "cell_type": "markdown",
   "id": "6b173a75-c3c8-4222-be92-736c1f71a2b9",
   "metadata": {},
   "source": [
    "4. Describe how dictionaries store data\n",
    "\n",
    "   A dictionary in Python stores data as key-value pairs using a structure called a hash table.\n",
    "   Python employs a hashing algorithm: The key is submitted to a hash function. This function produces a hash code (a numerical value). That hash code    idictates the location in memory for storing the key-value pair.\n",
    "\n",
    "   my_dict = {\n",
    "    \"name\": \"Vickky\",\n",
    "    \"age\": 25,\n",
    "    \"city\": \"Delhi\"\n",
    "} \n",
    "\n",
    "    Here:\n",
    "\n",
    "    \"name\", \"age\", \"city\" are keys.\n",
    "\n",
    "    \"Vickky\", 25, \"Delhi\" are the values.\n",
    "\n",
    "    Each key is unique, and it is used to quickly look up the corresponding value."
   ]
  },
  {
   "cell_type": "markdown",
   "id": "2209bb52-a3ce-4c8d-b2f1-f2d4a170fe59",
   "metadata": {},
   "source": [
    "5. Why might you use a set instead of a list in Python3\n",
    "\n",
    "   When to Use a Set:\n",
    "     > When you need to store unique elements.\n",
    "     > When the order of elements doesn't matter.\n",
    "     > When you need to perform frequent membership tests.\n",
    "     >When you need to perform set operations.\n",
    "     > When you need to remove duplicates from a collection.\n",
    "  When to Use a List:\n",
    "     > When you need to store elements in a specific order.\n",
    "     > When you need to access elements by their index.\n",
    "     > When you need to store duplicate elements.\n",
    "     > When you need to add, remove, or modify elements frequently. "
   ]
  },
  {
   "cell_type": "markdown",
   "id": "ea0bbbe9-7f50-4c66-aaa8-5c9279687f63",
   "metadata": {},
   "source": [
    "6. What is a string in Python, and how is it different from a list3\n",
    "\n",
    "    In Python, a string is an immutable sequence of characters, meaning once it is created, it cannot be changed. Strings are defined using either         single quotes, double quotes, or triple quotes. A list, on the other hand, is a mutable sequence of elements, which means you can modify, add,         or remove elements after the list has been created. Lists are defined using square brackets and can contain elements of different data types."
   ]
  },
  {
   "cell_type": "markdown",
   "id": "0edb3160-f77f-40fc-98d6-2a0f30adec49",
   "metadata": {},
   "source": [
    "7. How do tuples ensure data integrity in Python3.\n",
    "\n",
    "   Tuples ensure data integrity in Python 3 by being immutable, which prevents accidental or unauthorized changes to their data.\n",
    "    "
   ]
  },
  {
   "cell_type": "markdown",
   "id": "d5f1eb85-6e15-41d3-b9f0-c53e841c9e94",
   "metadata": {},
   "source": [
    "8. What is a hash table, and how does it relate to dictionaries in Python3\n",
    "\n",
    "    >> A **hash table** is a data structure that stores key-value pairs and uses a **hash function** to compute an index into an array of buckets from        which the desired value can be found.\n",
    "\n",
    "       In **Python 3**, a **dictionary (`dict`)** is an implementation of a hash table, where keys are hashed to efficiently store and retrieve values.\n"
   ]
  },
  {
   "cell_type": "markdown",
   "id": "0179b49f-366a-452f-87b0-10c774419a76",
   "metadata": {},
   "source": [
    "9. Can lists contain different data types in Python3\n",
    "\n",
    "    >> Yes, lists in Python 3 can contain different data types, such as integers, strings, floats, or even other lists and objects, all in the same            list."
   ]
  },
  {
   "cell_type": "markdown",
   "id": "d139b5ff-0727-46f9-94ac-c57303052e32",
   "metadata": {},
   "source": [
    "10. Explain why strings are immutable in Python\n",
    "\n",
    "       >> Strings are immutable in Python because once a string is created, its contents cannot be changed. This design:\n",
    "\n",
    "       1. Ensures data integrity – accidental changes are avoided.\n",
    "       2. Enables memory efficiency – identical strings can be shared.\n",
    "       3. Supports hashability – strings can be used as dictionary keys.\n",
    "\n",
    "       To modify a string, Python creates a new one instead of altering the original.\n"
   ]
  },
  {
   "cell_type": "markdown",
   "id": "d3c1ae8e-c5ff-4cce-81d2-5645ee7c682d",
   "metadata": {},
   "source": [
    "11. What advantages do dictionaries offer over lists for certain tasks3.\n",
    "\n",
    "       Dictionaries offer several advantages over lists for certain tasks:\n",
    "    \n",
    "        >>Faster lookups – Accessing values by key is much faster (O(1) on average) than searching through a list.\n",
    "        >> Key-based access – You can access data using meaningful keys instead of numeric indexes.\n",
    "        >> Better organization – Data is stored in key-value pairs, making it easier to represent real-world relationships.\n",
    "        >> No need for index management – You don't need to track positions; just use keys."
   ]
  },
  {
   "cell_type": "markdown",
   "id": "96e1fe27-dffa-4f46-8a18-1d475c3e6136",
   "metadata": {},
   "source": [
    "12. Describe a scenario where using a tuple would be preferable over a list\n",
    "\n",
    "     >> A tuple is preferable over a list when you need to **store a fixed set of values that should not change**, such as the **coordinates of a              point        (x, y)** or the **days of the week**. For example, storing a point as `(10, 20)` ensures the values remain constant and prevents          accidental            modification, helping maintain data integrity.\n"
   ]
  },
  {
   "cell_type": "markdown",
   "id": "d8894c6c-71c7-4936-b4e3-013a67dece4c",
   "metadata": {},
   "source": [
    "13. How do sets handle duplicate values in Python3\n",
    "\n",
    "   >>  In Python 3, **sets automatically remove duplicate values** — they only store **unique elements**. If you try to add a duplicate, the set               ignores      it.\n"
   ]
  },
  {
   "cell_type": "markdown",
   "id": "5057c610-9cdf-4b44-bc41-1c8f67fca2dd",
   "metadata": {},
   "source": [
    "14.  How does the “in” keyword work differently for lists and dictionaries.\n",
    "\n",
    "       >>  In Python 3, the in keyword works differently for lists and dictionaries:\n",
    "       >> In a list, in checks if a value exists among the elements.\n",
    "            3 in [1, 2, 3]  # True\n",
    "       >> In a dictionary, in checks if a key exists (not the value).\n",
    "             'name' in {'name': 'Alice', 'age': 25}  # True\n",
    "\n",
    "\n"
   ]
  },
  {
   "cell_type": "markdown",
   "id": "0b4411f8-e32b-4eca-934d-790b6a34dd74",
   "metadata": {},
   "source": [
    "15. Can you modify the elements of a tuple? Explain why or why not.\n",
    "\n",
    "    >> No, you **cannot modify the elements of a tuple** because **tuples are immutable** in Python. This means once a tuple is created, its contents         (values at each index) cannot be changed, added to, or removed — ensuring data remains consistent and protected from unintended changes.\n"
   ]
  },
  {
   "cell_type": "markdown",
   "id": "728345f7-d0a0-4f1a-bbe3-695149aa2bba",
   "metadata": {},
   "source": [
    "16. What is a nested dictionary, and give an example of its use case\n",
    "\n",
    "    >> A nested dictionary is a dictionary where values themselves are dictionaries. It allows you to represent hierarchical or structured data.\n",
    "example \n",
    "    >> students = {\n",
    "    \"101\": {\"name\": \"Alice\", \"grade\": \"A\"},\n",
    "    \"102\": {\"name\": \"Bob\", \"grade\": \"B\"}\n",
    "}\n",
    "    Here, each student ID maps to another dictionary containing that student's details."
   ]
  },
  {
   "cell_type": "markdown",
   "id": "c9a76cf8-d574-4c39-b997-9a11093b5a29",
   "metadata": {},
   "source": [
    "17. Describe the time complexity of accessing elements in a dictionary\n",
    "\n",
    "    >> The **time complexity of accessing elements in a dictionary** in Python is **O(1)** on average, due to its underlying **hash table**                   implementation. However, in rare cases (like hash collisions), it can degrade to **O(n)**, but this is uncommon with Python’s optimized hashing.\n",
    "\n"
   ]
  },
  {
   "cell_type": "markdown",
   "id": "4a45142f-0984-4f87-9d98-6804a75b1a18",
   "metadata": {},
   "source": [
    "18.  In what situations are lists preferred over dictionaries.\n",
    "\n",
    "    >>Lists are preferred over dictionaries in situations where:\n",
    "      Order matters – Lists maintain the order of elements.\n",
    "      You need sequential data – Like iterating over items by position.\n",
    "      You don’t need key-value pairs – Just values in a simple collection.\n",
    "      Data is homogeneous – Like a list of numbers or strings.\n",
    "      Index-based access is required – Accessing elements by their position.\n",
    "\n",
    " Example: Storing names in a class roster where order is important – [\"Alice\", \"Bob\", \"Charlie\"]"
   ]
  },
  {
   "cell_type": "markdown",
   "id": "65703c3b-1289-4218-9497-9bbf4cbc02de",
   "metadata": {},
   "source": [
    "19. Why are dictionaries considered unordered, and how does that affect data retrieval.\n",
    "\n",
    "    >> Dictionaries were traditionally considered unordered in Python because they did not maintain the insertion order of key-value pairs (before            python 3.7).However, from Python 3.7 onward, dictionaries preserve insertion order, but they are still conceptually unordered because:Their            primary design is based on hashing, not order.Keys are stored based on their hash values, not sequence."
   ]
  },
  {
   "cell_type": "markdown",
   "id": "8befa538-cdd7-4f37-a265-e997a679ae9d",
   "metadata": {},
   "source": [
    "20. Explain the difference between a list and a dictionary in terms of data retrieval.\n",
    "\n",
    "    >> The main difference between a list and a dictionary in terms of data retrieval is:\n",
    "\n",
    "    List:\n",
    "    \n",
    "        Uses integer indexes to access elements.\n",
    "        Retrieval is position-based (e.g., my_list[0]).\n",
    "        Slower for searching values, especially in large lists (O(n) time).\n",
    "\n",
    "    Dictionary:\n",
    "    \n",
    "        Uses keys (which can be strings, numbers, etc.) to access values.\n",
    "        Retrieval is key-based (e.g., my_dict[\"name\"]).\n",
    "        Much faster access on average (O(1) time) due to hash tables"
   ]
  },
  {
   "cell_type": "markdown",
   "id": "3d60cb1a-406f-49db-af5f-f27c9b3048a1",
   "metadata": {},
   "source": [
    "Practical Questions"
   ]
  },
  {
   "cell_type": "code",
   "execution_count": 2,
   "id": "5f517026-5140-47aa-a552-8359ed022bb3",
   "metadata": {},
   "outputs": [
    {
     "name": "stdout",
     "output_type": "stream",
     "text": [
      "My name is: Vickky Mohan\n"
     ]
    }
   ],
   "source": [
    "#1.Write a code to create a string with your name and print it.\n",
    "\n",
    "    # Create a string with your name\n",
    "my_name = \"Vickky Mohan\"\n",
    "\n",
    "print(\"My name is:\", my_name)\n"
   ]
  },
  {
   "cell_type": "markdown",
   "id": "be3e6c40-929e-4c84-b31b-9f034c64867d",
   "metadata": {},
   "source": [
    "2. Write a code to find the length of the string \"Hello World\" "
   ]
  },
  {
   "cell_type": "code",
   "execution_count": 3,
   "id": "f5835948-590c-48fd-a640-f7801eeab71b",
   "metadata": {},
   "outputs": [
    {
     "name": "stdout",
     "output_type": "stream",
     "text": [
      "Length of the string is: 11\n"
     ]
    }
   ],
   "source": [
    "text = \"Hello World\"\n",
    "length = len(text)\n",
    "print(\"Length of the string is:\", length)\n"
   ]
  },
  {
   "cell_type": "markdown",
   "id": "4dac8446-d709-4c60-906b-6391ce8f3a10",
   "metadata": {},
   "source": [
    "3. Write a code to slice the first 3 characters from the string \"Python Programming\""
   ]
  },
  {
   "cell_type": "code",
   "execution_count": 4,
   "id": "957eae8f-96e1-4ea9-8985-2155add8a1f3",
   "metadata": {},
   "outputs": [
    {
     "name": "stdout",
     "output_type": "stream",
     "text": [
      "First 3 characters: Pyt\n"
     ]
    }
   ],
   "source": [
    "text = \"Python Programming\"\n",
    "sliced_text = text[:3]\n",
    "print(\"First 3 characters:\", sliced_text)\n"
   ]
  },
  {
   "cell_type": "markdown",
   "id": "2b65d2e6-2203-44cb-be6f-a57fc00cd706",
   "metadata": {},
   "source": [
    "4. Write a code to convert the string \"hello\" to uppercase.\n"
   ]
  },
  {
   "cell_type": "code",
   "execution_count": 5,
   "id": "17f152f7-b222-49de-888a-b8811211210f",
   "metadata": {},
   "outputs": [
    {
     "name": "stdout",
     "output_type": "stream",
     "text": [
      "Uppercase: HELLO\n"
     ]
    }
   ],
   "source": [
    "text = \"hello\"\n",
    "uppercase_text = text.upper()\n",
    "print(\"Uppercase:\", uppercase_text)\n"
   ]
  },
  {
   "cell_type": "markdown",
   "id": "91c800a2-0bf9-4e48-9458-7714dd7d89a0",
   "metadata": {},
   "source": [
    "5. Write a code to replace the word \"apple\" with \"orange\" in the string \"I like apple\"."
   ]
  },
  {
   "cell_type": "code",
   "execution_count": 6,
   "id": "cd9f7674-5c3d-43fb-9c27-7a06597906fb",
   "metadata": {},
   "outputs": [
    {
     "name": "stdout",
     "output_type": "stream",
     "text": [
      "Updated string: I like orange\n"
     ]
    }
   ],
   "source": [
    "text = \"I like apple\"\n",
    "new_text = text.replace(\"apple\", \"orange\")\n",
    "print(\"Updated string:\", new_text)\n"
   ]
  },
  {
   "cell_type": "markdown",
   "id": "9b759771-8e8e-4cf6-b474-bff91c118d02",
   "metadata": {},
   "source": [
    "6. Write a code to create a list with numbers 1 to 5 and print it.\n",
    "   "
   ]
  },
  {
   "cell_type": "code",
   "execution_count": 7,
   "id": "eb15142d-5102-46a7-a913-4f84ec57e6bf",
   "metadata": {},
   "outputs": [
    {
     "name": "stdout",
     "output_type": "stream",
     "text": [
      "[1, 2, 3, 4, 5]\n"
     ]
    }
   ],
   "source": [
    "numbers = [1, 2, 3, 4, 5]\n",
    "print(numbers)\n"
   ]
  },
  {
   "cell_type": "markdown",
   "id": "69a97500-1d12-4b6a-9c93-ff753d7c4380",
   "metadata": {},
   "source": [
    "7. Write a code to append the number 10 to the list [1, 2, 3, 4]."
   ]
  },
  {
   "cell_type": "code",
   "execution_count": 10,
   "id": "0d54cc5c-1a8e-4713-bdb6-1d98422e91d9",
   "metadata": {},
   "outputs": [
    {
     "name": "stdout",
     "output_type": "stream",
     "text": [
      "[1, 2, 3, 4, 10]\n"
     ]
    }
   ],
   "source": [
    "numbers = [1, 2, 3, 4]\n",
    "numbers.append(10)\n",
    "print(numbers)\n"
   ]
  },
  {
   "cell_type": "markdown",
   "id": "3cb10f57-3ddc-4ad3-8006-1a739028870f",
   "metadata": {},
   "source": [
    "8. Write a code to remove the number 3 from the list [1, 2, 3, 4, 5]"
   ]
  },
  {
   "cell_type": "code",
   "execution_count": 11,
   "id": "453c192f-8f78-4f45-994c-b286afcbb4d2",
   "metadata": {},
   "outputs": [
    {
     "name": "stdout",
     "output_type": "stream",
     "text": [
      "[1, 2, 4, 5]\n"
     ]
    }
   ],
   "source": [
    "numbers = [1, 2, 3, 4, 5]\n",
    "numbers.remove(3)\n",
    "print(numbers)\n"
   ]
  },
  {
   "cell_type": "markdown",
   "id": "8b411916-8787-4060-81b9-f5ac17d90076",
   "metadata": {},
   "source": [
    "9.  Write a code to access the second element in the list ['a', 'b', 'c', 'd']."
   ]
  },
  {
   "cell_type": "code",
   "execution_count": 12,
   "id": "7b6b9d03-fc69-43e9-9d65-67023d4d6992",
   "metadata": {},
   "outputs": [
    {
     "name": "stdout",
     "output_type": "stream",
     "text": [
      "b\n"
     ]
    }
   ],
   "source": [
    "letters = ['a', 'b', 'c', 'd']\n",
    "print(letters[1])\n"
   ]
  },
  {
   "cell_type": "markdown",
   "id": "087a14a7-bcc5-4bf8-b07a-6a146c8dfbbb",
   "metadata": {},
   "source": [
    "10.  P Write a code to reverse the list [10, 20, 30, 40, 50]."
   ]
  },
  {
   "cell_type": "code",
   "execution_count": 13,
   "id": "d6853531-228e-466e-bde2-7de4cd22c328",
   "metadata": {},
   "outputs": [
    {
     "name": "stdout",
     "output_type": "stream",
     "text": [
      "[50, 40, 30, 20, 10]\n"
     ]
    }
   ],
   "source": [
    "numbers = [10, 20, 30, 40, 50]\n",
    "numbers.reverse()\n",
    "print(numbers)\n"
   ]
  },
  {
   "cell_type": "markdown",
   "id": "fa11932a-93b0-4833-a477-32a4509ef1bf",
   "metadata": {},
   "source": [
    "11.  Write a code to create a tuple with the elements 100, 200, 300 and print it."
   ]
  },
  {
   "cell_type": "code",
   "execution_count": 14,
   "id": "ca44be58-c32c-492a-9711-0446daf64804",
   "metadata": {},
   "outputs": [
    {
     "name": "stdout",
     "output_type": "stream",
     "text": [
      "(100, 200, 300)\n"
     ]
    }
   ],
   "source": [
    "my_tuple = (100, 200, 300)\n",
    "print(my_tuple)\n"
   ]
  },
  {
   "cell_type": "markdown",
   "id": "046adff3-5ceb-4a3f-bb7f-d479246a8b1e",
   "metadata": {},
   "source": [
    "12.  Write a code to access the second-to-last element of the tuple ('red', 'green', 'blue', 'yellow')"
   ]
  },
  {
   "cell_type": "code",
   "execution_count": 15,
   "id": "020a74e3-7fde-409e-89f9-0f03f8bd6735",
   "metadata": {},
   "outputs": [
    {
     "name": "stdout",
     "output_type": "stream",
     "text": [
      "blue\n"
     ]
    }
   ],
   "source": [
    "colors = ('red', 'green', 'blue', 'yellow')\n",
    "print(colors[-2])\n"
   ]
  },
  {
   "cell_type": "markdown",
   "id": "4752b4e7-595b-40e5-ab06-b3189ddb0aac",
   "metadata": {},
   "source": [
    "13. Write a code to find the minimum number in the tuple (10, 20, 5, 15)."
   ]
  },
  {
   "cell_type": "code",
   "execution_count": 16,
   "id": "50f2aad8-3bfa-4c5d-8edc-94f69b926bac",
   "metadata": {},
   "outputs": [
    {
     "name": "stdout",
     "output_type": "stream",
     "text": [
      "5\n"
     ]
    }
   ],
   "source": [
    "numbers = (10, 20, 5, 15)\n",
    "print(min(numbers))\n"
   ]
  },
  {
   "cell_type": "markdown",
   "id": "7d05b79f-dbec-409d-a9d2-4642c4e13700",
   "metadata": {},
   "source": [
    "14.  Write a code to find the index of the element \"cat\" in the tuple ('dog', 'cat', 'rabbit')."
   ]
  },
  {
   "cell_type": "code",
   "execution_count": 17,
   "id": "7f9ac94f-da53-46a1-8abf-add02a6d7102",
   "metadata": {},
   "outputs": [
    {
     "name": "stdout",
     "output_type": "stream",
     "text": [
      "The index of 'cat' is: 1\n"
     ]
    }
   ],
   "source": [
    "animals = ('dog', 'cat', 'rabbit')\n",
    "index_of_cat = animals.index('cat')\n",
    "print(\"The index of 'cat' is:\", index_of_cat)\n"
   ]
  },
  {
   "cell_type": "markdown",
   "id": "92985e24-1940-43fc-bc10-1f1e169c53db",
   "metadata": {},
   "source": [
    "15. Write a code to create a tuple containing three different fruits and check if \"kiwi\" is in it"
   ]
  },
  {
   "cell_type": "code",
   "execution_count": 18,
   "id": "38f69ea3-f794-478a-8d39-872e26b23c82",
   "metadata": {},
   "outputs": [
    {
     "name": "stdout",
     "output_type": "stream",
     "text": [
      "No, 'kiwi' is not in the tuple.\n"
     ]
    }
   ],
   "source": [
    "fruits = ('apple', 'banana', 'orange')\n",
    "if 'kiwi' in fruits:\n",
    "    print(\"Yes, 'kiwi' is in the tuple.\")\n",
    "else:\n",
    "    print(\"No, 'kiwi' is not in the tuple.\")\n"
   ]
  },
  {
   "cell_type": "markdown",
   "id": "3b520416-d158-458b-a6f6-693051388cdb",
   "metadata": {},
   "source": [
    "16. Write a code to create a set with the elements 'a', 'b', 'c' and print it.\n"
   ]
  },
  {
   "cell_type": "code",
   "execution_count": 19,
   "id": "b2685c01-e0cc-4ca9-bdde-c81fdda45d2b",
   "metadata": {},
   "outputs": [
    {
     "name": "stdout",
     "output_type": "stream",
     "text": [
      "{'c', 'a', 'b'}\n"
     ]
    }
   ],
   "source": [
    "my_set = {'a', 'b', 'c'}\n",
    "print(my_set)\n"
   ]
  },
  {
   "cell_type": "markdown",
   "id": "b496fffa-fa85-45c1-98ce-f3e384f89126",
   "metadata": {},
   "source": [
    "17. Write a code to clear all elements from the set {1, 2, 3, 4, 5}"
   ]
  },
  {
   "cell_type": "code",
   "execution_count": 20,
   "id": "95b11bf3-a348-41ad-ac56-6f3f99f9e694",
   "metadata": {},
   "outputs": [
    {
     "name": "stdout",
     "output_type": "stream",
     "text": [
      "set()\n"
     ]
    }
   ],
   "source": [
    "my_set = {1, 2, 3, 4, 5}\n",
    "my_set.clear()\n",
    "print(my_set)\n"
   ]
  },
  {
   "cell_type": "markdown",
   "id": "07cd6a59-6567-48ad-b5c0-06abb86b1cc5",
   "metadata": {},
   "source": [
    "18. Write a code to remove the element 4 from the set {1, 2, 3, 4}."
   ]
  },
  {
   "cell_type": "code",
   "execution_count": 21,
   "id": "116f6541-7765-49f1-b358-749d5b258449",
   "metadata": {},
   "outputs": [
    {
     "name": "stdout",
     "output_type": "stream",
     "text": [
      "{1, 2, 3}\n"
     ]
    }
   ],
   "source": [
    "my_set = {1, 2, 3, 4}\n",
    "my_set.remove(4)\n",
    "print(my_set)\n"
   ]
  },
  {
   "cell_type": "markdown",
   "id": "b3be565c-3d7b-4359-87d4-9a8f66c249fb",
   "metadata": {},
   "source": [
    "19.  Write a code to find the union of two sets {1, 2, 3} and {3, 4, 5}."
   ]
  },
  {
   "cell_type": "code",
   "execution_count": 22,
   "id": "b83693b5-c179-4d1d-8f7c-9985025f1c59",
   "metadata": {},
   "outputs": [
    {
     "name": "stdout",
     "output_type": "stream",
     "text": [
      "Union of sets: {1, 2, 3, 4, 5}\n"
     ]
    }
   ],
   "source": [
    "set1 = {1, 2, 3}\n",
    "set2 = {3, 4, 5}\n",
    "\n",
    "union_set = set1.union(set2)\n",
    "print(\"Union of sets:\", union_set)\n"
   ]
  },
  {
   "cell_type": "code",
   "execution_count": null,
   "id": "a4957e35-41cd-4627-9d94-dbf6b9c43059",
   "metadata": {},
   "outputs": [],
   "source": [
    "20.  Write a code to find the intersection of two sets {1, 2, 3} and {2, 3, 4}"
   ]
  },
  {
   "cell_type": "code",
   "execution_count": 23,
   "id": "a723deeb-43f2-4291-ab3b-be9e3c543fd3",
   "metadata": {},
   "outputs": [
    {
     "name": "stdout",
     "output_type": "stream",
     "text": [
      "Intersection of sets: {2, 3}\n"
     ]
    }
   ],
   "source": [
    "set1 = {1, 2, 3}\n",
    "set2 = {2, 3, 4}\n",
    "\n",
    "intersection_set = set1.intersection(set2)\n",
    "print(\"Intersection of sets:\", intersection_set)\n"
   ]
  },
  {
   "cell_type": "markdown",
   "id": "2f2a4081-5b5d-4e3d-a0b9-689f89e07822",
   "metadata": {},
   "source": [
    "21. Write a code to create a dictionary with the keys \"name\", \"age\", and \"city\", and print it."
   ]
  },
  {
   "cell_type": "code",
   "execution_count": 24,
   "id": "b4315013-3dcb-4cd8-8e3c-74ed6871a212",
   "metadata": {},
   "outputs": [
    {
     "name": "stdout",
     "output_type": "stream",
     "text": [
      "{'name': 'Alice', 'age': 30, 'city': 'New York'}\n"
     ]
    }
   ],
   "source": [
    "person = {\n",
    "    \"name\": \"Alice\",\n",
    "    \"age\": 30,\n",
    "    \"city\": \"New York\"\n",
    "}\n",
    "\n",
    "print(person)\n"
   ]
  },
  {
   "cell_type": "markdown",
   "id": "f9efc6b5-3502-4c90-a666-d296836f72f0",
   "metadata": {},
   "source": [
    "22. Write a code to add a new key-value pair \"country\": \"USA\" to the dictionary {'name': 'John', 'age': 25}."
   ]
  },
  {
   "cell_type": "code",
   "execution_count": 25,
   "id": "ed1a5cd2-601e-4527-b85f-688c24aeadfe",
   "metadata": {},
   "outputs": [
    {
     "name": "stdout",
     "output_type": "stream",
     "text": [
      "{'name': 'John', 'age': 25, 'country': 'USA'}\n"
     ]
    }
   ],
   "source": [
    "person = {'name': 'John', 'age': 25}\n",
    "person['country'] = 'USA'\n",
    "print(person)\n"
   ]
  },
  {
   "cell_type": "markdown",
   "id": "f51b0866-ebde-421c-9b61-9ddde3f21f7e",
   "metadata": {},
   "source": [
    "23. Write a code to access the value associated with the key \"name\" in the dictionary {'name': 'Alice', 'age': 30}."
   ]
  },
  {
   "cell_type": "code",
   "execution_count": 26,
   "id": "257be632-5f3f-420f-9b1f-668ab5358458",
   "metadata": {},
   "outputs": [
    {
     "name": "stdout",
     "output_type": "stream",
     "text": [
      "Name: Alice\n"
     ]
    }
   ],
   "source": [
    "person = {'name': 'Alice', 'age': 30}\n",
    "name_value = person['name']\n",
    "print(\"Name:\", name_value)\n"
   ]
  },
  {
   "cell_type": "markdown",
   "id": "f30e1fdc-f244-4ed6-9769-b4220966be8c",
   "metadata": {},
   "source": [
    "24. Write a code to remove the key \"age\" from the dictionary {'name': 'Bob', 'age': 22, 'city': 'New York'}."
   ]
  },
  {
   "cell_type": "code",
   "execution_count": 27,
   "id": "6c2a29a4-c8f9-48ec-a556-766fa2a49c39",
   "metadata": {},
   "outputs": [
    {
     "name": "stdout",
     "output_type": "stream",
     "text": [
      "{'name': 'Bob', 'city': 'New York'}\n"
     ]
    }
   ],
   "source": [
    "person = {'name': 'Bob', 'age': 22, 'city': 'New York'}\n",
    "person.pop('age')\n",
    "print(person)\n"
   ]
  },
  {
   "cell_type": "markdown",
   "id": "64081806-40d2-4f29-95e4-25748057550c",
   "metadata": {},
   "source": [
    "25.  Write a code to check if the key \"city\" exists in the dictionary {'name': 'Alice', 'city': 'Paris'}."
   ]
  },
  {
   "cell_type": "code",
   "execution_count": 29,
   "id": "daf2c453-4f5f-4f10-8904-4eaf744a65aa",
   "metadata": {},
   "outputs": [
    {
     "name": "stdout",
     "output_type": "stream",
     "text": [
      "Key 'city' exists in the dictionary.\n"
     ]
    }
   ],
   "source": [
    "person = {'name': 'Alice', 'city': 'Paris'}\n",
    "\n",
    "if 'city' in person:\n",
    "    print(\"Key 'city' exists in the dictionary.\")\n",
    "else:\n",
    "    print(\"Key 'city' does not exist in the dictionary.\")\n"
   ]
  },
  {
   "cell_type": "markdown",
   "id": "1139c665-994f-42ab-b788-4e9e77a1f79c",
   "metadata": {},
   "source": [
    "26. Write a code to create a list, a tuple, and a dictionary, and print them all."
   ]
  },
  {
   "cell_type": "code",
   "execution_count": 30,
   "id": "627a9d62-8200-4ee4-bf8a-0dbecdd27a71",
   "metadata": {},
   "outputs": [
    {
     "name": "stdout",
     "output_type": "stream",
     "text": [
      "List: [1, 2, 3, 4, 5]\n",
      "Tuple: ('apple', 'banana', 'cherry')\n",
      "Dictionary: {'name': 'John', 'age': 25}\n"
     ]
    }
   ],
   "source": [
    "my_list = [1, 2, 3, 4, 5]\n",
    "my_tuple = ('apple', 'banana', 'cherry')\n",
    "my_dict = {'name': 'John', 'age': 25}\n",
    "print(\"List:\", my_list)\n",
    "print(\"Tuple:\", my_tuple)\n",
    "print(\"Dictionary:\", my_dict)\n"
   ]
  },
  {
   "cell_type": "markdown",
   "id": "a576997c-6640-46c1-8407-253239408722",
   "metadata": {},
   "source": [
    "27. Write a code to create a list of 5 random numbers between 1 and 100, sort it in ascending order, and print the\n",
    "result.(replaced)"
   ]
  },
  {
   "cell_type": "code",
   "execution_count": 31,
   "id": "8b01b7f4-94dc-434c-bbff-cfa2243a18ac",
   "metadata": {},
   "outputs": [
    {
     "name": "stdout",
     "output_type": "stream",
     "text": [
      "Sorted random numbers: [45, 65, 75, 79, 90]\n"
     ]
    }
   ],
   "source": [
    "import random\n",
    "random_numbers = random.sample(range(1, 101), 5)\n",
    "random_numbers.sort()\n",
    "print(\"Sorted random numbers:\", random_numbers)\n"
   ]
  },
  {
   "cell_type": "markdown",
   "id": "ae990218-b0c4-4334-872a-bb6011477893",
   "metadata": {},
   "source": [
    "28. Write a code to create a list with strings and print the element at the third index."
   ]
  },
  {
   "cell_type": "code",
   "execution_count": 32,
   "id": "80dd88ed-f53e-49a4-92e7-f2b5e522c9a9",
   "metadata": {
    "collapsed": true,
    "jupyter": {
     "outputs_hidden": true
    }
   },
   "outputs": [
    {
     "name": "stdout",
     "output_type": "stream",
     "text": [
      "Element at third index: date\n"
     ]
    }
   ],
   "source": [
    "my_list = ['apple', 'banana', 'cherry', 'date', 'elderberry']\n",
    "print(\"Element at third index:\", my_list[3])\n"
   ]
  },
  {
   "cell_type": "markdown",
   "id": "e2d67373-554b-4095-96d3-6065779e3935",
   "metadata": {},
   "source": [
    "29.  Write a code to combine two dictionaries into one and print the result"
   ]
  },
  {
   "cell_type": "code",
   "execution_count": 33,
   "id": "b01682dc-ac45-40b4-8880-6dded1820c3d",
   "metadata": {},
   "outputs": [
    {
     "name": "stdout",
     "output_type": "stream",
     "text": [
      "Combined dictionary: {'a': 1, 'b': 2, 'c': 3, 'd': 4}\n"
     ]
    }
   ],
   "source": [
    "dict1 = {'a': 1, 'b': 2}\n",
    "dict2 = {'c': 3, 'd': 4}\n",
    "combined_dict = {**dict1, **dict2}\n",
    "\n",
    "print(\"Combined dictionary:\", combined_dict)\n"
   ]
  },
  {
   "cell_type": "markdown",
   "id": "892a93eb-6ef7-442f-9ef7-bff796bebc24",
   "metadata": {},
   "source": [
    "30.  Write a code to convert a list of strings into a set."
   ]
  },
  {
   "cell_type": "code",
   "execution_count": 34,
   "id": "458ff9c4-3d96-46e1-9dc0-3673740bcb5f",
   "metadata": {},
   "outputs": [
    {
     "name": "stdout",
     "output_type": "stream",
     "text": [
      "{'banana', 'cherry', 'apple'}\n"
     ]
    }
   ],
   "source": [
    "string_list = [\"apple\", \"banana\", \"cherry\", \"apple\", \"banana\"]\n",
    "string_set = set(string_list)\n",
    "print(string_set)\n"
   ]
  },
  {
   "cell_type": "code",
   "execution_count": null,
   "id": "f9dc7d1a-b5ce-4a51-9394-6aad507acf85",
   "metadata": {},
   "outputs": [],
   "source": []
  }
 ],
 "metadata": {
  "kernelspec": {
   "display_name": "Python 3 (ipykernel)",
   "language": "python",
   "name": "python3"
  },
  "language_info": {
   "codemirror_mode": {
    "name": "ipython",
    "version": 3
   },
   "file_extension": ".py",
   "mimetype": "text/x-python",
   "name": "python",
   "nbconvert_exporter": "python",
   "pygments_lexer": "ipython3",
   "version": "3.13.3"
  }
 },
 "nbformat": 4,
 "nbformat_minor": 5
}
