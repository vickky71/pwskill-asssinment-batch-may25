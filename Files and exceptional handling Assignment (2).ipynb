{
 "cells": [
  {
   "cell_type": "markdown",
   "id": "9cdfff92-5f2a-4256-b75b-6c2ae8cfde1b",
   "metadata": {},
   "source": [
    "# Files, exceptional handling, logging and memory management Questions Files, exceptional handling, logging and memory management Questions\n",
    "\n",
    "---"
   ]
  },
  {
   "cell_type": "markdown",
   "id": "3b4c5181-7187-4000-bf20-83906d541cc5",
   "metadata": {},
   "source": [
    "## Q1. What is the difference between interpreted and compiled languages?\n",
    "\n",
    "### Ans: Compiled Language:The source code is converted into machine code **before execution** using a **compiler**. This machine code runs directly on the system, making it **faster and efficient**.\n",
    "**Examples:** C, C++, Rust.\n",
    "\n",
    "### Interpreted Language:The source code is **executed line by line at runtime** using an **interpreter**. It’s easier to debug and test but **slower** than compiled code.\n",
    "**Examples:** Python, JavaScript .\n",
    "\n",
    "---\n"
   ]
  },
  {
   "cell_type": "markdown",
   "id": "66937bce-149b-42c4-8ae0-c06baac07845",
   "metadata": {},
   "source": [
    "## Q2. What is exception handling in Python?\n",
    "\n",
    "### Ans:**Exception handling in Python** is a way to handle runtime errors gracefully, so the program doesn't crash.\n",
    "\n",
    "It uses the following keywords:\n",
    "\n",
    "* **`try`**: Block of code that might raise an exception.\n",
    "* **`except`**: Catches and handles the exception.\n",
    "* **`else`**: (Optional) Runs if no error occurs in `try`.\n",
    "* **`finally`**: (Optional) Always runs, used for cleanup (like closing files)\n",
    "\n",
    "### Benefits:\n",
    "\n",
    "* Prevents program crashes\n",
    "* Helps in debugging\n",
    "* Makes programs more reliable and user-friendly\n",
    "\n",
    "### **Conclusion:** Exception handling ensures smooth execution of Python programs by managing errors properly.\n",
    "\n",
    "---\n",
    "\n",
    "\n",
    "\n"
   ]
  },
  {
   "cell_type": "markdown",
   "id": "72f26883-c524-45fc-956d-90caf37b0262",
   "metadata": {},
   "source": [
    "## Q3: What is the purpose of the finally block in exception handling?\n",
    "\n",
    "### Ans: The purpose of the finally block in exception handling is to define code that always runs, no matter what—whether an exception occurs or not.The finally block ensures that important cleanup code always executes, making your program more robust and error-safe.\n",
    "\n",
    "---\n"
   ]
  },
  {
   "cell_type": "markdown",
   "id": "1f16ba9c-480a-4efa-8723-cad90deff4cc",
   "metadata": {},
   "source": [
    "## Q4: What is logging in Python?\n",
    "\n",
    "### Ans: Logging is a built-in feature in Python that helps developers track, debug, and monitor their applications effectively by recording important messages during program execution.more efficiently we can define it as Logging in Python is the process of recording events that happen during the execution of a program. It helps developers track errors, warnings, and information, especially useful for debugging and monitoring.\n",
    "\n",
    "---\n"
   ]
  },
  {
   "cell_type": "markdown",
   "id": "1b854a0e-2786-45b7-9f1f-ad056557a3e9",
   "metadata": {},
   "source": [
    "## Q5: What is the significance of the _ _del_ _ method in Python?\n",
    "\n",
    "### Ans: **Significance of `_ _del_ _()` in Python:**\n",
    "\n",
    "The `__del__()` method is significant because it allows you to:\n",
    "\n",
    "* **Automatically clean up resources** (like files, memory, or database connections) when an object is deleted.\n",
    "* Help prevent **resource leaks** in programs.\n",
    "* Define custom actions that should happen when an object is **destroyed**.\n",
    "\n",
    "#### It acts like a **destructor**, but should be used carefully, as its timing is not always predictable.\n",
    "\n",
    "---\n"
   ]
  },
  {
   "cell_type": "markdown",
   "id": "7a651d89-462a-4279-a074-ee41cc55f912",
   "metadata": {},
   "source": [
    "## Q6: What is the difference between import and from ... import in Python?\n",
    "\n",
    "### Ans:**Difference between `import` and `from ... import` in Python**\n",
    "\n",
    " **`import module`**\n",
    "\n",
    "* Imports the **entire module**.\n",
    "* You must use the module name to access functions or classes.\n",
    "\n",
    " **`from module import item`**\n",
    "\n",
    "* Imports **specific function(s), class(es), or variable(s)** from a module.\n",
    "* You can use the imported item **directly** without the module name.\n",
    "\n",
    "###  **Key Points**\n",
    "\n",
    "* `import` → Full module imported, use `module.item`.\n",
    "* `from ... import` → Only specific item imported, use it directly.\n",
    "* `import` is better for **clarity**, `from ... import` is better for **brevity**.\n",
    "\n",
    "---\n"
   ]
  },
  {
   "cell_type": "markdown",
   "id": "c2741787-f856-4dd7-8b58-94ac0f961ad0",
   "metadata": {},
   "source": [
    "## Q7:How can you handle multiple exceptions in Python?\n",
    "\n",
    "### Ans:In Python, multiple exceptions can occur during program execution. To handle them properly and avoid program crashes, Python provides two main ways:\n",
    "\n",
    "###  **1. Using Multiple `except` Blocks**\n",
    "\n",
    "This method handles **different exceptions separately**, allowing specific responses for each.\n",
    "\n",
    "```python\n",
    "try:\n",
    "    x = int(\"abc\")\n",
    "    y = 10 / 0\n",
    "except ValueError:\n",
    "    print(\"ValueError occurred.\")\n",
    "except ZeroDivisionError:\n",
    "    print(\"ZeroDivisionError occurred.\")\n",
    "```\n",
    "\n",
    "---\n",
    "\n",
    "###  **2. Using a Single `except` Block with a Tuple**\n",
    "\n",
    "This method handles **multiple exceptions in one block**, useful when the response is the same.\n",
    "\n",
    "```python\n",
    "try:\n",
    "    x = 10 / int(\"0\")\n",
    "except (ValueError, ZeroDivisionError) as e:\n",
    "    print(\"An error occurred:\", e)\n",
    "```\n",
    "\n",
    "---\n",
    "\n",
    "###  **3. Using a Generic `except` Block**\n",
    "\n",
    "Used to catch **any exception**, but not recommended unless you don’t know what to expect.\n",
    "\n",
    "```python\n",
    "try:\n",
    "    # risky code\n",
    "except Exception as e:\n",
    "    print(\"Unhandled error:\", e)\n",
    "```\n",
    "\n",
    "---\n",
    "\n",
    "###  **Conclusion:**\n",
    "\n",
    "* Python allows flexible exception handling using multiple `except` blocks or a tuple. This improves program stability and helps in writing clean, error-tolerant code.\n",
    "\n",
    "---\n"
   ]
  },
  {
   "cell_type": "markdown",
   "id": "f61e8b9b-9373-4d73-be8b-57b6aeaa946f",
   "metadata": {},
   "source": [
    "## Q8:What is the purpose of the with statement when handling files in Python?\n",
    "\n",
    "### ANS: **Purpose of the `with` Statement in File Handling (Python)**\n",
    "\n",
    "The `with` statement in Python is used to **open and manage files safely**. It ensures that the file is **automatically closed** after the operations are done, even if an error occurs during execution. `with` ensures proper opening and automatic closing of files,making file operations safer and more readable.\n",
    "\n",
    "It simplifies file handling by:\n",
    "\n",
    "* Managing resources efficiently\n",
    "* Eliminating the need to call `file.close()` manually\n",
    "* Making code cleaner and less error-prone\n",
    "\n",
    "###  Example:\n",
    "\n",
    "```python\n",
    "with open(\"file.txt\", \"r\") as f:\n",
    "    data = f.read()\n",
    "```\n",
    "\n",
    "---\n"
   ]
  },
  {
   "cell_type": "markdown",
   "id": "97d8fce5-4b6c-4777-85ac-9b31472f5e98",
   "metadata": {},
   "source": [
    "## Q9:What is the difference between multithreading and multiprocessing?\n",
    "\n",
    "### Ans: **Difference Between Multithreading and Multiprocessing in Python**\n",
    "\n",
    " **Multithreading:**\n",
    "\n",
    "* Uses **multiple threads** within a **single process**\n",
    "* Threads share the **same memory space**\n",
    "* Suitable for **I/O-bound tasks** (e.g., file reading, network calls)\n",
    "* **Lighter** and faster to switch between threads\n",
    "* Affected by Python’s **GIL** (Global Interpreter Lock), so not ideal for CPU-heavy tasks\n",
    "\n",
    " **Multiprocessing:**\n",
    "\n",
    "* Uses **multiple processes**, each with its **own memory space**\n",
    "* Suitable for **CPU-bound tasks** (e.g., data processing, calculations)\n",
    "* **Bypasses GIL**, enabling true parallelism\n",
    "* **Heavier** and more resource-intensive than threads\n",
    "* Better for high-performance computing.\n",
    "\n",
    "#### **Conclusion**\n",
    "\n",
    "* **Multithreading** → Many threads, shared memory, best for I/O tasks.\n",
    "* **Multiprocessing** → Many processes, separate memory, best for CPU tasks.\n",
    "\n",
    "---\n"
   ]
  },
  {
   "cell_type": "markdown",
   "id": "e4b17e77-3a88-4795-9a75-2c6544b35c29",
   "metadata": {},
   "source": [
    "## Q10:What are the advantages of using logging in a program?\n",
    "\n",
    "### Ans: **Advantages of Using Logging in a Program:**\n",
    "\n",
    "* Helps in **debugging** by recording program flow and errors\n",
    "* Replaces `print()` with a **more powerful and flexible** system\n",
    "* Supports **different log levels** (INFO, ERROR, etc.)\n",
    "* Can **log to files**, not just the console\n",
    "* Makes programs easier to **maintain and monitor**\n",
    "* Useful for both **development and production environments**\n",
    "\n",
    "#### **Note**\n",
    "logging improves error tracking, debugging, and overall program reliability.\n",
    "\n",
    "---\n"
   ]
  },
  {
   "cell_type": "markdown",
   "id": "2b2241de-7c41-4f78-884a-d79554b93e5c",
   "metadata": {},
   "source": [
    "## Q11:What is memory management in Python?\n",
    "\n",
    "### Ans:Memory management in Python is automatic, efficient, and handled through reference counting and garbage collection, ensuring optimal use of memory.\n",
    "\n",
    "---"
   ]
  },
  {
   "cell_type": "markdown",
   "id": "8680aaa6-5289-44ed-9467-fc41668fd0bc",
   "metadata": {},
   "source": [
    "## Q12:What are the basic steps involved in exception handling in Python?\n",
    "\n",
    "### Ans:**Basic Steps Involved in Exception Handling in Python:**\n",
    "\n",
    "Python provides a powerful mechanism to handle errors gracefully using exception handling. The main steps involved are:\n",
    "\n",
    "### **1. `try` Block**\n",
    "\n",
    "* This block contains code that **might raise an exception**.\n",
    "* Python **monitors** this block for any errors during execution.\n",
    "\n",
    "---\n",
    "\n",
    "### **2. `except` Block**\n",
    "\n",
    "* If an error occurs in the `try` block, Python **jumps to the matching `except` block**.\n",
    "* You can specify one or more **specific exceptions** or use a general `except`.\n",
    "\n",
    "---\n",
    "\n",
    "### **3. `else` Block (Optional)**\n",
    "\n",
    "* This block runs **only if no exception occurs** in the `try` block.\n",
    "* Useful for code that should only execute when everything goes smoothly.\n",
    "\n",
    "---\n",
    "\n",
    "### **4. `finally` Block (Optional)**\n",
    "\n",
    "* This block is executed **no matter what**—whether an exception occurred or not.\n",
    "* Ideal for **clean-up actions**, like closing files or releasing resources.\n",
    "\n",
    "\n",
    "###  **Conclusion:**\n",
    "\n",
    "> Exception handling in Python involves using `try`, `except`, `else`, and `finally` blocks to detect, handle, and recover from errors in a structured and reliable.\n",
    "\n",
    "---\n"
   ]
  },
  {
   "cell_type": "markdown",
   "id": "767266a7-c7f7-4cde-a679-0cedb564e451",
   "metadata": {},
   "source": [
    "## Q13:Why is memory management important in Python?\n",
    "\n",
    "### Ans:Memory management in Python ensures optimal performance, reliability, and stability of programs by automatically handling memory allocation and deallocation.Memory management is crucial in Python to ensure that programs run efficiently, reliably, and without crashing due to memory issues.\n",
    "\n",
    "---"
   ]
  },
  {
   "cell_type": "markdown",
   "id": "d5c7fcab-941b-4655-bc39-128e94ad0ac5",
   "metadata": {},
   "source": [
    "## Q14:What is the role of try and except in exception handling?\n",
    "\n",
    "### Ans:The `try` and `except` blocks in Python play a crucial role in **exception handling**. The `try` block is used to **enclose code that may raise an exception**, allowing the program to test it safely. If an error occurs, control is passed to the `except` block, which is used to **catch and handle the exception** gracefully. This prevents the program from crashing and allows developers to provide **meaningful error messages or alternative logic**, making the program more **robust and user-friendly**.\n",
    "\n",
    "---\n"
   ]
  },
  {
   "cell_type": "markdown",
   "id": "40ee46a8-ea2d-4665-a1e1-83c07d40dd09",
   "metadata": {},
   "source": [
    " ## Q15: How does Python's garbage collection system workS?\n",
    "\n",
    "### Ans:Python uses **automatic garbage collection** to manage memory. It mainly relies on **reference counting**—when an object’s reference count becomes zero, it is deleted.\n",
    "\n",
    "### For complex cases like **circular references**, Python uses a **cyclic garbage collector** to detect and clean them. This ensures efficient memory use and prevents memory leaks without manual intervention.\n",
    "\n",
    "---\n"
   ]
  },
  {
   "cell_type": "markdown",
   "id": "a534532e-37d3-40bb-ba48-ffd0180cc1b6",
   "metadata": {},
   "source": [
    "## Q16: What is the purpose of the else block in exception handling?\n",
    "\n",
    "### Ans:The `else` block in Python’s exception handling is used to define a set of statements that should execute **only when no exception occurs** in the `try` block. It allows the programmer to clearly separate the **error-handling code** (in `except`) from the **normal execution code** (in `else`). If the code inside the `try` block runs successfully without raising any exceptions, the `else` block is executed. However, if an exception is raised, the `else` block is skipped, and control moves directly to the `except` block. This improves code clarity and ensures that operations meant to run only on successful execution are handled separately.\n",
    "\n",
    "---\n"
   ]
  },
  {
   "cell_type": "markdown",
   "id": "a0cce998-2d4b-40c4-b479-7d2b5d1a7df4",
   "metadata": {},
   "source": [
    "## Q17: What are the common logging levels in Python?\n",
    "\n",
    "### Ans:### **Common Logging Levels in Python:**\n",
    "\n",
    "Python provides a built-in logging module that allows developers to record messages with different **severity levels**. These logging levels help categorize messages based on their importance and are useful for debugging and monitoring applications. The common logging levels in Python, in increasing order of severity, are:\n",
    "\n",
    "1. **DEBUG** – Used for detailed diagnostic information, typically useful during development.\n",
    "2. **INFO** – Confirms that things are working as expected; used for general events.\n",
    "3. **WARNING** – Indicates something unexpected happened, but the program is still running.\n",
    "4. **ERROR** – A more serious problem; the program encountered an issue that needs attention.\n",
    "5. **CRITICAL** – A very serious error indicating the program might not continue running.\n",
    "\n",
    "These levels help in filtering and organizing log messages based on the severity of events, making debugging and maintenance more efficient.\n",
    "\n",
    "---\n"
   ]
  },
  {
   "cell_type": "markdown",
   "id": "f7d9c75c-c695-439d-802e-6bc60f53c861",
   "metadata": {},
   "source": [
    "## Q18:What is the difference between os.fork() and multiprocessing in Python?\n",
    "\n",
    "### Ans: **Difference Between `os.fork()` and `multiprocessing` in Python**\n",
    "\n",
    " **`os.fork()`**\n",
    "\n",
    "* Low-level function to create a **child process** by duplicating the current process\n",
    "* Available **only on Unix/Linux systems** (❌ Not available on Windows)\n",
    "* Requires **manual handling** of inter-process communication\n",
    "* Less safe and harder to manage in complex programs\n",
    "* Suitable for simple, low-level process control\n",
    "\n",
    " **`multiprocessing` Module**\n",
    "\n",
    "* **High-level, cross-platform** module for creating and managing processes\n",
    "* Works on **both Unix and Windows**\n",
    "* Provides built-in support for **process communication** (queues, pipes, etc.)\n",
    "* Safer and easier to use than `os.fork()`\n",
    "* Better suited for **scalable and maintainable** parallel programming.\n",
    "\n",
    "### **conclusion:**\n",
    "\n",
    "* `os.fork()` → Low-level, Unix-only, manual control\n",
    "* `multiprocessing` → High-level, portable, easier to use\n",
    "\n",
    "---\n"
   ]
  },
  {
   "cell_type": "markdown",
   "id": "7e2ba801-3f45-41ea-8be9-9245c729ab65",
   "metadata": {},
   "source": [
    " ## Q19:What is the importance of closing a file in Python?\n",
    "\n",
    "### Ans: **Closing a file in Python** is important to ensure that all **resources are released properly** and any **pending data is written to the file**. When a file is opened for reading or writing, the operating system allocates system resources like memory and file handles. If the file is not closed after the operation, it may lead to **memory leaks**, **data loss**, or **file corruption**, especially when writing data.\n",
    "\n",
    "### Additionally, many operating systems impose a limit on the number of files a program can keep open simultaneously. Not closing files can quickly exhaust these limits in large programs.\n",
    "\n",
    "#### Using the `close()` method or a `with` statement ensures that the file is safely closed, improving **performance, reliability**, and **resource management** in Python applications.\n",
    "\n",
    "---\n"
   ]
  },
  {
   "cell_type": "markdown",
   "id": "ed378e41-2556-4a7c-9152-fb4e3ea8fc13",
   "metadata": {},
   "source": [
    "## Q20:What is the difference between file.read() and file.readline() in Python?\n",
    "\n",
    "### Ans: **Difference Between `file.read()` and `file.readline()` in Python**\n",
    "\n",
    " **`file.read()`**\n",
    "\n",
    "* Reads the **entire file content** as a single string\n",
    "* Can take an optional argument to read a specific number of characters\n",
    "* Suitable for **small files**\n",
    "* May consume **more memory** for large files\n",
    "  \n",
    " **`file.readline()`**\n",
    "\n",
    "* Reads **only one line** from the file at a time\n",
    "* Includes the newline character `\\n`\n",
    "* Ideal for reading **large files line by line**\n",
    "* More **memory-efficient**\n",
    "\n",
    "\n",
    "### **note:**\n",
    "\n",
    "* `read()` → Reads whole content\n",
    "* `readline()` → Reads one line at a time.\n",
    "\n",
    "---\n"
   ]
  },
  {
   "cell_type": "markdown",
   "id": "ec0cabb2-5780-47b7-a891-ba3bef1a65e6",
   "metadata": {},
   "source": [
    "## Q21: What is the logging module in Python used for?\n",
    "\n",
    "### Ans:The `logging` module in Python is used to **record messages** about a program’s execution, such as errors, warnings, or status updates. It helps in **debugging**, **monitoring**, and **tracking issues**, and is more flexible and powerful than using `print()` statements.\n",
    "\n",
    "---\n"
   ]
  },
  {
   "cell_type": "markdown",
   "id": "7afb5cd9-bf3c-4639-a1a6-934ee61e0717",
   "metadata": {},
   "source": [
    "## Q22:What is the os module in Python used for in file handling?\n",
    "\n",
    "### Ans:The `os` module in Python is used for **interacting with the operating system**, especially for **file and directory handling**. It allows you to perform tasks like:\n",
    "\n",
    "* Creating or deleting files and folders\n",
    "* Renaming or moving files\n",
    "* Checking if a file or folder exists\n",
    "* Navigating directories (`os.chdir`, `os.getcwd`)\n",
    "* Listing directory contents (`os.listdir`)\n",
    "\n",
    "generally, the `os` module provides functions to **manage files and directories** at the system level.\n",
    "\n",
    "---\n"
   ]
  },
  {
   "cell_type": "markdown",
   "id": "2b4588bc-1c98-44c7-93a9-abe4169d3a2d",
   "metadata": {},
   "source": [
    "## Q23:What are the challenges associated with memory management in Python?\n",
    "\n",
    "### Ans:Memory management in Python is largely automatic, thanks to features like **reference counting** and **garbage collection**. However, despite these advantages, there are several challenges that can affect the efficiency and performance of Python programs:\n",
    "\n",
    "### **1. Circular References**\n",
    "\n",
    "Python uses reference counting to track memory, but when two or more objects reference each other, they may not get collected automatically. This leads to memory being held unnecessarily unless the cyclic garbage collector explicitly detects and removes them.\n",
    "\n",
    "###  **2. Memory Leaks**\n",
    "\n",
    "Improper handling of large data structures, global variables, or persistent references can result in memory leaks, where memory is no longer needed but not released. This can degrade performance, especially in long-running applications.\n",
    "\n",
    "\n",
    "\n",
    "### **3. Global Interpreter Lock (GIL)**\n",
    "\n",
    "Due to the GIL, Python allows only one thread to execute at a time in a single process. This can lead to **inefficient memory utilization** in multi-threaded, CPU-bound programs.\n",
    "\n",
    "\n",
    "\n",
    "### **4. High Memory Overhead**\n",
    "\n",
    "Python is a high-level language with dynamic typing. Each object in Python carries metadata and type information, which increases **memory consumption** compared to low-level languages like C or C++.\n",
    "\n",
    "\n",
    "### **5. Delayed Garbage Collection**\n",
    "\n",
    "The garbage collector may not immediately collect unused objects, especially in cases of low memory pressure. This can lead to **temporary memory bloating**.\n",
    "\n",
    "###  **Conclusion:**\n",
    "\n",
    " While Python provides built-in memory management tools, developers must still be aware of issues like circular references, memory leaks, and high memory overhead. Proper coding practices and monitoring tools are essential to manage memory efficiently and ensure high performance in Python applications.\n",
    "\n",
    "---\n"
   ]
  },
  {
   "cell_type": "markdown",
   "id": "021c2ba8-8e77-4131-af53-28f2ecc5d439",
   "metadata": {},
   "source": [
    "## Q24:How do you raise an exception manually in Python?\n",
    "\n",
    "### Ans:In Python, you can raise an exception manually using the raise keyword. This is useful when you want to intentionally trigger an error based on specific conditions in your program.Raising exceptions manually helps developers enforce rules, validate data, and handle errors in a controlled and meaningful way.The raise statement in Python allows developers to manually throw exceptions when certain conditions are not met. This improves error handling, ensures data integrity, and makes the program more robust and maintainable.\n",
    "\n",
    "---\n"
   ]
  },
  {
   "cell_type": "markdown",
   "id": "78da773d-da31-4ca3-aed1-732977a2e3a5",
   "metadata": {},
   "source": [
    "## Q25:Why is it important to use multithreading in certain applications?\n",
    "\n",
    "### Ans: **Importance of Multithreading in Certain Applications**\n",
    "\n",
    "* **Improves performance** in I/O-bound tasks like file handling and network operations\n",
    "* **Increases responsiveness** in GUI and real-time applications\n",
    "* **Executes multiple tasks** concurrently within a single process\n",
    "* **Saves memory** as threads share the same address space\n",
    "* **Faster context switching** compared to multiprocessing\n",
    "* Useful for **background tasks** like loading data or logging.\n",
    "\n",
    "#### **Multithreading makes applications faster, more responsive, and efficient by allowing multiple operations to run at the same time.**\n",
    "\n",
    "---\n"
   ]
  },
  {
   "cell_type": "markdown",
   "id": "e3dba740-8da8-4f87-b3e5-b8e6a41236bf",
   "metadata": {},
   "source": [
    "# PRACTICAL QUESTIONS\n",
    "\n",
    "---"
   ]
  },
  {
   "cell_type": "markdown",
   "id": "1144140d-4517-4961-8006-df976beceeb3",
   "metadata": {},
   "source": [
    "## Q1:How can you open a file for writing in Python and write a string to it?"
   ]
  },
  {
   "cell_type": "markdown",
   "id": "b55c4e1b-f6ff-4c5a-a13b-7ff4fb614dd0",
   "metadata": {},
   "source": [
    "#### Ans:To open a file for writing in Python and write a string to it, you use the open() function with the mode \"w\" (write mode), and then call the write() method."
   ]
  },
  {
   "cell_type": "code",
   "execution_count": 1,
   "id": "b9960518-77b1-4fe2-a632-65d0735e067d",
   "metadata": {},
   "outputs": [],
   "source": [
    "# Opening the file in write mode and writing a string\n",
    "with open(\"myfile.txt\", \"w\") as file:\n",
    "    file.write(\"Hello, this is my file .\")\n"
   ]
  },
  {
   "cell_type": "markdown",
   "id": "aaf9dad1-4c95-4510-bc94-f6ed524b7774",
   "metadata": {},
   "source": [
    "#### \"w\" mode creates a new file or overwrites an existing one.\n",
    "\n",
    "#### with ensures the file is automatically closed after writing.\n",
    "\n",
    "#### write() is used to write the string content into the file\n",
    "\n",
    "---"
   ]
  },
  {
   "cell_type": "markdown",
   "id": "6e279181-d3cc-4bf2-b494-7259df0a37db",
   "metadata": {},
   "source": [
    "## Q2:Write a Python program to read the contents of a file and print each line."
   ]
  },
  {
   "cell_type": "code",
   "execution_count": 29,
   "id": "41ffb43a-d481-4b5d-81fd-60da5e2d1501",
   "metadata": {},
   "outputs": [
    {
     "name": "stdout",
     "output_type": "stream",
     "text": [
      "Line 1\n",
      "Line 2\n",
      "Line 3\n"
     ]
    }
   ],
   "source": [
    "# Step 1: Create a sample file (for testing)\n",
    "with open(\"sample.txt\", \"w\") as f:\n",
    "    f.write(\"Line 1\\nLine 2\\nLine 3\")\n",
    "\n",
    "# Step 2: Read and print each line\n",
    "with open(\"sample.txt\", \"r\") as f:\n",
    "    for line in f:\n",
    "        print(line.strip())  # strip() removes newline characters\n"
   ]
  },
  {
   "cell_type": "markdown",
   "id": "c4eede59-af38-4395-8f81-d998e35867a6",
   "metadata": {},
   "source": [
    "--- \n",
    "\n",
    "## Q3:How would you handle a case where the file doesn't exist while trying to open it for reading?"
   ]
  },
  {
   "cell_type": "markdown",
   "id": "2c7d7bcf-35d3-4ce0-a715-3b2a935c227c",
   "metadata": {},
   "source": [
    "#### Ans:In Python, when you try to open a file for reading using open(\"filename.txt\", \"r\") and the file does not exist, Python raises a FileNotFoundError.\n",
    "#### To handle this situation gracefully and avoid program crash, we use exception handling with a try and except block.To handle missing files, wrap the file opening code in a try-except block. This ensures the program continues running and informs the user about the missing file in a clean and controlled way."
   ]
  },
  {
   "cell_type": "code",
   "execution_count": 3,
   "id": "56ef531a-9ba8-4603-8ad8-149884cad3a2",
   "metadata": {},
   "outputs": [
    {
     "name": "stdout",
     "output_type": "stream",
     "text": [
      "Error: The file 'data.txt' was not found.\n"
     ]
    }
   ],
   "source": [
    "try:\n",
    "    with open(\"data.txt\", \"r\") as file:\n",
    "        content = file.read()\n",
    "        print(content)\n",
    "except FileNotFoundError:\n",
    "    print(\"Error: The file 'data.txt' was not found.\")\n"
   ]
  },
  {
   "cell_type": "markdown",
   "id": "5a2010b9-1604-4140-8e80-3e0b903c46c2",
   "metadata": {},
   "source": [
    "---\n",
    "\n",
    "## Q4:Write a Python script that reads from one file and writes its content to another file?"
   ]
  },
  {
   "cell_type": "code",
   "execution_count": 27,
   "id": "82f21a45-bd77-4554-a057-dfc304d6eb7b",
   "metadata": {},
   "outputs": [
    {
     "name": "stdout",
     "output_type": "stream",
     "text": [
      " File content copied successfully from 'source.txt' to 'destination.txt'.\n"
     ]
    }
   ],
   "source": [
    "# Step 1: Create a source file with some content\n",
    "with open(\"source.txt\", \"w\") as src:\n",
    "    src.write(\"This is the original content.\\nCopied to another file!\")\n",
    "\n",
    "# Step 2: Read from source and write to destination\n",
    "with open(\"source.txt\", \"r\") as source_file:\n",
    "    content = source_file.read()\n",
    "\n",
    "with open(\"destination.txt\", \"w\") as destination_file:\n",
    "    destination_file.write(content)\n",
    "\n",
    "print(\" File content copied successfully from 'source.txt' to 'destination.txt'.\")\n"
   ]
  },
  {
   "cell_type": "markdown",
   "id": "1b895d34-7613-4721-b080-f07accd9c9a8",
   "metadata": {},
   "source": [
    "---\n",
    "\n",
    "## Q5:How would you catch and handle division by zero error in Python?"
   ]
  },
  {
   "cell_type": "markdown",
   "id": "2eb22a07-f175-4170-9250-2476bbc9c841",
   "metadata": {},
   "source": [
    "### Ans:The Zero Division Error can be handled using a try-except block, allowing the program to catch the error and continue running smoothly with a proper message."
   ]
  },
  {
   "cell_type": "code",
   "execution_count": 5,
   "id": "d2ecbacc-377a-4594-ab68-eba301b824d7",
   "metadata": {},
   "outputs": [
    {
     "name": "stdin",
     "output_type": "stream",
     "text": [
      "Enter a number:  5\n"
     ]
    },
    {
     "name": "stdout",
     "output_type": "stream",
     "text": [
      "Result: 2.0\n"
     ]
    }
   ],
   "source": [
    "try:\n",
    "    num = int(input(\"Enter a number: \"))\n",
    "    result = 10 / num\n",
    "    print(\"Result:\", result)\n",
    "except ZeroDivisionError:\n",
    "    print(\"Error: Division by zero is not allowed.\")\n"
   ]
  },
  {
   "cell_type": "code",
   "execution_count": 6,
   "id": "900f8d7f-b3ea-4d45-8e9f-1d2bdbdc1a15",
   "metadata": {},
   "outputs": [
    {
     "name": "stdin",
     "output_type": "stream",
     "text": [
      "Enter a number:  0\n"
     ]
    },
    {
     "name": "stdout",
     "output_type": "stream",
     "text": [
      "Error: Division by zero is not allowed.\n"
     ]
    }
   ],
   "source": [
    "try:\n",
    "    num = int(input(\"Enter a number: \"))\n",
    "    result = 10 / num\n",
    "    print(\"Result:\", result)\n",
    "except ZeroDivisionError:\n",
    "    print(\"Error: Division by zero is not allowed.\")\n"
   ]
  },
  {
   "cell_type": "markdown",
   "id": "b1125d0d-b26e-46b1-ae7a-63ba5d839056",
   "metadata": {},
   "source": [
    "## Q6:Write a Python program that logs an error message to a log file when a division by zero exception occurs."
   ]
  },
  {
   "cell_type": "code",
   "execution_count": 8,
   "id": "49eca05e-cbe4-4201-b4bc-34f5d053a213",
   "metadata": {},
   "outputs": [
    {
     "name": "stdin",
     "output_type": "stream",
     "text": [
      "Enter a number:  0\n"
     ]
    },
    {
     "name": "stdout",
     "output_type": "stream",
     "text": [
      "Error: Cannot divide by zero.\n"
     ]
    }
   ],
   "source": [
    "import logging\n",
    "\n",
    "# Configure the logging settings\n",
    "logging.basicConfig(\n",
    "    filename='error.log',            # Log file name\n",
    "    level=logging.ERROR,             # Log only ERROR level messages and above\n",
    "    format='%(asctime)s - %(levelname)s - %(message)s'  # Log format\n",
    ")\n",
    "\n",
    "try:\n",
    "    num = int(input(\"Enter a number: \"))\n",
    "    result = 10 / num\n",
    "    print(\"Result:\", result)\n",
    "\n",
    "except ZeroDivisionError:\n",
    "    print(\"Error: Cannot divide by zero.\")\n",
    "    logging.error(\"Division by zero error occurred.\")\n"
   ]
  },
  {
   "cell_type": "markdown",
   "id": "2b5ad92b-3e17-4109-baa2-c91f8e5015d7",
   "metadata": {},
   "source": [
    "---\n",
    "\n",
    "## Q7:How do you log information at different levels (INFO, ERROR, WARNING) in Python using the logging module?"
   ]
  },
  {
   "cell_type": "code",
   "execution_count": 26,
   "id": "8dcd8c52-6d15-416f-977b-910818c8bc9a",
   "metadata": {},
   "outputs": [
    {
     "name": "stdout",
     "output_type": "stream",
     "text": [
      "Log messages written to 'multi_level_log.txt'\n"
     ]
    }
   ],
   "source": [
    "import logging\n",
    "\n",
    "# Setup logging configuration\n",
    "logging.basicConfig(\n",
    "    filename=\"multi_level_log.txt\",  # Log file\n",
    "    level=logging.DEBUG,             # Capture all levels from DEBUG and up\n",
    "    format=\"%(asctime)s - %(levelname)s - %(message)s\"\n",
    ")\n",
    "\n",
    "# Log messages at different levels\n",
    "logging.info(\"This is an INFO message.\")\n",
    "logging.warning(\"This is a WARNING message.\")\n",
    "logging.error(\"This is an ERROR message.\")\n",
    "\n",
    "print(\"Log messages written to 'multi_level_log.txt'\")\n"
   ]
  },
  {
   "cell_type": "markdown",
   "id": "f6716697-d21f-419e-9ac3-51c4652d2d08",
   "metadata": {},
   "source": [
    "## Q8:Write a program to handle a file opening error using exception handling."
   ]
  },
  {
   "cell_type": "code",
   "execution_count": 25,
   "id": "5eeed2b4-02af-44e1-bb2c-dd5ebdb4a4f6",
   "metadata": {},
   "outputs": [
    {
     "name": "stdout",
     "output_type": "stream",
     "text": [
      " Error: The file does not exist.\n"
     ]
    }
   ],
   "source": [
    "try:\n",
    "    # Try to open a file that doesn't exist\n",
    "    with open(\"non_existing_file.txt\", \"r\") as file:\n",
    "        content = file.read()\n",
    "        print(content)\n",
    "\n",
    "except FileNotFoundError:\n",
    "    print(\" Error: The file does not exist.\")\n"
   ]
  },
  {
   "cell_type": "markdown",
   "id": "59c3bd82-b65d-47ad-8d4d-1914af568b7f",
   "metadata": {},
   "source": [
    "## Q9:How can you read a file line by line and store its content in a list in Python?"
   ]
  },
  {
   "cell_type": "markdown",
   "id": "9dbefb7b-933d-4540-ba03-5b380edba4f9",
   "metadata": {},
   "source": [
    "### Ans:You can read a file line by line and store its content in a list using the readlines() method or a loop. This is useful for further processing or analysis of file data in Python"
   ]
  },
  {
   "cell_type": "code",
   "execution_count": 24,
   "id": "6a74427b-acf0-42ca-b2e7-a3b923b73c62",
   "metadata": {},
   "outputs": [
    {
     "name": "stdout",
     "output_type": "stream",
     "text": [
      " Lines stored in list:\n",
      "['First line\\n', 'Second line\\n', 'Third line']\n"
     ]
    }
   ],
   "source": [
    "# Step 1: Create a file with some sample lines (for testing)\n",
    "with open(\"myfile.txt\", \"w\") as f:\n",
    "    f.write(\"First line\\nSecond line\\nThird line\")\n",
    "\n",
    "# Step 2: Read the file line by line and store in a list\n",
    "with open(\"myfile.txt\", \"r\") as f:\n",
    "    lines = f.readlines()  # Reads all lines into a list\n",
    "\n",
    "# Step 3: Print the list\n",
    "print(\" Lines stored in list:\")\n",
    "print(lines)\n"
   ]
  },
  {
   "cell_type": "markdown",
   "id": "0318d2de-8166-408a-8b29-63c3b49447db",
   "metadata": {},
   "source": [
    "## Q10:How can you append data to an existing file in Python?"
   ]
  },
  {
   "cell_type": "code",
   "execution_count": 16,
   "id": "285c0ade-05c4-496f-9769-1d37d6f4ff19",
   "metadata": {},
   "outputs": [
    {
     "name": "stdout",
     "output_type": "stream",
     "text": [
      "Data appended successfully.\n"
     ]
    }
   ],
   "source": [
    "# Open the file in append mode\n",
    "with open(\"notes.txt\", \"a\") as file:\n",
    "    file.write(\"This is a new line added to the file.\\n\")\n",
    "\n",
    "print(\"Data appended successfully.\")\n"
   ]
  },
  {
   "cell_type": "markdown",
   "id": "5c9ab065-b926-417e-85e1-7d660f28347a",
   "metadata": {},
   "source": [
    "## Q11:Write a Python program that uses a try-except block to handle an error when attempting to access a dictionary key that doesn't exist?"
   ]
  },
  {
   "cell_type": "code",
   "execution_count": 15,
   "id": "6c40545e-9c9c-4d30-953b-863821c39cbd",
   "metadata": {},
   "outputs": [
    {
     "name": "stdout",
     "output_type": "stream",
     "text": [
      "Error: 'roll_no' key does not exist in the dictionary.\n"
     ]
    }
   ],
   "source": [
    "# Define a sample dictionary\n",
    "student = {\n",
    "    \"name\": \"Khushi Mishra\",\n",
    "    \"age\": 20,\n",
    "    \"course\": \"data analytics\"\n",
    "}\n",
    "\n",
    "# Try to access a key that may not exist\n",
    "try:\n",
    "    print(\"Student Roll No:\", student[\"roll_no\"])\n",
    "\n",
    "except KeyError:\n",
    "    print(\"Error: 'roll_no' key does not exist in the dictionary.\")\n"
   ]
  },
  {
   "cell_type": "markdown",
   "id": "8edcf8b0-8764-43a7-af1e-0e0788de53a1",
   "metadata": {},
   "source": [
    "## Q12:Write a program that demonstrates using multiple except blocks to handle different types of exceptions."
   ]
  },
  {
   "cell_type": "code",
   "execution_count": 17,
   "id": "08d67c3f-5666-412f-9a17-91a8bdad0286",
   "metadata": {},
   "outputs": [
    {
     "name": "stdin",
     "output_type": "stream",
     "text": [
      "Enter a number:  xyz\n"
     ]
    },
    {
     "name": "stdout",
     "output_type": "stream",
     "text": [
      "Error: Please enter a valid integer.\n"
     ]
    }
   ],
   "source": [
    "try:\n",
    "    # Taking user input and converting to integer\n",
    "    num = int(input(\"Enter a number: \"))\n",
    "\n",
    "    # Performing division operation\n",
    "    result = 100 / num\n",
    "    print(\"Division Result:\", result)\n",
    "\n",
    "    # Accessing an element from a list\n",
    "    items = [\"litchi\", \"banana\", \"apple\"]\n",
    "    print(\"Item at index 5:\", items[5])  # IndexError\n",
    "\n",
    "except ValueError:\n",
    "    print(\"Error: Please enter a valid integer.\")\n",
    "\n",
    "except ZeroDivisionError:\n",
    "    print(\"Error: Division by zero is not allowed.\")\n",
    "\n",
    "except IndexError:\n",
    "    print(\"Error: List index out of range.\")\n",
    "\n",
    "except Exception as e:\n",
    "    print(\"An unexpected error occurred:\", e)\n"
   ]
  },
  {
   "cell_type": "markdown",
   "id": "e5a5be94-3d43-46d8-b9f4-0219b4104cac",
   "metadata": {},
   "source": [
    "\n",
    "---\n",
    "\n",
    "## Q13: How would you check if a file exists before attempting to read it in Python?"
   ]
  },
  {
   "cell_type": "code",
   "execution_count": 1,
   "id": "edb83ac0-f5e3-4e0b-8ddb-a4ba178e5104",
   "metadata": {},
   "outputs": [
    {
     "name": "stdout",
     "output_type": "stream",
     "text": [
      "File does not exist.\n"
     ]
    }
   ],
   "source": [
    "import os\n",
    "\n",
    "filename = \"data.txt\"\n",
    "\n",
    "if os.path.exists(filename):\n",
    "    try:\n",
    "        with open(filename, 'r') as file:\n",
    "            content = file.read()\n",
    "            print(content)\n",
    "    except Exception as e:\n",
    "        print(f\"An error occurred while reading the file: {e}\")\n",
    "else:\n",
    "    print(\"File does not exist.\")\n"
   ]
  },
  {
   "cell_type": "markdown",
   "id": "30d43dbe-0dd9-4222-8eb7-f3c9986fa7e6",
   "metadata": {},
   "source": [
    "\n",
    "---\n",
    "\n",
    "## Q14:Write a program that uses the logging module to log both informational and error messages?"
   ]
  },
  {
   "cell_type": "code",
   "execution_count": 21,
   "id": "98c61efa-c6aa-47b1-b606-29ec23bf3bb1",
   "metadata": {},
   "outputs": [
    {
     "name": "stdout",
     "output_type": "stream",
     "text": [
      "Error occurred. Check 'my_log.txt' for details.\n",
      "Program finished. Log file created.\n"
     ]
    }
   ],
   "source": [
    "import logging\n",
    "\n",
    "# Configure logging to write to a file\n",
    "logging.basicConfig(\n",
    "    filename=\"my_log.txt\",\n",
    "    level=logging.INFO,  # Set to INFO to log both INFO and ERROR messages\n",
    "    format=\"%(asctime)s - %(levelname)s - %(message)s\"\n",
    ")\n",
    "\n",
    "# Log an informational message\n",
    "logging.info(\"Program started successfully.\")\n",
    "\n",
    "try:\n",
    "    # Try dividing by zero to cause an error\n",
    "    result = 10 / 0\n",
    "except ZeroDivisionError as e:\n",
    "    # Log the error\n",
    "    logging.error(f\"An error occurred: {e}\")\n",
    "    print(\"Error occurred. Check 'my_log.txt' for details.\")\n",
    "\n",
    "# Log another informational message\n",
    "logging.info(\"Program ended.\")\n",
    "print(\"Program finished. Log file created.\")\n"
   ]
  },
  {
   "cell_type": "markdown",
   "id": "9be0e421-3488-4e1f-bd03-afb1944a1880",
   "metadata": {},
   "source": [
    "\n",
    "---\n",
    "\n",
    "## Q15:Write a Python program that prints the content of a file and handles the case when the file is empty?"
   ]
  },
  {
   "cell_type": "code",
   "execution_count": 3,
   "id": "45a438d5-5e61-430f-a4c6-3a69e4d9e06a",
   "metadata": {},
   "outputs": [
    {
     "name": "stdout",
     "output_type": "stream",
     "text": [
      "File not found.\n"
     ]
    }
   ],
   "source": [
    "try:\n",
    "    with open(\"data.txt\", \"r\") as f:\n",
    "        content = f.read()\n",
    "        print(content if content.strip() else \"File is empty.\")\n",
    "except FileNotFoundError:\n",
    "    print(\"File not found.\")\n"
   ]
  },
  {
   "cell_type": "markdown",
   "id": "00866904-ad2c-4639-9056-7ad809aa7442",
   "metadata": {},
   "source": [
    "\n",
    "---\n",
    "\n",
    "## Q16: Demonstrate how to use memory profiling to check the memory usage of a small program?"
   ]
  },
  {
   "cell_type": "code",
   "execution_count": 23,
   "id": "c2f0fefa-3206-42dc-9218-325e4d2428a7",
   "metadata": {},
   "outputs": [
    {
     "name": "stdout",
     "output_type": "stream",
     "text": [
      "Memory used: 4.46 MiB\n"
     ]
    }
   ],
   "source": [
    "from memory_profiler import memory_usage\n",
    "\n",
    "def my_function():\n",
    "    data = [i for i in range(100000)]\n",
    "    return sum(data)\n",
    "\n",
    "mem_usage = memory_usage(my_function)\n",
    "print(f\"Memory used: {max(mem_usage) - min(mem_usage):.2f} MiB\")\n"
   ]
  },
  {
   "cell_type": "markdown",
   "id": "c8bbae1c-e78f-4cd1-8c2e-7718e70295a7",
   "metadata": {},
   "source": [
    "\n",
    "---\n",
    "\n",
    "## Q17: Write a Python program to create and write a list of numbers to a file, one number per line.\n"
   ]
  },
  {
   "cell_type": "code",
   "execution_count": 6,
   "id": "3d9da8d2-941f-4437-9a2b-5159870702da",
   "metadata": {},
   "outputs": [
    {
     "name": "stdout",
     "output_type": "stream",
     "text": [
      "File 'my_numbers.txt' created and numbers written successfully.\n",
      "1\n",
      "2\n",
      "3\n",
      "4\n",
      "5\n",
      "\n"
     ]
    }
   ],
   "source": [
    "# Create a list of numbers\n",
    "numbers = [1, 2, 3, 4, 5]\n",
    "\n",
    "# Open a file in write mode\n",
    "file = open(\"my_numbers.txt\", \"w\")\n",
    "\n",
    "# Write each number to the file\n",
    "for number in numbers:\n",
    "    file.write(str(number) + \"\\n\")\n",
    "\n",
    "# Close the file\n",
    "file.close()\n",
    "\n",
    "# Confirm it worked\n",
    "print(\"File 'my_numbers.txt' created and numbers written successfully.\")\n",
    "# Read and display file content to confirm\n",
    "with open(\"my_numbers.txt\", \"r\") as file:\n",
    "    print(file.read())\n",
    "\n"
   ]
  },
  {
   "cell_type": "markdown",
   "id": "53409fc0-da27-43ac-bcbd-b60f74f88abc",
   "metadata": {},
   "source": [
    "\n",
    "---\n",
    "\n",
    "## Q18:How would you implement a basic logging setup that logs to a file with rotation after 1MB?"
   ]
  },
  {
   "cell_type": "code",
   "execution_count": null,
   "id": "3eca0fde-5759-492c-b9c0-6a48f050adaf",
   "metadata": {},
   "outputs": [],
   "source": [
    "import logging\n",
    "from logging.handlers import RotatingFileHandler\n",
    "\n",
    "# Create a logger\n",
    "logger = logging.getLogger(\"MyLogger\")\n",
    "logger.setLevel(logging.INFO)\n",
    "\n",
    "# Create a rotating file handler\n",
    "handler = RotatingFileHandler(\n",
    "    \"app.log\",            # Log file name\n",
    "    maxBytes=1 * 1024 * 1024,  # 1MB size limit\n",
    "    backupCount=3             # Keep last 3 rotated log files\n",
    ")\n",
    "\n",
    "# Create a logging format\n",
    "formatter = logging.Formatter('%(asctime)s - %(levelname)s - %(message)s')\n",
    "handler.setFormatter(formatter)\n",
    "\n",
    "# Add handler to the logger\n",
    "logger.addHandler(handler)\n",
    "\n",
    "# Example log messages\n",
    "for i in range(10000):\n",
    "    logger.info(f\"This is log message number {i}\")\n"
   ]
  },
  {
   "cell_type": "markdown",
   "id": "1f278fee-26cc-433d-a18f-f6b36a9fdf8b",
   "metadata": {},
   "source": [
    "\n",
    "---\n",
    "\n",
    "## Q19:Write a program that handles both IndexError and KeyError using a try-except block."
   ]
  },
  {
   "cell_type": "code",
   "execution_count": 11,
   "id": "e7ffbe32-0f53-4e5a-82c7-01966204df69",
   "metadata": {},
   "outputs": [
    {
     "name": "stdout",
     "output_type": "stream",
     "text": [
      "Caught an IndexError: List index out of range.\n"
     ]
    }
   ],
   "source": [
    "my_list = [10, 20, 30]\n",
    "my_dict = {\"a\": 1, \"b\": 2}\n",
    "\n",
    "try:\n",
    "    # This will raise IndexError\n",
    "    print(\"List item:\", my_list[5])\n",
    "\n",
    "    # This will raise KeyError\n",
    "    print(\"Dict value:\", my_dict[\"z\"])\n",
    "\n",
    "except IndexError:\n",
    "    print(\"Caught an IndexError: List index out of range.\")\n",
    "\n",
    "except KeyError:\n",
    "    print(\"Caught a KeyError: Key not found in dictionary.\")\n"
   ]
  },
  {
   "cell_type": "markdown",
   "id": "041bf5d6-8f5c-4b71-b9d6-e5c45b81ee96",
   "metadata": {},
   "source": [
    "\n",
    "---\n",
    "\n",
    "## Q20: How would you open a file and read its contents using a context manager in Python?"
   ]
  },
  {
   "cell_type": "code",
   "execution_count": 13,
   "id": "8119cd05-2d1f-4e3e-8451-b211c05a6a4d",
   "metadata": {},
   "outputs": [
    {
     "name": "stdout",
     "output_type": "stream",
     "text": [
      " File content:\n",
      "Hello Khushi!\n",
      "This file is working perfectly.\n",
      "Enjoy learning Python.\n"
     ]
    }
   ],
   "source": [
    "# Create and read a file using context manager\n",
    "\n",
    "# Step 1: Write to the file\n",
    "with open(\"example.txt\", \"w\") as f:\n",
    "    f.write(\"Hello Khushi!\\nThis file is working perfectly.\\nEnjoy learning Python.\")\n",
    "\n",
    "# Step 2: Read the file\n",
    "with open(\"example.txt\", \"r\") as f:\n",
    "    content = f.read()\n",
    "\n",
    "# Step 3: Print content\n",
    "print(\" File content:\")\n",
    "print(content)\n"
   ]
  },
  {
   "cell_type": "markdown",
   "id": "a1b8eb6e-d872-4429-8b52-4488f4949825",
   "metadata": {},
   "source": [
    "\n",
    "---\n",
    "## Q21:Write a Python program that reads a file and prints the number of occurrences of a specific word."
   ]
  },
  {
   "cell_type": "code",
   "execution_count": 14,
   "id": "70959cd2-85fb-4370-84c3-f9cce3833e6e",
   "metadata": {},
   "outputs": [
    {
     "name": "stdout",
     "output_type": "stream",
     "text": [
      "The word 'Python' occurred 3 times in the file.\n"
     ]
    }
   ],
   "source": [
    "# Step 1: Create the file with some content (for testing)\n",
    "with open(\"sample.txt\", \"w\") as file:\n",
    "    file.write(\"Python is easy to learn. Python is powerful. I love Python programming.\")\n",
    "\n",
    "# Step 2: Define the word to count\n",
    "word_to_count = \"Python\"\n",
    "\n",
    "# Step 3: Open and read the file, then count occurrences\n",
    "with open(\"sample.txt\", \"r\") as file:\n",
    "    content = file.read()\n",
    "    count = content.count(word_to_count)\n",
    "\n",
    "# Step 4: Print the result\n",
    "print(f\"The word '{word_to_count}' occurred {count} times in the file.\")\n"
   ]
  },
  {
   "cell_type": "markdown",
   "id": "242b8e70-bb10-4bcd-acc6-bfc78525c002",
   "metadata": {},
   "source": [
    "\n",
    "---\n",
    "\n",
    "## Q22:How can you check if a file is empty before attempting to read its contents?"
   ]
  },
  {
   "cell_type": "code",
   "execution_count": 15,
   "id": "484e4e1e-623b-467c-81ce-1f424ec40c98",
   "metadata": {},
   "outputs": [
    {
     "name": "stdout",
     "output_type": "stream",
     "text": [
      "The file is empty.\n"
     ]
    }
   ],
   "source": [
    "import os\n",
    "\n",
    "file_path = \"example.txt\"\n",
    "\n",
    "# Create the file (optional for testing)\n",
    "with open(file_path, \"w\") as f:\n",
    "    f.write(\"\")  # Empty file\n",
    "\n",
    "# Check if the file is empty\n",
    "if os.path.getsize(file_path) == 0:\n",
    "    print(\"The file is empty.\")\n",
    "else:\n",
    "    with open(file_path, \"r\") as f:\n",
    "        content = f.read()\n",
    "        print(\"File content:\\n\", content)\n"
   ]
  },
  {
   "cell_type": "markdown",
   "id": "ccd93f3a-5c33-414a-8d13-b8729660c2f5",
   "metadata": {},
   "source": [
    "\n",
    "---\n",
    "\n",
    "## Q23: Write a Python program that writes to a log file when an error occurs during file handling?"
   ]
  },
  {
   "cell_type": "code",
   "execution_count": 17,
   "id": "bacdb50b-13c4-4976-838d-57f9c4a163a4",
   "metadata": {},
   "outputs": [
    {
     "name": "stdout",
     "output_type": "stream",
     "text": [
      " File not found! Error logged to 'error_log.txt'.\n"
     ]
    }
   ],
   "source": [
    "import logging\n",
    "\n",
    "# Setup the logger (will create 'error_log.txt')\n",
    "logging.basicConfig(\n",
    "    filename='error_log.txt',\n",
    "    level=logging.ERROR,\n",
    "    format='%(asctime)s - %(levelname)s - %(message)s'\n",
    ")\n",
    "\n",
    "try:\n",
    "    # Try opening a file that doesn't exist\n",
    "    with open(\"file_that_does_not_exist.txt\", \"r\") as file:\n",
    "        data = file.read()\n",
    "\n",
    "except FileNotFoundError as e:\n",
    "    # Log the error to the file\n",
    "    logging.error(\"File not found: %s\", e)\n",
    "\n",
    "    # Show something on-screen for Jupyter Notebook\n",
    "    print(\" File not found! Error logged to 'error_log.txt'.\")\n"
   ]
  },
  {
   "cell_type": "code",
   "execution_count": null,
   "id": "79bbc49f-c859-411f-a36c-9c0189f1927f",
   "metadata": {},
   "outputs": [],
   "source": []
  }
 ],
 "metadata": {
  "kernelspec": {
   "display_name": "Python 3 (ipykernel)",
   "language": "python",
   "name": "python3"
  },
  "language_info": {
   "codemirror_mode": {
    "name": "ipython",
    "version": 3
   },
   "file_extension": ".py",
   "mimetype": "text/x-python",
   "name": "python",
   "nbconvert_exporter": "python",
   "pygments_lexer": "ipython3",
   "version": "3.12.7"
  }
 },
 "nbformat": 4,
 "nbformat_minor": 5
}
