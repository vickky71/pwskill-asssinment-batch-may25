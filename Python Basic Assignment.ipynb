{
 "cells": [
  {
   "cell_type": "markdown",
   "id": "981e2b3f-c287-4290-878e-20a40676852c",
   "metadata": {},
   "source": [
    "# PYTHON BASIC QUESTIONS\n",
    "\n",
    "---\n",
    "\n",
    "## Q1: What is python,and why is it so Popular?\n",
    "\n",
    "\n",
    "\n",
    "## Ans: **Python** is a high level interpreted programming language which was created by **Guido van Rossum** and was released in **1991**.it is known for its clean,simple ,and readable syntax. it is used in many areas like; data science,automation,ML, web developments etc.\n",
    "\n",
    "## Python is popular because;\n",
    "\n",
    "### (a) it is easy to learn and read with simple syntax.it needs less code that's why very beginner friendly also.\n",
    "### (b) it has large standard libraries with massive community support.\n",
    "### (c) it can connect with C,C++,JAVA, and works well with other languages.\n",
    "### (d) nowadays it is widely used by top companies(Google,youtube,instagram etc.) and also by cross platforms like Windows,Linux etc.\n",
    "### (e) it also has a  wide range of application in data science ,web dev,AI,ML,cybersecurity,automation,etc.\n",
    "\n",
    "---\n"
   ]
  },
  {
   "cell_type": "markdown",
   "id": "c0392d5b-0098-4d9e-9d2b-e8f252886189",
   "metadata": {},
   "source": [
    "## Q2: What is an interpreter in python?\n",
    "\n",
    "\n",
    "\n",
    "## Ans:an **interpreter** in python is a program that **executes code line by line**.it reads one instruction ,translates it into machine codes,and runs it immediately.this makes python **easy to test and learn**,specially for beginners.\n",
    "\n",
    "---\n"
   ]
  },
  {
   "cell_type": "markdown",
   "id": "c52dda3e-25d5-47fc-8ef3-07b23562753c",
   "metadata": {},
   "source": [
    "## Q3:What are pre-defined keywords in python?\n",
    "\n",
    "## Ans:Predefined keywords in python are special reserved words that have fixed meanings and specific purposes in the language.they are used to define syntax and structure in python.**example** if,else,elif,def,true,false,return,import,while,for,etc.\n",
    "\n"
   ]
  },
  {
   "cell_type": "markdown",
   "id": "0ce54847-7b65-4000-b4ee-62fd04f0a719",
   "metadata": {},
   "source": [
    "---\n",
    "## Q4:Can keywords be used as variable names?\n",
    "\n",
    "\n",
    "\n",
    "## Ans: No keywords cannot be used as variable names in python."
   ]
  },
  {
   "cell_type": "markdown",
   "id": "4837553e-533d-43a8-a3c4-0cbb2072b5a6",
   "metadata": {},
   "source": [
    "\n",
    "---\n",
    "\n",
    "## Q5:What is mutability in python?\n",
    "\n",
    "## Ans:In python,mutability refers to the fact that whether the data inside an object can be changed after it is created. it is **editable**.\n",
    "**examples** \n",
    "### list,dict,set\n"
   ]
  },
  {
   "cell_type": "markdown",
   "id": "5baf46a2-867a-4037-bd90-aa1f0f2d2ddc",
   "metadata": {},
   "source": [
    "\n",
    "---\n",
    "\n",
    "## Q6:Why are lists mutable, but tuples are immutable?\n",
    "\n",
    "## Ans:**lists** are made for **dynamic data**. it means lists are mutable because they are designed to store the changing data-you can add,remove ,or even modify elements but on the other hand, **Tuples** are immutable because they are meant to store *constant fixed data* -which once created their values cannot be changed.\n",
    "\n",
    "---\n"
   ]
  },
  {
   "cell_type": "markdown",
   "id": "68a54445-254c-4d0d-932d-2f95cf92be77",
   "metadata": {},
   "source": [
    "\n",
    "## Q7:What is the difference between \"==\" and \"is\" operators in python?\n",
    "\n",
    "## Ans: **\"==\"** checks if values are the same while **\"is\"**  checks if both variables point to the same object in memory.\n"
   ]
  },
  {
   "cell_type": "markdown",
   "id": "43807a3f-eaa9-47ec-bc40-c9979934934c",
   "metadata": {},
   "source": [
    "\n",
    "---\n",
    "\n",
    "## Q8: What are logical operators in python?\n",
    "\n",
    "## Ans: **logical operators** are used to combine multiple conditions and make decisions in python.\n",
    "\n",
    "### Three main  logical operators are:- AND,OR,NOT.\n",
    "\n",
    "\n"
   ]
  },
  {
   "cell_type": "markdown",
   "id": "03fb7579-e9a7-41e5-b059-f02e2f033367",
   "metadata": {},
   "source": [
    "\n",
    "---\n",
    "\n",
    "## Q9:What is typecasting in python?\n",
    "\n",
    "## Ans:\"**typecasting** in python means **\"changing the data type\"** of a value from one  form to another.\n",
    "\n",
    "### **example**  \"5\"(str) to 5(int). \n",
    "\n"
   ]
  },
  {
   "cell_type": "markdown",
   "id": "3a2e01f4-4da4-4aa4-bae1-2c8628fa8ff2",
   "metadata": {},
   "source": [
    "\n",
    "---\n",
    "\n",
    "## Q10: What is the difference between implicit and explicit typecasting?\n",
    "\n",
    "## Ans: In implicit typecasting,python automatically converts one data type to another.**example** int  to  float . on the other hand,in explicit typecasting the programmer manually changes the data type using functions like float(),int(),etc. **example** str to int using int(\"2\")."
   ]
  },
  {
   "cell_type": "markdown",
   "id": "fc343a74-8680-4d9e-9ffe-d19052e4ebf0",
   "metadata": {},
   "source": [
    "\n",
    "---\n",
    "\n",
    "## Q11: What is the purpose of conditional statements in python?\n",
    "\n",
    "## Ans: *conditional statements* allows python to make decisions and run code only when certain conditions are true.\n"
   ]
  },
  {
   "cell_type": "markdown",
   "id": "89938537-cab1-4ce3-bdaf-eff2a68bae3a",
   "metadata": {},
   "source": [
    "\n",
    "---\n",
    "\n",
    "## Q12: How does the elif statement works?\n",
    "\n",
    "## Ans:The elif statement is used when we want to check more than one condition after if.The elif statement means \"**else if\"**.Python checks each condition one by one,and runs the first one that is true."
   ]
  },
  {
   "cell_type": "markdown",
   "id": "a6cefb43-519f-49ab-bb80-6f163b6b599e",
   "metadata": {},
   "source": [
    "\n",
    "---\n",
    "\n",
    "## Q13:What is the difference between for and while loops?\n",
    "\n",
    "## Ans: **for loop** means counted loop while **while loop** are condition loop. **for loop** is used when we know how many times to repeat something.it goes through each items in a list,range,or sequence.on the other hand,**while loop** is used when you want to repeat something until a condition is true.it keeps running as long as the condition is true."
   ]
  },
  {
   "cell_type": "markdown",
   "id": "6972ce39-d8fc-40da-8ffa-9d525d686b28",
   "metadata": {},
   "source": [
    "\n",
    "---\n",
    "\n",
    "## Q14: Describe a scenario where a while loop is more suitable than for loop.\n",
    "\n",
    "## Ans: Imagine a user is trying to entering password.you want to keep asking until the correct password is entered.here you don't know how many attempts/trials  the user will need for entering the corect password which actually needed.\n",
    "### a while loop is like saying,\"keep doing this until something happens\".you don't know how many times it will take to do that."
   ]
  },
  {
   "cell_type": "markdown",
   "id": "dfab44c9-e3d9-482d-a809-d77702925d57",
   "metadata": {},
   "source": [
    "\n",
    "---\n",
    "\n",
    "# PRACTICAL QUESTIONS\n",
    "\n",
    "---"
   ]
  },
  {
   "cell_type": "markdown",
   "id": "ab130e67-69ea-43d7-adf9-3d5583c3ce29",
   "metadata": {},
   "source": [
    "## Q1: Write a python program to print \"Hello World!\"\n",
    "\n",
    "---\n"
   ]
  },
  {
   "cell_type": "code",
   "execution_count": 1,
   "id": "e264e78f-86d9-46fc-9dfb-f63bba7cb3d4",
   "metadata": {
    "scrolled": true
   },
   "outputs": [
    {
     "name": "stdout",
     "output_type": "stream",
     "text": [
      "Hello World!\n"
     ]
    }
   ],
   "source": [
    "print(\"Hello World!\")"
   ]
  },
  {
   "cell_type": "markdown",
   "id": "350ecb93-36cb-4ed7-a246-a6e114f5837e",
   "metadata": {},
   "source": [
    "\n",
    "---\n",
    "\n",
    "## Q2:Write a python program that displays your name and age.\n"
   ]
  },
  {
   "cell_type": "code",
   "execution_count": 2,
   "id": "6e3ddf04-f239-4bf0-9add-d8882ce4ee60",
   "metadata": {},
   "outputs": [
    {
     "name": "stdout",
     "output_type": "stream",
     "text": [
      "My name is Khushi Mishra\n",
      "I am  20 years old\n"
     ]
    }
   ],
   "source": [
    "\n",
    "\n",
    "name = \"Khushi Mishra\"\n",
    "age = 20\n",
    "\n",
    "print(\"My name is\", name)\n",
    "print(\"I am \",age, \"years old\")\n",
    "\n"
   ]
  },
  {
   "cell_type": "markdown",
   "id": "5faa5a9a-7f18-4e23-b575-770fae08b07b",
   "metadata": {},
   "source": [
    "\n",
    "---\n",
    "\n",
    "## Q3:Write code to print all the pre-defined keywords in python using the keyword library.\n"
   ]
  },
  {
   "cell_type": "code",
   "execution_count": 3,
   "id": "8fc3a616-76e3-41b9-af35-d80cca73bdc9",
   "metadata": {},
   "outputs": [
    {
     "name": "stdout",
     "output_type": "stream",
     "text": [
      "Python keywords:\n",
      "False\n",
      "None\n",
      "True\n",
      "and\n",
      "as\n",
      "assert\n",
      "async\n",
      "await\n",
      "break\n",
      "class\n",
      "continue\n",
      "def\n",
      "del\n",
      "elif\n",
      "else\n",
      "except\n",
      "finally\n",
      "for\n",
      "from\n",
      "global\n",
      "if\n",
      "import\n",
      "in\n",
      "is\n",
      "lambda\n",
      "nonlocal\n",
      "not\n",
      "or\n",
      "pass\n",
      "raise\n",
      "return\n",
      "try\n",
      "while\n",
      "with\n",
      "yield\n"
     ]
    }
   ],
   "source": [
    "\n",
    "import keyword\n",
    "\n",
    "print(\"Python keywords:\")\n",
    "for kw in keyword.kwlist:\n",
    "    print(kw)"
   ]
  },
  {
   "cell_type": "markdown",
   "id": "6de86fa2-8eb3-492a-808a-3f172064e2c8",
   "metadata": {},
   "source": [
    "\n",
    "---\n",
    "\n",
    "## Q4:Write a program that checks if a given word is a python keyword.\n"
   ]
  },
  {
   "cell_type": "code",
   "execution_count": 4,
   "id": "a2de4514-54ff-4ff4-9449-dd77c6f876af",
   "metadata": {},
   "outputs": [
    {
     "name": "stdout",
     "output_type": "stream",
     "text": [
      "'and' is a python keyword.\n"
     ]
    }
   ],
   "source": [
    "\n",
    "import keyword\n",
    "\n",
    "word = \"and\"  # the word you want to check\n",
    "\n",
    "if keyword.iskeyword(word):\n",
    "    print(f\"'{word}' is a python keyword.\")\n",
    "else:\n",
    "     print(f\"'{word}' is NOT a python keyword.\")\n",
    "    "
   ]
  },
  {
   "cell_type": "markdown",
   "id": "127fd05e-2af2-4f7a-a2bb-589d947468ca",
   "metadata": {},
   "source": [
    "\n",
    "---\n",
    "\n",
    "## Q5:Create a list and Tuple in python,and demonstrate how attempting to change an element works differently for each.\n"
   ]
  },
  {
   "cell_type": "code",
   "execution_count": 5,
   "id": "771c43e8-d8f6-4fba-984f-93a8f1ac3c36",
   "metadata": {},
   "outputs": [
    {
     "name": "stdout",
     "output_type": "stream",
     "text": [
      "Original List: [10, 20, 30]\n",
      "Modified List: [10, 99, 30]\n",
      "Original Tuple: (10, 20, 30)\n",
      "Tuples are immutable. Cannot modify elements.\n"
     ]
    }
   ],
   "source": [
    "# Creating a list\n",
    "My_list = [10, 20, 30]\n",
    "print(\"Original List:\", My_list)\n",
    "\n",
    "# Changing an element in the list\n",
    "My_list[1] = 99\n",
    "print(\"Modified List:\", My_list)\n",
    "\n",
    "# Creating a Tuple\n",
    "My_tuple = (10, 20, 30)\n",
    "print(\"Original Tuple:\", My_tuple)\n",
    "\n",
    "# Trying to change an element in the tuple\n",
    "try:\n",
    "  My_tuple[1] = 99\n",
    "except TypeError:\n",
    "  print(\"Tuples are immutable. Cannot modify elements.\")\n",
    "else:\n",
    "  print(\"Modified Tuple:\", My_tuple)"
   ]
  },
  {
   "cell_type": "markdown",
   "id": "67359e20-28c1-451d-901d-b1aa6fd14259",
   "metadata": {},
   "source": [
    "\n",
    "---\n",
    "\n",
    "## Q6:Write a function to demonstrate the behaviour of mutable and immutable arguments.\n"
   ]
  },
  {
   "cell_type": "code",
   "execution_count": 6,
   "id": "3f66020d-b1d6-4ed2-93e6-89cf947048a5",
   "metadata": {},
   "outputs": [
    {
     "name": "stdout",
     "output_type": "stream",
     "text": [
      "Inside function before change:\n",
      "num = 10\n",
      "my_list = [1, 2, 3]\n",
      "Inside function after change:\n",
      "num = 15\n",
      "my_list = [1, 2, 3, 99]\n",
      "\n",
      "Outside function after call:\n",
      "a = 10\n",
      "b = [1, 2, 3, 99]\n"
     ]
    }
   ],
   "source": [
    "def modify_values(num, my_list):\n",
    "    print(\"Inside function before change:\")\n",
    "    print(\"num =\", num)\n",
    "    print(\"my_list =\", my_list)\n",
    "\n",
    "    num += 5              # Try to change immutable (int)\n",
    "    my_list.append(99)    # Modify mutable (list)\n",
    "\n",
    "    print(\"Inside function after change:\")\n",
    "    print(\"num =\", num)\n",
    "    print(\"my_list =\", my_list)\n",
    "\n",
    "# Test values\n",
    "a = 10                  # Immutable\n",
    "b = [1, 2, 3]           # Mutable\n",
    "\n",
    "modify_values(a, b)\n",
    "\n",
    "print(\"\\nOutside function after call:\")\n",
    "print(\"a =\", a)         # a is still 10\n",
    "print(\"b =\", b)         # b has 99 added\n"
   ]
  },
  {
   "cell_type": "markdown",
   "id": "f8eb22b2-8855-4750-ab53-ed75a9e41998",
   "metadata": {},
   "source": [
    "\n",
    "---\n",
    "\n",
    "## Q7: Write a program that performs basic arithmetic operations on two user input numbers"
   ]
  },
  {
   "cell_type": "code",
   "execution_count": 21,
   "id": "3020ddcc-5fca-46d2-9d04-4e517cb76b21",
   "metadata": {},
   "outputs": [
    {
     "name": "stdout",
     "output_type": "stream",
     "text": [
      "Addition : 35.0\n",
      "Subtraction : 5.0\n",
      "Multiplication : 300.0\n",
      "Division: 1.3333333333333333\n"
     ]
    }
   ],
   "source": [
    "# Basic Arithmetic Operations\n",
    "\n",
    "a = 20.0\n",
    "b = 15.0\n",
    "\n",
    "print(\"Addition :\", a + b)\n",
    "\n",
    "print(\"Subtraction :\", a - b)\n",
    "\n",
    "print(\"Multiplication :\", a * b)\n",
    "\n",
    "if b != 0:\n",
    "\n",
    "    print(\"Division:\", a / b)\n",
    "\n",
    "else:\n",
    "\n",
    "    print(\"Division: Cannot divide by zero\")"
   ]
  },
  {
   "cell_type": "markdown",
   "id": "6366eacb-dd2c-42e7-9c3c-6ed4e3cf76d9",
   "metadata": {},
   "source": [
    "\n",
    "---\n",
    "\n",
    "## Q8: Write a program to demonstrate the use of logical operators."
   ]
  },
  {
   "cell_type": "code",
   "execution_count": 2,
   "id": "cd826c48-99af-41c4-84ce-7043464115eb",
   "metadata": {},
   "outputs": [
    {
     "name": "stdin",
     "output_type": "stream",
     "text": [
      "Enter first number:  5\n",
      "Enter second number:  -2\n"
     ]
    },
    {
     "name": "stdout",
     "output_type": "stream",
     "text": [
      "At least one number is not positive.\n",
      "At least one number is positive.\n",
      "NOT operator example:\n",
      "a > b is True\n",
      "not(a > b) is False\n"
     ]
    }
   ],
   "source": [
    "# Program to demonstrate logical operators\n",
    "\n",
    "# Input from the user\n",
    "a = int(input(\"Enter first number: \"))\n",
    "b = int(input(\"Enter second number: \"))\n",
    "\n",
    "# Logical AND\n",
    "if a > 0 and b > 0:\n",
    "    print(\"Both numbers are positive.\")\n",
    "else:\n",
    "    print(\"At least one number is not positive.\")\n",
    "\n",
    "# Logical OR\n",
    "if a > 0 or b > 0:\n",
    "    print(\"At least one number is positive.\")\n",
    "else:\n",
    "    print(\"Neither number is positive.\")\n",
    "\n",
    "# Logical NOT\n",
    "print(\"NOT operator example:\")\n",
    "print(\"a > b is\", a > b)\n",
    "print(\"not(a > b) is\", not (a > b))"
   ]
  },
  {
   "cell_type": "markdown",
   "id": "9dd49371-d783-4e4e-9319-97ce72faff6a",
   "metadata": {},
   "source": [
    "\n",
    "---\n",
    "\n",
    "## Q9:Write a python program to convert user input from string to integer,float ,and boolean types.\n"
   ]
  },
  {
   "cell_type": "code",
   "execution_count": 3,
   "id": "c9fc12a8-5db9-498b-b93b-5fe98095ba9a",
   "metadata": {},
   "outputs": [
    {
     "name": "stdin",
     "output_type": "stream",
     "text": [
      "Enter something:  10\n"
     ]
    },
    {
     "name": "stdout",
     "output_type": "stream",
     "text": [
      "As integer: 10\n",
      "As float: 10.0\n",
      "As boolean: True\n",
      "As integer: 10\n",
      "As float: 10.0\n",
      "As boolean: True\n"
     ]
    }
   ],
   "source": [
    "value = input(\"Enter something: \")\n",
    "\n",
    "# Convert to integervalue = input(\"Enter something: \")\n",
    "\n",
    "# Convert to integer\n",
    "print(\"As integer:\", int(value))\n",
    "\n",
    "# Convert to float\n",
    "print(\"As float:\", float(value))\n",
    "\n",
    "# Convert to boolean\n",
    "print(\"As boolean:\", bool(value))\n",
    "print(\"As integer:\", int(value))\n",
    "\n",
    "# Convert to float\n",
    "print(\"As float:\", float(value))\n",
    "\n",
    "# Convert to boolean\n",
    "print(\"As boolean:\", bool(value))"
   ]
  },
  {
   "cell_type": "markdown",
   "id": "5f56f9f4-6ecf-44f7-9c23-e483260b62ae",
   "metadata": {},
   "source": [
    "\n",
    "---\n",
    "\n",
    "## Q10:Write code to demonstrate typecasting with list elements."
   ]
  },
  {
   "cell_type": "code",
   "execution_count": 4,
   "id": "8e32a5ec-3af8-4f09-ae76-ecf97eefc45d",
   "metadata": {},
   "outputs": [
    {
     "name": "stdout",
     "output_type": "stream",
     "text": [
      "As integers: [2, 4, 6]\n",
      "As floats: [2.0, 4.0, 6.0]\n",
      "As booleans: [True, True, True]\n"
     ]
    }
   ],
   "source": [
    "# A list of string numbers\n",
    "data = ['2', '4', '6']\n",
    "\n",
    "# Convert to integers\n",
    "int_data = list(map(int, data))\n",
    "print(\"As integers:\", int_data)\n",
    "\n",
    "# Convert to floats\n",
    "float_data = list(map(float, data))\n",
    "print(\"As floats:\", float_data)\n",
    "\n",
    "# Convert to booleans\n",
    "bool_data = list(map(bool, data))\n",
    "print(\"As booleans:\", bool_data)"
   ]
  },
  {
   "cell_type": "markdown",
   "id": "c52b3175-a4cd-42fb-a91c-d2fb43fb832f",
   "metadata": {},
   "source": [
    "\n",
    "---\n",
    "\n",
    "## Q11: Write a program that checks if a number is positive,negative or zero.\n"
   ]
  },
  {
   "cell_type": "code",
   "execution_count": 6,
   "id": "1d85df7d-02ea-47cf-9911-fd0a83007f9f",
   "metadata": {},
   "outputs": [
    {
     "name": "stdin",
     "output_type": "stream",
     "text": [
      "Enter a number:  5\n"
     ]
    },
    {
     "name": "stdout",
     "output_type": "stream",
     "text": [
      "The number is positive.\n"
     ]
    }
   ],
   "source": [
    "# Input a number from the user\n",
    "num = float(input(\"Enter a number: \"))\n",
    "\n",
    "# Check if the number is positive, negative, or zero\n",
    "if num > 0:\n",
    "    print(\"The number is positive.\")\n",
    "elif num < 0:\n",
    "    print(\"The number is negative.\")\n",
    "else:\n",
    "    print(\"The number is zero.\")"
   ]
  },
  {
   "cell_type": "markdown",
   "id": "5524efdf-31ff-4641-bdb1-f96df9f03f2d",
   "metadata": {},
   "source": [
    "\n",
    "---\n",
    "## Q12: Write a for loop to print numbers from 1 to 10.\n"
   ]
  },
  {
   "cell_type": "code",
   "execution_count": 11,
   "id": "48518ded-bba9-408d-ac9e-ac589c8c56ce",
   "metadata": {},
   "outputs": [
    {
     "name": "stdout",
     "output_type": "stream",
     "text": [
      "1\n",
      "2\n",
      "3\n",
      "4\n",
      "5\n",
      "6\n",
      "7\n",
      "8\n",
      "9\n",
      "10\n"
     ]
    }
   ],
   "source": [
    "for i in range(1, 11):\n",
    "    print(i)"
   ]
  },
  {
   "cell_type": "markdown",
   "id": "66dd45dd-dfe2-4dd8-aeee-033a86fbb3bf",
   "metadata": {},
   "source": [
    "\n",
    "---\n",
    "## Q13: Write a python program to find the sum of all even numbers between 1 and 50."
   ]
  },
  {
   "cell_type": "code",
   "execution_count": 12,
   "id": "10abf5db-f9c4-4ea3-8978-eb0decd8f920",
   "metadata": {},
   "outputs": [
    {
     "name": "stdout",
     "output_type": "stream",
     "text": [
      "Sum of even numbers from 1 to 50 is: 650\n"
     ]
    }
   ],
   "source": [
    "print(\"Sum of even numbers from 1 to 50 is:\", sum(range(2, 51, 2)))"
   ]
  },
  {
   "cell_type": "markdown",
   "id": "ce5365da-1576-4725-b2e1-e4c8411844a8",
   "metadata": {},
   "source": [
    "\n",
    "---\n",
    "\n",
    "## Q14: Write a program to reverse a string using a while loop."
   ]
  },
  {
   "cell_type": "code",
   "execution_count": 15,
   "id": "08b8bce6-3ebb-458f-87b2-a1cee402edde",
   "metadata": {},
   "outputs": [
    {
     "name": "stdin",
     "output_type": "stream",
     "text": [
      "Enter a string:  python\n"
     ]
    },
    {
     "name": "stdout",
     "output_type": "stream",
     "text": [
      "Reverse: nohtyp\n"
     ]
    }
   ],
   "source": [
    "memory= input(\"Enter a string: \")\n",
    "reverse = memory[::-1]\n",
    "print(\"Reverse:\", reverse)"
   ]
  },
  {
   "cell_type": "markdown",
   "id": "dcc54eaf-b2cf-4d01-8889-ba73b6b42178",
   "metadata": {},
   "source": [
    "\n",
    "---\n",
    "\n",
    "## Q15:Write a python program to calculate the factorial of a number provided by the user using a while loop.\n",
    "\n"
   ]
  },
  {
   "cell_type": "code",
   "execution_count": 16,
   "id": "cff44448-25dc-462d-a0df-ecbb3a246714",
   "metadata": {},
   "outputs": [
    {
     "name": "stdin",
     "output_type": "stream",
     "text": [
      "Enter a number:  9\n"
     ]
    },
    {
     "name": "stdout",
     "output_type": "stream",
     "text": [
      "Factorial is: 362880\n"
     ]
    }
   ],
   "source": [
    "num = int(input(\"Enter a number: \"))\n",
    "fact = 1\n",
    "i = 1\n",
    "\n",
    "while i <= num:\n",
    "    fact = fact * i\n",
    "    i = i + 1\n",
    "\n",
    "print(\"Factorial is:\", fact)"
   ]
  }
 ],
 "metadata": {
  "kernelspec": {
   "display_name": "Python 3 (ipykernel)",
   "language": "python",
   "name": "python3"
  },
  "language_info": {
   "codemirror_mode": {
    "name": "ipython",
    "version": 3
   },
   "file_extension": ".py",
   "mimetype": "text/x-python",
   "name": "python",
   "nbconvert_exporter": "python",
   "pygments_lexer": "ipython3",
   "version": "3.12.7"
  }
 },
 "nbformat": 4,
 "nbformat_minor": 5
}
