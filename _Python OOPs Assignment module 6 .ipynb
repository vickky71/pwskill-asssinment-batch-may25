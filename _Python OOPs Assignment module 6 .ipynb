{
 "cells": [
  {
   "cell_type": "markdown",
   "id": "e6ac2dcd-4aa2-4017-a2cb-4ac5190b2b83",
   "metadata": {},
   "source": [
    "Python OOPs Questions"
   ]
  },
  {
   "cell_type": "markdown",
   "id": "6c18718d-ae42-4fb4-941e-44480dcef170",
   "metadata": {},
   "source": [
    "1. What is Object-Oriented Programming (OOP)?"
   ]
  },
  {
   "cell_type": "markdown",
   "id": "8c7c0cd0-03eb-49e6-9930-1c48c1c6b3aa",
   "metadata": {},
   "source": [
    "Object-Oriented Programming (OOP) is a programming paradigm based on the concept of \"objects\", which are instances of classes. These objects can   contain data (called attributes or fields) and code (called methods or functions) that operate on the data."
   ]
  },
  {
   "cell_type": "markdown",
   "id": "294c2705-ba76-44c2-9a6e-27788a04d6c5",
   "metadata": {},
   "source": [
    "2. What is a class in OOP?"
   ]
  },
  {
   "cell_type": "markdown",
   "id": "5e231d3b-4a88-479b-8357-e70a5665d67b",
   "metadata": {},
   "source": [
    "A class is a blueprint or template for creating objects in OOP. It defines the attributes (data) and methods (functions) that the created objects will have."
   ]
  },
  {
   "cell_type": "markdown",
   "id": "264f9fce-94a3-4618-aadc-7fd9e2f3d094",
   "metadata": {},
   "source": [
    "3. What is an object in OOP?"
   ]
  },
  {
   "cell_type": "markdown",
   "id": "4239c529-a304-40f7-91e7-29992bba8447",
   "metadata": {},
   "source": [
    "An object is an instance of a class. It is a real-world entity that has:\n",
    "State → represented by its attributes (data) and Behavior → represented by its methods (functions).If a class is the blueprint, then an object is the actual product created using that blueprint."
   ]
  },
  {
   "cell_type": "markdown",
   "id": "8c79f677-1a39-4d28-ae09-e3c01a160256",
   "metadata": {},
   "source": [
    "4. What is the difference between abstraction and encapsulation?"
   ]
  },
  {
   "cell_type": "markdown",
   "id": "7d2098a0-d7a4-4f1f-90e4-77bb27fb6f8c",
   "metadata": {},
   "source": [
    "Abstraction means hiding complex implementation details and showing only the essential features of an object.To reduce complexity and allow the programmer to focus on what an object does, instead of how it does it.\n",
    "\n",
    "Encapsulation means wrapping data (attributes) and methods (functions) together into a single unit (a class) and restricting direct access to some of the object's components.To protect data and prevent accidental or unauthorized access/modification."
   ]
  },
  {
   "cell_type": "markdown",
   "id": "c9f0e4a4-29d2-4ff3-8799-41fdd2e1d9d8",
   "metadata": {},
   "source": [
    "5.  What are dunder methods in Python?"
   ]
  },
  {
   "cell_type": "markdown",
   "id": "7a972a49-94ef-4e54-b5f1-5032bd4d8d78",
   "metadata": {},
   "source": [
    "Dunder methods (short for Double UNDerscore) are special built-in methods in Python that have double underscores at the beginning and end, like __init__, __str__, or __len__.\n",
    "They are also known as:\n",
    "Magic methods\n",
    "Special methods\n",
    "These methods are automatically called by Python in certain situations to perform common operations."
   ]
  },
  {
   "cell_type": "markdown",
   "id": "86b9743d-8ed6-40bd-8724-193186a9d7a3",
   "metadata": {},
   "source": [
    "6. Explain the concept of inheritance in OOP"
   ]
  },
  {
   "cell_type": "markdown",
   "id": "8389358c-b883-497c-a4eb-bb1b9eb78d2e",
   "metadata": {},
   "source": [
    "Inheritance is a key concept in OOP that allows a class (child or subclass) to inherit properties and behaviors (i.e., attributes and methods) from another class (parent or superclass).It supports the idea of code reuse, hierarchical relationships, and extensibility."
   ]
  },
  {
   "cell_type": "markdown",
   "id": "b7e9d8e0-e070-458f-89a1-aecef85fd1cb",
   "metadata": {},
   "source": [
    "7. What is polymorphism in OOP?"
   ]
  },
  {
   "cell_type": "markdown",
   "id": "15d185ac-f204-4ae8-83d4-962328112423",
   "metadata": {},
   "source": [
    "Polymorphism comes from Greek words meaning “many forms. In OOP, polymorphism allows different classes to define methods with the same name, but with different implementations. This means a single function or method can behave differently based on the object that invokes it."
   ]
  },
  {
   "cell_type": "markdown",
   "id": "82f8e29d-8427-4b1b-88c8-7f873d274787",
   "metadata": {},
   "source": [
    "8. H How is encapsulation achieved in Python?"
   ]
  },
  {
   "cell_type": "markdown",
   "id": "509bbe38-4ffb-41e9-bc5c-026513e049e7",
   "metadata": {},
   "source": [
    "Encapsulation in Python is achieved by bundling data (attributes) and methods (functions) into a single class, and by restricting direct access to some of the class’s components to protect the internal state."
   ]
  },
  {
   "cell_type": "markdown",
   "id": "fa069f01-4390-4bc7-a39c-0898b390402c",
   "metadata": {},
   "source": [
    "9. What is a constructor in Python?"
   ]
  },
  {
   "cell_type": "markdown",
   "id": "4d93117e-db4f-4fa6-9108-14b1615aafb4",
   "metadata": {},
   "source": [
    "A constructor in Python is a special method used to initialize a newly created object from a class. It automatically runs when you create an object and is typically used to set up initial values for attributes."
   ]
  },
  {
   "cell_type": "markdown",
   "id": "2c027d00-1517-443b-bf06-96bb4724a7d3",
   "metadata": {},
   "source": [
    "10. What are class and static methods in Python?"
   ]
  },
  {
   "cell_type": "markdown",
   "id": "402f6af4-abcb-4276-86f9-e97009cfebc9",
   "metadata": {},
   "source": [
    "Both class methods and static methods are alternatives to regular instance methods, and they are defined using special decorators: @classmethod and @staticmethod."
   ]
  },
  {
   "cell_type": "markdown",
   "id": "c22ebcc7-b924-4c20-9753-20bd98ef7158",
   "metadata": {},
   "source": [
    "11. What is method overloading in Python?"
   ]
  },
  {
   "cell_type": "markdown",
   "id": "79a733ba-a07e-4b8d-be3d-ce0b83003bc4",
   "metadata": {},
   "source": [
    "Method Overloading means having multiple methods with the same name but different parameters (number or type). It's common in languages like Java and C++, but Python handles this differently."
   ]
  },
  {
   "cell_type": "markdown",
   "id": "b1bcd1e9-f46c-4911-9238-0bf183ba7330",
   "metadata": {},
   "source": [
    "12. What is method overriding in OOP?"
   ]
  },
  {
   "cell_type": "markdown",
   "id": "ff38f940-ea44-4549-b08f-36d188d9fefb",
   "metadata": {},
   "source": [
    "Method overriding is a feature in OOP that allows a child class to redefine or replace a method from its parent class with a new implementation.It enables runtime polymorphism, where the same method behaves differently depending on the object’s class."
   ]
  },
  {
   "cell_type": "markdown",
   "id": "1e49dbdb-600c-4136-83e2-51f74a329b16",
   "metadata": {},
   "source": [
    "13. What is a property decorator in Python?"
   ]
  },
  {
   "cell_type": "markdown",
   "id": "9c561420-0299-4418-9a9c-fdb1095197c7",
   "metadata": {},
   "source": [
    "The @property decorator in Python is used to define getter methods that can be accessed like attributes, allowing controlled access to private or computed values. It’s part of Python's support for encapsulation and clean, readable interfaces."
   ]
  },
  {
   "cell_type": "markdown",
   "id": "ea80eea1-ec78-459c-ba5c-bada80a8c799",
   "metadata": {},
   "source": [
    "14. Why is polymorphism important in OOP?"
   ]
  },
  {
   "cell_type": "markdown",
   "id": "76f31aff-5981-4d14-8dc2-b20e17f06007",
   "metadata": {},
   "source": [
    "Polymorphism is a core concept in OOP that allows different objects to respond to the same method name in different ways. It helps make code flexible, extensible, and easier to maintain"
   ]
  },
  {
   "cell_type": "markdown",
   "id": "eaa02c6c-9a78-4713-b7f2-e7d2eef26dc4",
   "metadata": {},
   "source": [
    "15. What is an abstract class in Python?"
   ]
  },
  {
   "cell_type": "markdown",
   "id": "a652d41e-f57c-4e62-8787-1d647fd373a9",
   "metadata": {},
   "source": [
    "An abstract class in Python is a blueprint for other classes. It cannot be instantiated directly and is designed to be inherited by subclasses that implement its abstract methods. It defines a common interface but leaves the implementation to derived (child) classes."
   ]
  },
  {
   "cell_type": "markdown",
   "id": "13acdf28-6fda-4386-a0c1-1c797b52e5ee",
   "metadata": {},
   "source": [
    "16. What are the advantages of OOP?"
   ]
  },
  {
   "cell_type": "markdown",
   "id": "743d939b-7807-4b99-a3ca-4e66535c0046",
   "metadata": {},
   "source": [
    "Object-Oriented Programming (OOP) improves code organization by grouping data and methods into objects. It increases code reuse, simplifies debugging by isolating issues within objects, and supports scalable program design."
   ]
  },
  {
   "cell_type": "markdown",
   "id": "08053998-2295-450d-9af6-c4e4472797f6",
   "metadata": {},
   "source": [
    "17. What is the difference between a class variable and an instance variable?"
   ]
  },
  {
   "cell_type": "markdown",
   "id": "7f031f74-1945-4fe7-b58f-a6af3dec4417",
   "metadata": {
    "jp-MarkdownHeadingCollapsed": true
   },
   "source": [
    "Class variables are shared across all instances of a class. They are defined within the class but outside any instance methods. These variables are typically used to store data that is common to all instances of the class.\n",
    "\n",
    "Instance variables are unique to each object (instance) of a class. They are defined within methods, typically inside the __init__ constructor, and are prefixed with self."
   ]
  },
  {
   "cell_type": "markdown",
   "id": "626b2f7e-d391-4497-8a70-746926fc4636",
   "metadata": {},
   "source": [
    "18. What is multiple inheritance in Python?"
   ]
  },
  {
   "cell_type": "markdown",
   "id": "c1417640-bbd7-410a-b074-a1a830bf327b",
   "metadata": {},
   "source": [
    "In Python, multiple inheritance is a feature that allows a class to inherit attributes and methods from more than one parent class. This means a child class can derive functionality from multiple base classes, enabling code reuse and flexibility."
   ]
  },
  {
   "cell_type": "markdown",
   "id": "4f4c920b-6348-4c5c-a18a-74f64ab002cd",
   "metadata": {},
   "source": [
    "19. Explain the purpose of ‘’__str__’ and ‘__repr__’ ‘ methods in Python."
   ]
  },
  {
   "cell_type": "markdown",
   "id": "1ee27ae2-ad97-4ef3-b855-6b0d4b6e5ab7",
   "metadata": {},
   "source": [
    "In Python, the __repr__ and __str__ methods are used to define string representations of objects. The __repr__ method is intended for developers, providing an unambiguous representation of the object, while __str__ is for users, offering a readable description."
   ]
  },
  {
   "cell_type": "markdown",
   "id": "b8126165-bfc7-4d23-afad-598c16f7a309",
   "metadata": {},
   "source": [
    "20. What is the significance of the ‘super()’ function in Python"
   ]
  },
  {
   "cell_type": "markdown",
   "id": "e6f474b6-ea4c-4fa8-bf21-d5a2ec396d17",
   "metadata": {},
   "source": [
    "The super() function in Python is a powerful and essential tool, especially in object-oriented programming. It plays a significant role in enabling efficient and clean inheritance.  super() is a cornerstone of Python's inheritance mechanism, enabling seamless interaction between parent and child classes while adhering to the principles of code reusability and maintainability."
   ]
  },
  {
   "cell_type": "markdown",
   "id": "fecb4716-6296-405a-95cb-a4ee8a3af0fc",
   "metadata": {},
   "source": [
    "21. What is the significance of the __del__ method in Python"
   ]
  },
  {
   "cell_type": "markdown",
   "id": "0b3054dc-7993-4626-aace-4e6001c7d3b8",
   "metadata": {},
   "source": [
    "The __del__ method in Python is a special method, also known as a destructor, that is called when an object is about to be destroyed. Its primary purpose is to allow you to define cleanup actions, such as releasing resources or performing final tasks, before the object is removed from memory by Python's garbage collector."
   ]
  },
  {
   "cell_type": "markdown",
   "id": "b2b08435-4f39-4086-8247-8c8c542beae7",
   "metadata": {},
   "source": [
    "22.  What is the difference between @staticmethod and @classmethod in Python?"
   ]
  },
  {
   "cell_type": "markdown",
   "id": "e78ca48c-9fab-4e9e-a891-6b5fcce60dbe",
   "metadata": {},
   "source": [
    "The @classmethod decorator in Python is used to define a method that is bound to the class and not the instance of the class. This means that it can be called on the class itself rather than on instances of the class.\n",
    "In Object-Oriented Programming (OOP) with Python, the @staticmethod decorator is used to define a method inside a class that does not depend on the class (cls) or the instance (self)."
   ]
  },
  {
   "cell_type": "markdown",
   "id": "51142c2e-461f-4192-941e-45f1ce9adff8",
   "metadata": {},
   "source": [
    "23. How does polymorphism work in Python with inheritance"
   ]
  },
  {
   "cell_type": "markdown",
   "id": "6e68e12f-cfb8-491f-84be-f937af392313",
   "metadata": {},
   "source": [
    "In Python, polymorphism with inheritance allows child classes to provide different implementations of the same method defined in the parent class.This means that you can call the same method on different objects (from different classes), and each object will respond in its own way — a core part of runtime polymorphism."
   ]
  },
  {
   "cell_type": "markdown",
   "id": "373cc84a-22a0-4570-a681-a328762caa97",
   "metadata": {},
   "source": [
    "24. What is method chaining in Python OOP?"
   ]
  },
  {
   "cell_type": "markdown",
   "id": "7c5c8da0-7ef9-45d4-b25f-a0eef1e41b1a",
   "metadata": {},
   "source": [
    "Method chaining is a technique where multiple methods are called on the same object in a single line, one after another. This is done by having each method return self (i.e., the current object), allowing the next method to be called."
   ]
  },
  {
   "cell_type": "markdown",
   "id": "d5323fb4-bcfe-45f4-9e5a-c183ed9c7dd0",
   "metadata": {},
   "source": [
    "25. What is the purpose of the __call__ method in Python?"
   ]
  },
  {
   "cell_type": "markdown",
   "id": "48b338ce-4b2b-48d7-8f9f-e7f1120da661",
   "metadata": {},
   "source": [
    "The __call__ method in Python provides a powerful way to make instances of your classes behave like functions. This can be useful for a variety of purposes, including creating function objects, implementing decorators, and more. By understanding and utilizing the __call__ method, you can add flexibility and functionality to your Python programs."
   ]
  },
  {
   "cell_type": "markdown",
   "id": "fd276db2-3ea6-42f5-8c39-72337db64d97",
   "metadata": {},
   "source": [
    "Practical Questions"
   ]
  },
  {
   "cell_type": "markdown",
   "id": "31487e9c-4e74-411f-bda6-5dc2ffb84f97",
   "metadata": {},
   "source": [
    "1. Create a parent class Animal with a method speak() that prints a generic message. Create a child class Dog that overrides the speak() method to print \"Bark!\"."
   ]
  },
  {
   "cell_type": "code",
   "execution_count": 1,
   "id": "53557f8b-ec3f-46c3-958e-f8cfedf4bd71",
   "metadata": {},
   "outputs": [
    {
     "name": "stdout",
     "output_type": "stream",
     "text": [
      "Animal makes a sound\n",
      "Bark!\n"
     ]
    }
   ],
   "source": [
    "class Animal:\n",
    "    def speak(self):\n",
    "        print(\"Animal makes a sound\")\n",
    "\n",
    "class Dog(Animal):\n",
    "    def speak(self): \n",
    "        print(\"Bark!\")\n",
    "a = Animal()\n",
    "a.speak()  \n",
    "\n",
    "d = Dog()\n",
    "d.speak() \n"
   ]
  },
  {
   "cell_type": "markdown",
   "id": "71a86fa5-7086-438d-b854-09a9da56a3ea",
   "metadata": {},
   "source": [
    "2. Write a program to create an abstract class Shape with a method area(). Derive classes Circle and Rectangle \n",
    "from it and implement the area() method in both"
   ]
  },
  {
   "cell_type": "code",
   "execution_count": 2,
   "id": "b87df5d6-312a-4610-a9da-08960a54abfc",
   "metadata": {},
   "outputs": [
    {
     "name": "stdout",
     "output_type": "stream",
     "text": [
      "Area of Circle: 78.53981633974483\n",
      "Area of Rectangle: 24\n"
     ]
    }
   ],
   "source": [
    "from abc import ABC, abstractmethod\n",
    "import math\n",
    "\n",
    "\n",
    "class Shape(ABC):\n",
    "    @abstractmethod\n",
    "    def area(self):\n",
    "        pass\n",
    "\n",
    "class Circle(Shape):\n",
    "    def __init__(self, radius):\n",
    "        self.radius = radius\n",
    "\n",
    "    def area(self):\n",
    "        return math.pi * self.radius ** 2\n",
    "\n",
    "class Rectangle(Shape):\n",
    "    def __init__(self, length, width):\n",
    "        self.length = length\n",
    "        self.width = width\n",
    "\n",
    "    def area(self):\n",
    "        return self.length * self.width\n",
    "\n",
    "c = Circle(5)\n",
    "r = Rectangle(4, 6)\n",
    "\n",
    "print(\"Area of Circle:\", c.area())       \n",
    "print(\"Area of Rectangle:\", r.area())    "
   ]
  },
  {
   "cell_type": "markdown",
   "id": "ac2c699d-8ef2-46da-8fb3-85ba78ceecbf",
   "metadata": {},
   "source": [
    "3. Implement a multi-level inheritance scenario where a class Vehicle has an attribute type. Derive a class Car \n",
    "and further derive a class ElectricCar that adds a battery attribute."
   ]
  },
  {
   "cell_type": "code",
   "execution_count": 3,
   "id": "38995166-f52c-491b-ab5c-c1d7db242ffe",
   "metadata": {},
   "outputs": [
    {
     "name": "stdout",
     "output_type": "stream",
     "text": [
      "Vehicle type: Four Wheeler\n",
      "Car brand: Tesla\n",
      "Battery capacity: 75 kWh\n"
     ]
    }
   ],
   "source": [
    "class Vehicle:\n",
    "    def __init__(self, vehicle_type):\n",
    "        self.vehicle_type = vehicle_type\n",
    "\n",
    "    def show_type(self):\n",
    "        print(\"Vehicle type:\", self.vehicle_type)\n",
    "\n",
    "class Car(Vehicle):\n",
    "    def __init__(self, vehicle_type, brand):\n",
    "        super().__init__(vehicle_type)\n",
    "        self.brand = brand\n",
    "\n",
    "    def show_brand(self):\n",
    "        print(\"Car brand:\", self.brand)\n",
    "\n",
    "class ElectricCar(Car):\n",
    "    def __init__(self, vehicle_type, brand, battery_capacity):\n",
    "        super().__init__(vehicle_type, brand)\n",
    "        self.battery_capacity = battery_capacity\n",
    "\n",
    "    def show_battery(self):\n",
    "        print(\"Battery capacity:\", self.battery_capacity, \"kWh\")\n",
    "\n",
    "e_car = ElectricCar(\"Four Wheeler\", \"Tesla\", 75)\n",
    "\n",
    "e_car.show_type()     \n",
    "e_car.show_brand()    \n",
    "e_car.show_battery()  \n"
   ]
  },
  {
   "cell_type": "markdown",
   "id": "27cb4577-09a3-4b8f-ac6e-c7d4290ec28b",
   "metadata": {},
   "source": [
    "4. Demonstrate polymorphism by creating a base class Bird with a method fly(). Create two derived classes \n",
    "Sparrow and Penguin that override the fly() method."
   ]
  },
  {
   "cell_type": "markdown",
   "id": "640405b4-e507-44ca-83cd-a4373c86f147",
   "metadata": {},
   "source": [
    "\n",
    "class Bird:\n",
    "    def fly(self):\n",
    "        print(\"Bird is flying\")\n",
    "\n",
    "class Sparrow(Bird):\n",
    "    def fly(self):\n",
    "        print(\"Sparrow flies high in the sky\")\n",
    "\n",
    "class Penguin(Bird):\n",
    "    def fly(self):\n",
    "        print(\"Penguins can't fly, but they swim well\")\n",
    "\n",
    "\n",
    "def make_bird_fly(bird):\n",
    "    bird.fly()\n",
    "\n",
    "b = Bird()\n",
    "s = Sparrow()\n",
    "p = Penguin()\n",
    "\n",
    "make_bird_fly(b)  \n",
    "make_bird_fly(s) \n",
    "make_bird_fly(p) "
   ]
  },
  {
   "cell_type": "markdown",
   "id": "65ddf4c4-0db3-4236-b7c4-69f9ea0b9313",
   "metadata": {},
   "source": [
    "5. Write a program to demonstrate encapsulation by creating a class BankAccount with private attributes \n",
    "balance and methods to deposit, withdraw, and check balance"
   ]
  },
  {
   "cell_type": "code",
   "execution_count": 7,
   "id": "2bbbf870-40c3-4b5d-a183-2147fe3decda",
   "metadata": {},
   "outputs": [],
   "source": [
    "class BankAccount:\n",
    "    def __init__(self, initial_balance):\n",
    "        self.__balance = initial_balance  # private attribute\n",
    "\n",
    "    def deposit(self, amount):\n",
    "        if amount > 0:\n",
    "            self.__balance += amount\n",
    "            print(f\"Deposited ₹{amount}\")\n",
    "        else:\n",
    "            print(\"Invalid deposit amount\")\n",
    "\n",
    "    def withdraw(self, amount):\n",
    "        if 0 < amount <= self.__balance:\n",
    "            self.__balance -= amount\n",
    "            print(f\"Withdrew ₹{amount}\")\n",
    "        else:\n",
    "            print(\"Insufficient balance or invalid amount\")\n",
    "\n",
    "    def check_balance(self):\n",
    "        print(f\"Current balance: ₹{self.__balance}\")\n"
   ]
  },
  {
   "cell_type": "code",
   "execution_count": 8,
   "id": "9a68ebef-20bf-4871-951b-03530af95e3d",
   "metadata": {},
   "outputs": [
    {
     "name": "stdout",
     "output_type": "stream",
     "text": [
      "Current balance: ₹1000\n",
      "Deposited ₹500\n",
      "Withdrew ₹300\n",
      "Current balance: ₹1200\n"
     ]
    }
   ],
   "source": [
    "account = BankAccount(1000)\n",
    "account.check_balance()  \n",
    "account.withdraw(300)     \n",
    "account.check_balance()   \n"
   ]
  },
  {
   "cell_type": "markdown",
   "id": "9d0edf38-d8dc-40c5-954d-bde765fa5ef9",
   "metadata": {},
   "source": [
    "6. Demonstrate runtime polymorphism using a method play() in a base class Instrument. Derive classes Guitar \n",
    "and Piano that implement their own version of play()."
   ]
  },
  {
   "cell_type": "code",
   "execution_count": 9,
   "id": "5e881cba-c586-4410-8cb2-4aa480483da5",
   "metadata": {},
   "outputs": [
    {
     "name": "stdout",
     "output_type": "stream",
     "text": [
      "Guitar is strumming chords\n",
      "Piano is playing melodies\n"
     ]
    }
   ],
   "source": [
    "\n",
    "class Instrument:\n",
    "    def play(self):\n",
    "        print(\"Instrument is playing a sound\")\n",
    "\n",
    "class Guitar(Instrument):\n",
    "    def play(self):\n",
    "        print(\"Guitar is strumming chords\")\n",
    "\n",
    "\n",
    "class Piano(Instrument):\n",
    "    def play(self):\n",
    "        print(\"Piano is playing melodies\")\n",
    "\n",
    "\n",
    "def perform_play(instrument):\n",
    "    instrument.play()\n",
    "\n",
    "g = Guitar()\n",
    "p = Piano()\n",
    "\n",
    "\n",
    "perform_play(g)  \n",
    "Piano is playing melodies\n"
   ]
  },
  {
   "cell_type": "markdown",
   "id": "af452d22-45fb-41b6-828a-5aaf0eb3694d",
   "metadata": {},
   "source": [
    "7. Create a class MathOperations with a class method add_numbers() to add two numbers and a static \n",
    "method subtract_numbers() to subtract two numbers."
   ]
  },
  {
   "cell_type": "code",
   "execution_count": 10,
   "id": "63a48427-3811-40a1-bf43-8a80dc57a102",
   "metadata": {},
   "outputs": [
    {
     "name": "stdout",
     "output_type": "stream",
     "text": [
      "Sum: 15\n",
      "Difference: 5\n"
     ]
    }
   ],
   "source": [
    "class MathOperations:\n",
    "    @classmethod\n",
    "    def add_numbers(cls, a, b):\n",
    "        return a + b\n",
    "\n",
    "    @staticmethod\n",
    "    def subtract_numbers(a, b):\n",
    "        return a - b\n",
    "\n",
    "sum_result = MathOperations.add_numbers(10, 5)\n",
    "print(\"Sum:\", sum_result)  \n",
    "\n",
    "diff_result = MathOperations.subtract_numbers(10, 5)\n",
    "print(\"Difference:\", diff_result)  "
   ]
  },
  {
   "cell_type": "markdown",
   "id": "cebd3a07-e29e-4440-87cc-ee8ff39c729e",
   "metadata": {},
   "source": [
    "8. Implement a class Person with a class method to count the total number of persons created."
   ]
  },
  {
   "cell_type": "code",
   "execution_count": 11,
   "id": "61c690f8-c432-42fd-9784-c942eeff7e3c",
   "metadata": {},
   "outputs": [
    {
     "name": "stdout",
     "output_type": "stream",
     "text": [
      "Total persons created: 3\n"
     ]
    }
   ],
   "source": [
    "class Person:\n",
    "    count = 0  \n",
    "    def __init__(self, name):\n",
    "        self.name = name\n",
    "        Person.count += 1  \n",
    "    @classmethod\n",
    "    def get_person_count(cls):\n",
    "        return cls.count\n",
    "\n",
    "p1 = Person(\"Alice\")\n",
    "p2 = Person(\"Bob\")\n",
    "p3 = Person(\"Charlie\")\n",
    "\n",
    "print(\"Total persons created:\", Person.get_person_count())\n",
    "\n"
   ]
  },
  {
   "cell_type": "markdown",
   "id": "1222c128-5f3c-42ca-9bbc-3edd264cb303",
   "metadata": {},
   "source": [
    "9. Write a class Fraction with attributes numerator and denominator. Override the str method to display the \n",
    "fraction as \"numerator/denominator\"."
   ]
  },
  {
   "cell_type": "code",
   "execution_count": 12,
   "id": "b9cb4e92-1555-4591-ada9-fe3b1ee860a7",
   "metadata": {},
   "outputs": [
    {
     "name": "stdout",
     "output_type": "stream",
     "text": [
      "3/4\n",
      "7/2\n"
     ]
    }
   ],
   "source": [
    "class Fraction:\n",
    "    def __init__(self, numerator, denominator):\n",
    "        self.numerator = numerator\n",
    "        self.denominator = denominator\n",
    "\n",
    "    def __str__(self):\n",
    "        return f\"{self.numerator}/{self.denominator}\"\n",
    "\n",
    "\n",
    "f1 = Fraction(3, 4)\n",
    "f2 = Fraction(7, 2)\n",
    "\n",
    "print(f1)  \n",
    "print(f2)  \n"
   ]
  },
  {
   "cell_type": "markdown",
   "id": "7843a8e9-ac50-494f-9619-fd465c394b93",
   "metadata": {},
   "source": [
    "10. Demonstrate operator overloading by creating a class Vector and overriding the add method to add two \n",
    "vectors."
   ]
  },
  {
   "cell_type": "code",
   "execution_count": 13,
   "id": "7a870a79-f832-423e-8f06-2b5190b6084b",
   "metadata": {},
   "outputs": [
    {
     "name": "stdout",
     "output_type": "stream",
     "text": [
      "Resultant Vector: (6, 8)\n"
     ]
    }
   ],
   "source": [
    "class Vector:\n",
    "    def __init__(self, x, y):\n",
    "        self.x = x\n",
    "        self.y = y\n",
    "\n",
    "    # Overloading the + operator\n",
    "    def __add__(self, other):\n",
    "        return Vector(self.x + other.x, self.y + other.y)\n",
    "\n",
    "    def __str__(self):\n",
    "        return f\"({self.x}, {self.y})\"\n",
    "\n",
    "# Example usage:\n",
    "v1 = Vector(2, 3)\n",
    "v2 = Vector(4, 5)\n",
    "\n",
    "v3 = v1 + v2  # Uses the overloaded + operator\n",
    "print(\"Resultant Vector:\", v3)  # Output: (6, 8)\n"
   ]
  },
  {
   "cell_type": "markdown",
   "id": "6ae6d922-ee26-4786-82f1-80f726129346",
   "metadata": {},
   "source": [
    "11. Create a class Person with attributes name and age. Add a method greet() that prints \"Hello, my name is \n",
    "{name} and I am {age} years old.\""
   ]
  },
  {
   "cell_type": "code",
   "execution_count": 14,
   "id": "32d459b5-d424-447d-8f78-cb9c3a1e15f5",
   "metadata": {},
   "outputs": [
    {
     "name": "stdout",
     "output_type": "stream",
     "text": [
      "Hello, my name is Alice and I am 30 years old.\n",
      "Hello, my name is Bob and I am 25 years old.\n"
     ]
    }
   ],
   "source": [
    "class Person:\n",
    "    def __init__(self, name, age):\n",
    "        self.name = name\n",
    "        self.age = age\n",
    "\n",
    "    def greet(self):\n",
    "        print(f\"Hello, my name is {self.name} and I am {self.age} years old.\")\n",
    "\n",
    "p1 = Person(\"Alice\", 30)\n",
    "p2 = Person(\"Bob\", 25)\n",
    "\n",
    "p1.greet() \n",
    "p2.greet() \n"
   ]
  },
  {
   "cell_type": "markdown",
   "id": "418499a5-29f9-47ff-a70f-14305de82ca9",
   "metadata": {},
   "source": [
    "12. Implement a class Student with attributes name and grades. Create a method average_grade() to compute \n",
    "the average of the grades."
   ]
  },
  {
   "cell_type": "code",
   "execution_count": 15,
   "id": "1ba1e4a8-ab93-4019-b1c3-4e334187602c",
   "metadata": {},
   "outputs": [
    {
     "name": "stdout",
     "output_type": "stream",
     "text": [
      "Alice's average grade: 84.33\n",
      "Bob's average grade: 87.50\n"
     ]
    }
   ],
   "source": [
    "class Student:\n",
    "    def __init__(self, name, grades):\n",
    "        self.name = name\n",
    "        self.grades = grades  \n",
    "\n",
    "    def average_grade(self):\n",
    "        if not self.grades:\n",
    "            return 0\n",
    "        return sum(self.grades) / len(self.grades)\n",
    "\n",
    "s1 = Student(\"Alice\", [85, 90, 78])\n",
    "s2 = Student(\"Bob\", [70, 88, 92, 100])\n",
    "print(f\"{s1.name}'s average grade: {s1.average_grade():.2f}\")\n",
    "print(f\"{s2.name}'s average grade: {s2.average_grade():.2f}\")\n",
    "\n"
   ]
  },
  {
   "cell_type": "markdown",
   "id": "a79342ef-aede-4f24-a44e-7e42d6b18551",
   "metadata": {},
   "source": [
    "13. Create a class Rectangle with methods set_dimensions() to set the dimensions and area() to calculate the \n",
    "area."
   ]
  },
  {
   "cell_type": "code",
   "execution_count": 16,
   "id": "d9fa7ab7-2ad7-496d-9b56-16268b6c3ed5",
   "metadata": {},
   "outputs": [
    {
     "name": "stdout",
     "output_type": "stream",
     "text": [
      "Area of rectangle: 50\n"
     ]
    }
   ],
   "source": [
    "class Rectangle:\n",
    "    def __init__(self):\n",
    "        self.length = 0\n",
    "        self.width = 0\n",
    "\n",
    "    def set_dimensions(self, length, width):\n",
    "        self.length = length\n",
    "        self.width = width\n",
    "\n",
    "    def area(self):\n",
    "        return self.length * self.width\n",
    "\n",
    "\n",
    "rect = Rectangle()\n",
    "rect.set_dimensions(10, 5)\n",
    "print(\"Area of rectangle:\", rect.area())\n"
   ]
  },
  {
   "cell_type": "markdown",
   "id": "46150f1b-30f9-45bc-be53-5ac2de0112f3",
   "metadata": {},
   "source": [
    "14. Create a class Employee with a method calculate_salary() that computes the salary based on hours worked \n",
    "and hourly rate. Create a derived class Manager that adds a bonus to the salary"
   ]
  },
  {
   "cell_type": "code",
   "execution_count": 17,
   "id": "f04109d0-997e-40bf-af92-c27d344e9e7b",
   "metadata": {},
   "outputs": [
    {
     "name": "stdout",
     "output_type": "stream",
     "text": [
      "Employee salary: 800\n",
      "Manager salary: 1700\n"
     ]
    }
   ],
   "source": [
    "class Employee:\n",
    "    def __init__(self, hours_worked, hourly_rate):\n",
    "        self.hours_worked = hours_worked\n",
    "        self.hourly_rate = hourly_rate\n",
    "\n",
    "    def calculate_salary(self):\n",
    "        return self.hours_worked * self.hourly_rate\n",
    "\n",
    "class Manager(Employee):\n",
    "    def __init__(self, hours_worked, hourly_rate, bonus):\n",
    "        super().__init__(hours_worked, hourly_rate)\n",
    "        self.bonus = bonus\n",
    "\n",
    "    def calculate_salary(self):\n",
    "        base_salary = super().calculate_salary()\n",
    "        return base_salary + self.bonus\n",
    "\n",
    "# Example usage:\n",
    "emp = Employee(40, 20)\n",
    "print(\"Employee salary:\", emp.calculate_salary())\n",
    "\n",
    "mgr = Manager(40, 30, 500)\n",
    "print(\"Manager salary:\", mgr.calculate_salary())\n"
   ]
  },
  {
   "cell_type": "markdown",
   "id": "1c451f1d-1afc-461b-9061-5a51a6ac6ee1",
   "metadata": {},
   "source": [
    "15. Create a class Product with attributes name, price, and quantity. Implement a method total_price() that \n",
    "calculates the total price of the product"
   ]
  },
  {
   "cell_type": "code",
   "execution_count": 18,
   "id": "7b8ebc58-95e9-44a2-b2da-1e2489e62742",
   "metadata": {},
   "outputs": [
    {
     "name": "stdout",
     "output_type": "stream",
     "text": [
      "Total price for Laptop is ₹ 100000\n"
     ]
    }
   ],
   "source": [
    "class Product:\n",
    "    def __init__(self, name, price, quantity):\n",
    "        self.name = name\n",
    "        self.price = price\n",
    "        self.quantity = quantity\n",
    "\n",
    "    def total_price(self):\n",
    "        return self.price * self.quantity\n",
    "\n",
    "\n",
    "product = Product(\"Laptop\", 50000, 2)\n",
    "print(\"Total price for\", product.name, \"is ₹\", product.total_price())\n"
   ]
  },
  {
   "cell_type": "markdown",
   "id": "e1c155c8-901a-44a5-accb-59ae2738948a",
   "metadata": {},
   "source": [
    "16. Create a class Animal with an abstract method sound(). Create two derived classes Cow and Sheep that \n",
    "implement the sound() method."
   ]
  },
  {
   "cell_type": "code",
   "execution_count": 19,
   "id": "5d92bb97-5f22-4d0b-9641-7ebae9f7ccc9",
   "metadata": {},
   "outputs": [
    {
     "name": "stdout",
     "output_type": "stream",
     "text": [
      "Cow sound: Moo\n",
      "Sheep sound: Baa\n"
     ]
    }
   ],
   "source": [
    "from abc import ABC, abstractmethod\n",
    "\n",
    "class Animal(ABC):\n",
    "    @abstractmethod\n",
    "    def sound(self):\n",
    "        pass\n",
    "\n",
    "class Cow(Animal):\n",
    "    def sound(self):\n",
    "        return \"Moo\"\n",
    "\n",
    "class Sheep(Animal):\n",
    "    def sound(self):\n",
    "        return \"Baa\"\n",
    "\n",
    "cow = Cow()\n",
    "sheep = Sheep()\n",
    "\n",
    "print(\"Cow sound:\", cow.sound())\n",
    "print(\"Sheep sound:\", sheep.sound())\n"
   ]
  },
  {
   "cell_type": "markdown",
   "id": "986f1701-1552-4a25-84f3-0e440c5561ef",
   "metadata": {},
   "source": [
    "17. Create a class Book with attributes title, author, and year_published. Add a method get_book_info() that \n",
    "returns a formatted string with the book's details"
   ]
  },
  {
   "cell_type": "code",
   "execution_count": 20,
   "id": "dcd96dbd-011d-4465-bcf8-874509f98775",
   "metadata": {},
   "outputs": [
    {
     "name": "stdout",
     "output_type": "stream",
     "text": [
      "'To Kill a Mockingbird' by Harper Lee, published in 1960\n"
     ]
    }
   ],
   "source": [
    "class Book:\n",
    "    def __init__(self, title, author, year_published):\n",
    "        self.title = title\n",
    "        self.author = author\n",
    "        self.year_published = year_published\n",
    "\n",
    "    def get_book_info(self):\n",
    "        return f\"'{self.title}' by {self.author}, published in {self.year_published}\"\n",
    "\n",
    "book = Book(\"To Kill a Mockingbird\", \"Harper Lee\", 1960)\n",
    "print(book.get_book_info())\n"
   ]
  },
  {
   "cell_type": "markdown",
   "id": "0e74e9cc-df5c-4c44-b97a-308fb38e2794",
   "metadata": {},
   "source": [
    "18. Create a class House with attributes address and price. Create a derived class Mansion that adds an \n",
    "attribute number_of_rooms."
   ]
  },
  {
   "cell_type": "code",
   "execution_count": 21,
   "id": "2963dcef-0b27-48c0-a637-ebca64e0f4d4",
   "metadata": {},
   "outputs": [
    {
     "name": "stdout",
     "output_type": "stream",
     "text": [
      "Address: 123 Palm Street, Mumbai, Price: ₹150000000, Rooms: 10\n"
     ]
    }
   ],
   "source": [
    "class House:\n",
    "    def __init__(self, address, price):\n",
    "        self.address = address\n",
    "        self.price = price\n",
    "\n",
    "    def get_info(self):\n",
    "        return f\"Address: {self.address}, Price: ₹{self.price}\"\n",
    "\n",
    "class Mansion(House):\n",
    "    def __init__(self, address, price, number_of_rooms):\n",
    "        super().__init__(address, price)\n",
    "        self.number_of_rooms = number_of_rooms\n",
    "\n",
    "    def get_info(self):\n",
    "        return f\"{super().get_info()}, Rooms: {self.number_of_rooms}\"\n",
    "\n",
    "\n",
    "mansion = Mansion(\"123 Palm Street, Mumbai\", 150000000, 10)\n",
    "print(mansion.get_info())\n"
   ]
  },
  {
   "cell_type": "code",
   "execution_count": null,
   "id": "55ca590b-a00e-43ff-a516-bbae5a0bee07",
   "metadata": {},
   "outputs": [],
   "source": []
  },
  {
   "cell_type": "code",
   "execution_count": null,
   "id": "04ef8169-328a-44b1-82bb-712f179678a5",
   "metadata": {},
   "outputs": [],
   "source": []
  }
 ],
 "metadata": {
  "kernelspec": {
   "display_name": "Python 3 (ipykernel)",
   "language": "python",
   "name": "python3"
  },
  "language_info": {
   "codemirror_mode": {
    "name": "ipython",
    "version": 3
   },
   "file_extension": ".py",
   "mimetype": "text/x-python",
   "name": "python",
   "nbconvert_exporter": "python",
   "pygments_lexer": "ipython3",
   "version": "3.13.3"
  }
 },
 "nbformat": 4,
 "nbformat_minor": 5
}
